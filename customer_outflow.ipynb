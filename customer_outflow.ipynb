{
 "cells": [
  {
   "cell_type": "markdown",
   "metadata": {
    "toc": true
   },
   "source": [
    "<h1>Содержание<span class=\"tocSkip\"></span></h1>\n",
    "<div class=\"toc\"><ul class=\"toc-item\"><li><span><a href=\"#Подготовка-данных\" data-toc-modified-id=\"Подготовка-данных-1\"><span class=\"toc-item-num\">1&nbsp;&nbsp;</span>Подготовка данных</a></span><ul class=\"toc-item\"><li><span><a href=\"#Признаки\" data-toc-modified-id=\"Признаки-1.1\"><span class=\"toc-item-num\">1.1&nbsp;&nbsp;</span>Признаки</a></span></li><li><span><a href=\"#Целевой-признак\" data-toc-modified-id=\"Целевой-признак-1.2\"><span class=\"toc-item-num\">1.2&nbsp;&nbsp;</span>Целевой признак</a></span></li><li><span><a href=\"#Необходимые-изменения\" data-toc-modified-id=\"Необходимые-изменения-1.3\"><span class=\"toc-item-num\">1.3&nbsp;&nbsp;</span>Необходимые изменения</a></span></li><li><span><a href=\"#Подготовка-признаков-для-машинного-обучения\" data-toc-modified-id=\"Подготовка-признаков-для-машинного-обучения-1.4\"><span class=\"toc-item-num\">1.4&nbsp;&nbsp;</span>Подготовка признаков для машинного обучения</a></span></li><li><span><a href=\"#Разделим-данные-на-выборки\" data-toc-modified-id=\"Разделим-данные-на-выборки-1.5\"><span class=\"toc-item-num\">1.5&nbsp;&nbsp;</span>Разделим данные на выборки</a></span></li><li><span><a href=\"#Маштабирование-признаков\" data-toc-modified-id=\"Маштабирование-признаков-1.6\"><span class=\"toc-item-num\">1.6&nbsp;&nbsp;</span>Маштабирование признаков</a></span></li></ul></li><li><span><a href=\"#Вывод\" data-toc-modified-id=\"Вывод-2\"><span class=\"toc-item-num\">2&nbsp;&nbsp;</span>Вывод</a></span></li><li><span><a href=\"#Исследование-задачи\" data-toc-modified-id=\"Исследование-задачи-3\"><span class=\"toc-item-num\">3&nbsp;&nbsp;</span>Исследование задачи</a></span><ul class=\"toc-item\"><li><span><a href=\"#Исследуем-баланс-классов.\" data-toc-modified-id=\"Исследуем-баланс-классов.-3.1\"><span class=\"toc-item-num\">3.1&nbsp;&nbsp;</span>Исследуем баланс классов.</a></span></li><li><span><a href=\"#Обучение-моделей\" data-toc-modified-id=\"Обучение-моделей-3.2\"><span class=\"toc-item-num\">3.2&nbsp;&nbsp;</span>Обучение моделей</a></span><ul class=\"toc-item\"><li><span><a href=\"#Логистическая-регрессия\" data-toc-modified-id=\"Логистическая-регрессия-3.2.1\"><span class=\"toc-item-num\">3.2.1&nbsp;&nbsp;</span>Логистическая регрессия</a></span></li><li><span><a href=\"#Вывод\" data-toc-modified-id=\"Вывод-3.2.2\"><span class=\"toc-item-num\">3.2.2&nbsp;&nbsp;</span>Вывод</a></span></li><li><span><a href=\"#Дерево-решений\" data-toc-modified-id=\"Дерево-решений-3.2.3\"><span class=\"toc-item-num\">3.2.3&nbsp;&nbsp;</span>Дерево решений</a></span></li><li><span><a href=\"#Вывод\" data-toc-modified-id=\"Вывод-3.2.4\"><span class=\"toc-item-num\">3.2.4&nbsp;&nbsp;</span>Вывод</a></span></li><li><span><a href=\"#Случайный-лес\" data-toc-modified-id=\"Случайный-лес-3.2.5\"><span class=\"toc-item-num\">3.2.5&nbsp;&nbsp;</span>Случайный лес</a></span></li><li><span><a href=\"#Вывод\" data-toc-modified-id=\"Вывод-3.2.6\"><span class=\"toc-item-num\">3.2.6&nbsp;&nbsp;</span>Вывод</a></span><ul class=\"toc-item\"><li><span><a href=\"#Вывод\" data-toc-modified-id=\"Вывод-3.2.6.1\"><span class=\"toc-item-num\">3.2.6.1&nbsp;&nbsp;</span>Вывод</a></span></li></ul></li></ul></li></ul></li><li><span><a href=\"#Борьба-с-дисбалансом\" data-toc-modified-id=\"Борьба-с-дисбалансом-4\"><span class=\"toc-item-num\">4&nbsp;&nbsp;</span>Борьба с дисбалансом</a></span><ul class=\"toc-item\"><li><span><a href=\"#Взвешивание-классов\" data-toc-modified-id=\"Взвешивание-классов-4.1\"><span class=\"toc-item-num\">4.1&nbsp;&nbsp;</span>Взвешивание классов</a></span><ul class=\"toc-item\"><li><span><a href=\"#Логистическая-регрессия\" data-toc-modified-id=\"Логистическая-регрессия-4.1.1\"><span class=\"toc-item-num\">4.1.1&nbsp;&nbsp;</span>Логистическая регрессия</a></span></li><li><span><a href=\"#Вывод\" data-toc-modified-id=\"Вывод-4.1.2\"><span class=\"toc-item-num\">4.1.2&nbsp;&nbsp;</span>Вывод</a></span></li><li><span><a href=\"#Дерево-решений\" data-toc-modified-id=\"Дерево-решений-4.1.3\"><span class=\"toc-item-num\">4.1.3&nbsp;&nbsp;</span>Дерево решений</a></span></li><li><span><a href=\"#Вывод\" data-toc-modified-id=\"Вывод-4.1.4\"><span class=\"toc-item-num\">4.1.4&nbsp;&nbsp;</span>Вывод</a></span></li><li><span><a href=\"#Случайный-лес\" data-toc-modified-id=\"Случайный-лес-4.1.5\"><span class=\"toc-item-num\">4.1.5&nbsp;&nbsp;</span>Случайный лес</a></span></li><li><span><a href=\"#Вывод\" data-toc-modified-id=\"Вывод-4.1.6\"><span class=\"toc-item-num\">4.1.6&nbsp;&nbsp;</span>Вывод</a></span></li></ul></li><li><span><a href=\"#Вывод\" data-toc-modified-id=\"Вывод-4.2\"><span class=\"toc-item-num\">4.2&nbsp;&nbsp;</span>Вывод</a></span></li><li><span><a href=\"#Увеличение-выборки-(upsampling)\" data-toc-modified-id=\"Увеличение-выборки-(upsampling)-4.3\"><span class=\"toc-item-num\">4.3&nbsp;&nbsp;</span>Увеличение выборки (upsampling)</a></span><ul class=\"toc-item\"><li><span><a href=\"#Логистическая-регрессия\" data-toc-modified-id=\"Логистическая-регрессия-4.3.1\"><span class=\"toc-item-num\">4.3.1&nbsp;&nbsp;</span>Логистическая регрессия</a></span></li><li><span><a href=\"#Вывод\" data-toc-modified-id=\"Вывод-4.3.2\"><span class=\"toc-item-num\">4.3.2&nbsp;&nbsp;</span>Вывод</a></span></li><li><span><a href=\"#Дерево-решений\" data-toc-modified-id=\"Дерево-решений-4.3.3\"><span class=\"toc-item-num\">4.3.3&nbsp;&nbsp;</span>Дерево решений</a></span></li><li><span><a href=\"#Вывод\" data-toc-modified-id=\"Вывод-4.3.4\"><span class=\"toc-item-num\">4.3.4&nbsp;&nbsp;</span>Вывод</a></span></li><li><span><a href=\"#Случайный-лес\" data-toc-modified-id=\"Случайный-лес-4.3.5\"><span class=\"toc-item-num\">4.3.5&nbsp;&nbsp;</span>Случайный лес</a></span></li><li><span><a href=\"#Вывод\" data-toc-modified-id=\"Вывод-4.3.6\"><span class=\"toc-item-num\">4.3.6&nbsp;&nbsp;</span>Вывод</a></span></li></ul></li><li><span><a href=\"#Уменьшение-выборки-(downsampling)\" data-toc-modified-id=\"Уменьшение-выборки-(downsampling)-4.4\"><span class=\"toc-item-num\">4.4&nbsp;&nbsp;</span>Уменьшение выборки (downsampling)</a></span><ul class=\"toc-item\"><li><span><a href=\"#Логистическая-регрессия\" data-toc-modified-id=\"Логистическая-регрессия-4.4.1\"><span class=\"toc-item-num\">4.4.1&nbsp;&nbsp;</span>Логистическая регрессия</a></span></li><li><span><a href=\"#Вывод\" data-toc-modified-id=\"Вывод-4.4.2\"><span class=\"toc-item-num\">4.4.2&nbsp;&nbsp;</span>Вывод</a></span></li><li><span><a href=\"#Дерево-решений\" data-toc-modified-id=\"Дерево-решений-4.4.3\"><span class=\"toc-item-num\">4.4.3&nbsp;&nbsp;</span>Дерево решений</a></span></li><li><span><a href=\"#Вывод\" data-toc-modified-id=\"Вывод-4.4.4\"><span class=\"toc-item-num\">4.4.4&nbsp;&nbsp;</span>Вывод</a></span></li><li><span><a href=\"#Случайный-лес\" data-toc-modified-id=\"Случайный-лес-4.4.5\"><span class=\"toc-item-num\">4.4.5&nbsp;&nbsp;</span>Случайный лес</a></span></li><li><span><a href=\"#Вывод\" data-toc-modified-id=\"Вывод-4.4.6\"><span class=\"toc-item-num\">4.4.6&nbsp;&nbsp;</span>Вывод</a></span></li></ul></li><li><span><a href=\"#Общий-вывод\" data-toc-modified-id=\"Общий-вывод-4.5\"><span class=\"toc-item-num\">4.5&nbsp;&nbsp;</span>Общий вывод</a></span></li></ul></li><li><span><a href=\"#Тестирование-модели\" data-toc-modified-id=\"Тестирование-модели-5\"><span class=\"toc-item-num\">5&nbsp;&nbsp;</span>Тестирование модели</a></span><ul class=\"toc-item\"><li><span><a href=\"#Объединим-обучающую-и-валидационную-выборки\" data-toc-modified-id=\"Объединим-обучающую-и-валидационную-выборки-5.1\"><span class=\"toc-item-num\">5.1&nbsp;&nbsp;</span>Объединим обучающую и валидационную выборки</a></span></li></ul></li></ul></div>"
   ]
  },
  {
   "cell_type": "markdown",
   "metadata": {},
   "source": [
    "# Отток клиентов"
   ]
  },
  {
   "cell_type": "markdown",
   "metadata": {},
   "source": [
    "## Подготовка данных"
   ]
  },
  {
   "cell_type": "markdown",
   "metadata": {},
   "source": [
    "### Признаки"
   ]
  },
  {
   "cell_type": "markdown",
   "metadata": {},
   "source": [
    "- RowNumber — индекс строки в данных\n",
    "- CustomerId — уникальный идентификатор клиента\n",
    "- Surname — фамилия\n",
    "- CreditScore — кредитный рейтинг\n",
    "- Geography — страна проживания\n",
    "- Gender — пол\n",
    "- Age — возраст\n",
    "- Tenure — сколько лет человек является клиентом банка\n",
    "- Balance — баланс на счёте\n",
    "- NumOfProducts — количество продуктов банка, используемых клиентом\n",
    "- HasCrCard — наличие кредитной карты\n",
    "- IsActiveMember — активность клиента\n",
    "- EstimatedSalary — предполагаемая зарплата"
   ]
  },
  {
   "cell_type": "markdown",
   "metadata": {},
   "source": [
    "### Целевой признак"
   ]
  },
  {
   "cell_type": "markdown",
   "metadata": {},
   "source": [
    "Exited — факт ухода клиента"
   ]
  },
  {
   "cell_type": "code",
   "execution_count": 1,
   "metadata": {},
   "outputs": [],
   "source": [
    "import pandas as pd\n",
    "import numpy as np\n",
    "\n",
    "from sklearn.dummy import DummyClassifier\n",
    "from sklearn.ensemble import RandomForestClassifier\n",
    "from sklearn.linear_model import LogisticRegression\n",
    "from sklearn.tree import DecisionTreeClassifier\n",
    "from sklearn.model_selection import train_test_split\n",
    "from tqdm import tqdm\n",
    "from sklearn.preprocessing import OrdinalEncoder\n",
    "from sklearn.preprocessing import StandardScaler\n",
    "from sklearn.model_selection import GridSearchCV\n",
    "from sklearn.metrics import f1_score\n",
    "from sklearn.utils import shuffle\n",
    "from sklearn.metrics import roc_auc_score\n",
    "\n",
    "import warnings\n",
    "warnings.filterwarnings('ignore') "
   ]
  },
  {
   "cell_type": "code",
   "execution_count": 2,
   "metadata": {},
   "outputs": [],
   "source": [
    "df = pd.read_csv('Churn.csv')"
   ]
  },
  {
   "cell_type": "code",
   "execution_count": 3,
   "metadata": {
    "scrolled": true
   },
   "outputs": [
    {
     "data": {
      "text/html": [
       "<div>\n",
       "<style scoped>\n",
       "    .dataframe tbody tr th:only-of-type {\n",
       "        vertical-align: middle;\n",
       "    }\n",
       "\n",
       "    .dataframe tbody tr th {\n",
       "        vertical-align: top;\n",
       "    }\n",
       "\n",
       "    .dataframe thead th {\n",
       "        text-align: right;\n",
       "    }\n",
       "</style>\n",
       "<table border=\"1\" class=\"dataframe\">\n",
       "  <thead>\n",
       "    <tr style=\"text-align: right;\">\n",
       "      <th></th>\n",
       "      <th>RowNumber</th>\n",
       "      <th>CustomerId</th>\n",
       "      <th>Surname</th>\n",
       "      <th>CreditScore</th>\n",
       "      <th>Geography</th>\n",
       "      <th>Gender</th>\n",
       "      <th>Age</th>\n",
       "      <th>Tenure</th>\n",
       "      <th>Balance</th>\n",
       "      <th>NumOfProducts</th>\n",
       "      <th>HasCrCard</th>\n",
       "      <th>IsActiveMember</th>\n",
       "      <th>EstimatedSalary</th>\n",
       "      <th>Exited</th>\n",
       "    </tr>\n",
       "  </thead>\n",
       "  <tbody>\n",
       "    <tr>\n",
       "      <th>9328</th>\n",
       "      <td>9329</td>\n",
       "      <td>15763093</td>\n",
       "      <td>Nucci</td>\n",
       "      <td>540</td>\n",
       "      <td>Germany</td>\n",
       "      <td>Female</td>\n",
       "      <td>35</td>\n",
       "      <td>7.0</td>\n",
       "      <td>128369.75</td>\n",
       "      <td>2</td>\n",
       "      <td>1</td>\n",
       "      <td>0</td>\n",
       "      <td>198256.15</td>\n",
       "      <td>0</td>\n",
       "    </tr>\n",
       "    <tr>\n",
       "      <th>3588</th>\n",
       "      <td>3589</td>\n",
       "      <td>15571958</td>\n",
       "      <td>McIntosh</td>\n",
       "      <td>489</td>\n",
       "      <td>Spain</td>\n",
       "      <td>Male</td>\n",
       "      <td>40</td>\n",
       "      <td>3.0</td>\n",
       "      <td>221532.80</td>\n",
       "      <td>1</td>\n",
       "      <td>1</td>\n",
       "      <td>0</td>\n",
       "      <td>171867.08</td>\n",
       "      <td>0</td>\n",
       "    </tr>\n",
       "    <tr>\n",
       "      <th>8029</th>\n",
       "      <td>8030</td>\n",
       "      <td>15732113</td>\n",
       "      <td>Butters</td>\n",
       "      <td>671</td>\n",
       "      <td>Spain</td>\n",
       "      <td>Male</td>\n",
       "      <td>50</td>\n",
       "      <td>8.0</td>\n",
       "      <td>0.00</td>\n",
       "      <td>1</td>\n",
       "      <td>0</td>\n",
       "      <td>1</td>\n",
       "      <td>2560.11</td>\n",
       "      <td>0</td>\n",
       "    </tr>\n",
       "    <tr>\n",
       "      <th>1265</th>\n",
       "      <td>1266</td>\n",
       "      <td>15662291</td>\n",
       "      <td>Davidson</td>\n",
       "      <td>534</td>\n",
       "      <td>France</td>\n",
       "      <td>Female</td>\n",
       "      <td>55</td>\n",
       "      <td>NaN</td>\n",
       "      <td>116973.26</td>\n",
       "      <td>3</td>\n",
       "      <td>1</td>\n",
       "      <td>0</td>\n",
       "      <td>122066.50</td>\n",
       "      <td>1</td>\n",
       "    </tr>\n",
       "    <tr>\n",
       "      <th>2121</th>\n",
       "      <td>2122</td>\n",
       "      <td>15583576</td>\n",
       "      <td>Tai</td>\n",
       "      <td>671</td>\n",
       "      <td>France</td>\n",
       "      <td>Male</td>\n",
       "      <td>30</td>\n",
       "      <td>NaN</td>\n",
       "      <td>0.00</td>\n",
       "      <td>1</td>\n",
       "      <td>0</td>\n",
       "      <td>1</td>\n",
       "      <td>102057.86</td>\n",
       "      <td>0</td>\n",
       "    </tr>\n",
       "  </tbody>\n",
       "</table>\n",
       "</div>"
      ],
      "text/plain": [
       "      RowNumber  CustomerId   Surname  CreditScore Geography  Gender  Age  \\\n",
       "9328       9329    15763093     Nucci          540   Germany  Female   35   \n",
       "3588       3589    15571958  McIntosh          489     Spain    Male   40   \n",
       "8029       8030    15732113   Butters          671     Spain    Male   50   \n",
       "1265       1266    15662291  Davidson          534    France  Female   55   \n",
       "2121       2122    15583576       Tai          671    France    Male   30   \n",
       "\n",
       "      Tenure    Balance  NumOfProducts  HasCrCard  IsActiveMember  \\\n",
       "9328     7.0  128369.75              2          1               0   \n",
       "3588     3.0  221532.80              1          1               0   \n",
       "8029     8.0       0.00              1          0               1   \n",
       "1265     NaN  116973.26              3          1               0   \n",
       "2121     NaN       0.00              1          0               1   \n",
       "\n",
       "      EstimatedSalary  Exited  \n",
       "9328        198256.15       0  \n",
       "3588        171867.08       0  \n",
       "8029          2560.11       0  \n",
       "1265        122066.50       1  \n",
       "2121        102057.86       0  "
      ]
     },
     "execution_count": 3,
     "metadata": {},
     "output_type": "execute_result"
    }
   ],
   "source": [
    "df.sample(5)"
   ]
  },
  {
   "cell_type": "code",
   "execution_count": 4,
   "metadata": {},
   "outputs": [
    {
     "data": {
      "text/plain": [
       "Index(['rownumber', 'customerid', 'surname', 'creditscore', 'geography',\n",
       "       'gender', 'age', 'tenure', 'balance', 'numofproducts', 'hascrcard',\n",
       "       'isactivemember', 'estimatedsalary', 'exited'],\n",
       "      dtype='object')"
      ]
     },
     "execution_count": 4,
     "metadata": {},
     "output_type": "execute_result"
    }
   ],
   "source": [
    "#Приведем строки в нижнему регистру\n",
    "df.columns.str.lower()"
   ]
  },
  {
   "cell_type": "code",
   "execution_count": 5,
   "metadata": {},
   "outputs": [],
   "source": [
    "#Оформим строки\n",
    "df.columns = ['row_number', 'customer_id', 'surname', 'credit_score', 'geography',\n",
    "       'gender', 'age', 'tenure', 'balance', 'num_of_products', 'ha_sc_rcard',\n",
    "       'is_active_member', 'estimated_salary', 'exited']"
   ]
  },
  {
   "cell_type": "code",
   "execution_count": 6,
   "metadata": {},
   "outputs": [
    {
     "data": {
      "text/html": [
       "<div>\n",
       "<style scoped>\n",
       "    .dataframe tbody tr th:only-of-type {\n",
       "        vertical-align: middle;\n",
       "    }\n",
       "\n",
       "    .dataframe tbody tr th {\n",
       "        vertical-align: top;\n",
       "    }\n",
       "\n",
       "    .dataframe thead th {\n",
       "        text-align: right;\n",
       "    }\n",
       "</style>\n",
       "<table border=\"1\" class=\"dataframe\">\n",
       "  <thead>\n",
       "    <tr style=\"text-align: right;\">\n",
       "      <th></th>\n",
       "      <th>row_number</th>\n",
       "      <th>customer_id</th>\n",
       "      <th>surname</th>\n",
       "      <th>credit_score</th>\n",
       "      <th>geography</th>\n",
       "      <th>gender</th>\n",
       "      <th>age</th>\n",
       "      <th>tenure</th>\n",
       "      <th>balance</th>\n",
       "      <th>num_of_products</th>\n",
       "      <th>ha_sc_rcard</th>\n",
       "      <th>is_active_member</th>\n",
       "      <th>estimated_salary</th>\n",
       "      <th>exited</th>\n",
       "    </tr>\n",
       "  </thead>\n",
       "  <tbody>\n",
       "    <tr>\n",
       "      <th>3196</th>\n",
       "      <td>3197</td>\n",
       "      <td>15675791</td>\n",
       "      <td>Williams</td>\n",
       "      <td>610</td>\n",
       "      <td>France</td>\n",
       "      <td>Male</td>\n",
       "      <td>36</td>\n",
       "      <td>4.0</td>\n",
       "      <td>129440.30</td>\n",
       "      <td>2</td>\n",
       "      <td>1</td>\n",
       "      <td>0</td>\n",
       "      <td>102638.35</td>\n",
       "      <td>0</td>\n",
       "    </tr>\n",
       "    <tr>\n",
       "      <th>1266</th>\n",
       "      <td>1267</td>\n",
       "      <td>15749050</td>\n",
       "      <td>Justice</td>\n",
       "      <td>548</td>\n",
       "      <td>France</td>\n",
       "      <td>Female</td>\n",
       "      <td>36</td>\n",
       "      <td>3.0</td>\n",
       "      <td>0.00</td>\n",
       "      <td>1</td>\n",
       "      <td>1</td>\n",
       "      <td>0</td>\n",
       "      <td>65996.90</td>\n",
       "      <td>0</td>\n",
       "    </tr>\n",
       "    <tr>\n",
       "      <th>9909</th>\n",
       "      <td>9910</td>\n",
       "      <td>15773338</td>\n",
       "      <td>Endrizzi</td>\n",
       "      <td>739</td>\n",
       "      <td>France</td>\n",
       "      <td>Male</td>\n",
       "      <td>58</td>\n",
       "      <td>2.0</td>\n",
       "      <td>101579.28</td>\n",
       "      <td>1</td>\n",
       "      <td>1</td>\n",
       "      <td>1</td>\n",
       "      <td>72168.53</td>\n",
       "      <td>0</td>\n",
       "    </tr>\n",
       "    <tr>\n",
       "      <th>1683</th>\n",
       "      <td>1684</td>\n",
       "      <td>15709387</td>\n",
       "      <td>Obiajulu</td>\n",
       "      <td>711</td>\n",
       "      <td>France</td>\n",
       "      <td>Male</td>\n",
       "      <td>52</td>\n",
       "      <td>5.0</td>\n",
       "      <td>0.00</td>\n",
       "      <td>1</td>\n",
       "      <td>1</td>\n",
       "      <td>1</td>\n",
       "      <td>159808.95</td>\n",
       "      <td>0</td>\n",
       "    </tr>\n",
       "    <tr>\n",
       "      <th>7345</th>\n",
       "      <td>7346</td>\n",
       "      <td>15567834</td>\n",
       "      <td>Nieves</td>\n",
       "      <td>719</td>\n",
       "      <td>France</td>\n",
       "      <td>Male</td>\n",
       "      <td>49</td>\n",
       "      <td>5.0</td>\n",
       "      <td>105918.10</td>\n",
       "      <td>1</td>\n",
       "      <td>1</td>\n",
       "      <td>1</td>\n",
       "      <td>16246.59</td>\n",
       "      <td>0</td>\n",
       "    </tr>\n",
       "  </tbody>\n",
       "</table>\n",
       "</div>"
      ],
      "text/plain": [
       "      row_number  customer_id   surname  credit_score geography  gender  age  \\\n",
       "3196        3197     15675791  Williams           610    France    Male   36   \n",
       "1266        1267     15749050   Justice           548    France  Female   36   \n",
       "9909        9910     15773338  Endrizzi           739    France    Male   58   \n",
       "1683        1684     15709387  Obiajulu           711    France    Male   52   \n",
       "7345        7346     15567834    Nieves           719    France    Male   49   \n",
       "\n",
       "      tenure    balance  num_of_products  ha_sc_rcard  is_active_member  \\\n",
       "3196     4.0  129440.30                2            1                 0   \n",
       "1266     3.0       0.00                1            1                 0   \n",
       "9909     2.0  101579.28                1            1                 1   \n",
       "1683     5.0       0.00                1            1                 1   \n",
       "7345     5.0  105918.10                1            1                 1   \n",
       "\n",
       "      estimated_salary  exited  \n",
       "3196         102638.35       0  \n",
       "1266          65996.90       0  \n",
       "9909          72168.53       0  \n",
       "1683         159808.95       0  \n",
       "7345          16246.59       0  "
      ]
     },
     "execution_count": 6,
     "metadata": {},
     "output_type": "execute_result"
    }
   ],
   "source": [
    "df.sample(5)"
   ]
  },
  {
   "cell_type": "code",
   "execution_count": 7,
   "metadata": {},
   "outputs": [
    {
     "data": {
      "text/plain": [
       "row_number            0\n",
       "customer_id           0\n",
       "surname               0\n",
       "credit_score          0\n",
       "geography             0\n",
       "gender                0\n",
       "age                   0\n",
       "tenure              909\n",
       "balance               0\n",
       "num_of_products       0\n",
       "ha_sc_rcard           0\n",
       "is_active_member      0\n",
       "estimated_salary      0\n",
       "exited                0\n",
       "dtype: int64"
      ]
     },
     "execution_count": 7,
     "metadata": {},
     "output_type": "execute_result"
    }
   ],
   "source": [
    "#Проверим пропуски\n",
    "df.isnull().sum()"
   ]
  },
  {
   "cell_type": "code",
   "execution_count": 8,
   "metadata": {},
   "outputs": [
    {
     "data": {
      "text/plain": [
       "(10000, 14)"
      ]
     },
     "execution_count": 8,
     "metadata": {},
     "output_type": "execute_result"
    }
   ],
   "source": [
    "df.shape"
   ]
  },
  {
   "cell_type": "code",
   "execution_count": 9,
   "metadata": {},
   "outputs": [],
   "source": [
    "# Ищем медиану по столбцу tenure для разного возраста\n",
    "data_transformed = df.groupby('age')['tenure'].transform('median')\n",
    "data_transformed.value_counts()\n",
    "#Перезапишем столбец days_employed\n",
    "df['tenure'] = df['tenure'].fillna(data_transformed)"
   ]
  },
  {
   "cell_type": "code",
   "execution_count": 10,
   "metadata": {},
   "outputs": [
    {
     "data": {
      "text/plain": [
       "row_number          0\n",
       "customer_id         0\n",
       "surname             0\n",
       "credit_score        0\n",
       "geography           0\n",
       "gender              0\n",
       "age                 0\n",
       "tenure              0\n",
       "balance             0\n",
       "num_of_products     0\n",
       "ha_sc_rcard         0\n",
       "is_active_member    0\n",
       "estimated_salary    0\n",
       "exited              0\n",
       "dtype: int64"
      ]
     },
     "execution_count": 10,
     "metadata": {},
     "output_type": "execute_result"
    }
   ],
   "source": [
    "#Проверим все ли пропуски заполнились\n",
    "df.isnull().sum()"
   ]
  },
  {
   "cell_type": "markdown",
   "metadata": {},
   "source": [
    "### Необходимые изменения\n",
    "row_number — столбец обозначает порядковый номер строки и дублирует по сути индекс датафрейма - столбец можно удалить.\n",
    "\n",
    "customer_id — является идентификатором пользователя дубликаты отсутствуют — стоблец можно удалить.\n",
    "\n",
    "surname — столбец можно удалить, т.к. не несет ценности для качества будущей модели.\n",
    "\n",
    "geography — всего 3 уникальных значения France', 'Germany', 'Spain' — можно преобразовать категориальные признаки в численные при помощи техники прямого кодирования One-Hot Encoding (далее, OHE).\n",
    "\n",
    "gender — можно преобразовать категориальные признаки в численные при помощи OHE."
   ]
  },
  {
   "cell_type": "code",
   "execution_count": 11,
   "metadata": {},
   "outputs": [
    {
     "data": {
      "text/plain": [
       "France     5014\n",
       "Germany    2509\n",
       "Spain      2477\n",
       "Name: geography, dtype: int64"
      ]
     },
     "execution_count": 11,
     "metadata": {},
     "output_type": "execute_result"
    }
   ],
   "source": [
    "df['geography'].value_counts()"
   ]
  },
  {
   "cell_type": "code",
   "execution_count": 12,
   "metadata": {},
   "outputs": [
    {
     "data": {
      "text/plain": [
       "15634602    1\n",
       "15667932    1\n",
       "15766185    1\n",
       "15667632    1\n",
       "15599024    1\n",
       "           ..\n",
       "15599078    1\n",
       "15702300    1\n",
       "15660735    1\n",
       "15671390    1\n",
       "15628319    1\n",
       "Name: customer_id, Length: 10000, dtype: int64"
      ]
     },
     "execution_count": 12,
     "metadata": {},
     "output_type": "execute_result"
    }
   ],
   "source": [
    "df['customer_id'].value_counts()"
   ]
  },
  {
   "cell_type": "code",
   "execution_count": 13,
   "metadata": {},
   "outputs": [
    {
     "data": {
      "text/plain": [
       "0"
      ]
     },
     "execution_count": 13,
     "metadata": {},
     "output_type": "execute_result"
    }
   ],
   "source": [
    "df.duplicated().sum()"
   ]
  },
  {
   "cell_type": "code",
   "execution_count": 14,
   "metadata": {},
   "outputs": [
    {
     "data": {
      "text/plain": [
       "<bound method DataFrame.info of       row_number  customer_id    surname  credit_score geography  gender  age  \\\n",
       "0              1     15634602   Hargrave           619    France  Female   42   \n",
       "1              2     15647311       Hill           608     Spain  Female   41   \n",
       "2              3     15619304       Onio           502    France  Female   42   \n",
       "3              4     15701354       Boni           699    France  Female   39   \n",
       "4              5     15737888   Mitchell           850     Spain  Female   43   \n",
       "...          ...          ...        ...           ...       ...     ...  ...   \n",
       "9995        9996     15606229   Obijiaku           771    France    Male   39   \n",
       "9996        9997     15569892  Johnstone           516    France    Male   35   \n",
       "9997        9998     15584532        Liu           709    France  Female   36   \n",
       "9998        9999     15682355  Sabbatini           772   Germany    Male   42   \n",
       "9999       10000     15628319     Walker           792    France  Female   28   \n",
       "\n",
       "      tenure    balance  num_of_products  ha_sc_rcard  is_active_member  \\\n",
       "0        2.0       0.00                1            1                 1   \n",
       "1        1.0   83807.86                1            0                 1   \n",
       "2        8.0  159660.80                3            1                 0   \n",
       "3        1.0       0.00                2            0                 0   \n",
       "4        2.0  125510.82                1            1                 1   \n",
       "...      ...        ...              ...          ...               ...   \n",
       "9995     5.0       0.00                2            1                 0   \n",
       "9996    10.0   57369.61                1            1                 1   \n",
       "9997     7.0       0.00                1            0                 1   \n",
       "9998     3.0   75075.31                2            1                 0   \n",
       "9999     5.0  130142.79                1            1                 0   \n",
       "\n",
       "      estimated_salary  exited  \n",
       "0            101348.88       1  \n",
       "1            112542.58       0  \n",
       "2            113931.57       1  \n",
       "3             93826.63       0  \n",
       "4             79084.10       0  \n",
       "...                ...     ...  \n",
       "9995          96270.64       0  \n",
       "9996         101699.77       0  \n",
       "9997          42085.58       1  \n",
       "9998          92888.52       1  \n",
       "9999          38190.78       0  \n",
       "\n",
       "[10000 rows x 14 columns]>"
      ]
     },
     "execution_count": 14,
     "metadata": {},
     "output_type": "execute_result"
    }
   ],
   "source": [
    "df.info"
   ]
  },
  {
   "cell_type": "code",
   "execution_count": 15,
   "metadata": {},
   "outputs": [
    {
     "data": {
      "text/html": [
       "<div>\n",
       "<style scoped>\n",
       "    .dataframe tbody tr th:only-of-type {\n",
       "        vertical-align: middle;\n",
       "    }\n",
       "\n",
       "    .dataframe tbody tr th {\n",
       "        vertical-align: top;\n",
       "    }\n",
       "\n",
       "    .dataframe thead th {\n",
       "        text-align: right;\n",
       "    }\n",
       "</style>\n",
       "<table border=\"1\" class=\"dataframe\">\n",
       "  <thead>\n",
       "    <tr style=\"text-align: right;\">\n",
       "      <th></th>\n",
       "      <th>row_number</th>\n",
       "      <th>customer_id</th>\n",
       "      <th>credit_score</th>\n",
       "      <th>age</th>\n",
       "      <th>tenure</th>\n",
       "      <th>balance</th>\n",
       "      <th>num_of_products</th>\n",
       "      <th>ha_sc_rcard</th>\n",
       "      <th>is_active_member</th>\n",
       "      <th>estimated_salary</th>\n",
       "      <th>exited</th>\n",
       "    </tr>\n",
       "  </thead>\n",
       "  <tbody>\n",
       "    <tr>\n",
       "      <th>count</th>\n",
       "      <td>10000.00000</td>\n",
       "      <td>1.000000e+04</td>\n",
       "      <td>10000.000000</td>\n",
       "      <td>10000.000000</td>\n",
       "      <td>10000.000000</td>\n",
       "      <td>10000.000000</td>\n",
       "      <td>10000.000000</td>\n",
       "      <td>10000.00000</td>\n",
       "      <td>10000.000000</td>\n",
       "      <td>10000.000000</td>\n",
       "      <td>10000.000000</td>\n",
       "    </tr>\n",
       "    <tr>\n",
       "      <th>mean</th>\n",
       "      <td>5000.50000</td>\n",
       "      <td>1.569094e+07</td>\n",
       "      <td>650.528800</td>\n",
       "      <td>38.921800</td>\n",
       "      <td>4.995800</td>\n",
       "      <td>76485.889288</td>\n",
       "      <td>1.530200</td>\n",
       "      <td>0.70550</td>\n",
       "      <td>0.515100</td>\n",
       "      <td>100090.239881</td>\n",
       "      <td>0.203700</td>\n",
       "    </tr>\n",
       "    <tr>\n",
       "      <th>std</th>\n",
       "      <td>2886.89568</td>\n",
       "      <td>7.193619e+04</td>\n",
       "      <td>96.653299</td>\n",
       "      <td>10.487806</td>\n",
       "      <td>2.762118</td>\n",
       "      <td>62397.405202</td>\n",
       "      <td>0.581654</td>\n",
       "      <td>0.45584</td>\n",
       "      <td>0.499797</td>\n",
       "      <td>57510.492818</td>\n",
       "      <td>0.402769</td>\n",
       "    </tr>\n",
       "    <tr>\n",
       "      <th>min</th>\n",
       "      <td>1.00000</td>\n",
       "      <td>1.556570e+07</td>\n",
       "      <td>350.000000</td>\n",
       "      <td>18.000000</td>\n",
       "      <td>0.000000</td>\n",
       "      <td>0.000000</td>\n",
       "      <td>1.000000</td>\n",
       "      <td>0.00000</td>\n",
       "      <td>0.000000</td>\n",
       "      <td>11.580000</td>\n",
       "      <td>0.000000</td>\n",
       "    </tr>\n",
       "    <tr>\n",
       "      <th>25%</th>\n",
       "      <td>2500.75000</td>\n",
       "      <td>1.562853e+07</td>\n",
       "      <td>584.000000</td>\n",
       "      <td>32.000000</td>\n",
       "      <td>3.000000</td>\n",
       "      <td>0.000000</td>\n",
       "      <td>1.000000</td>\n",
       "      <td>0.00000</td>\n",
       "      <td>0.000000</td>\n",
       "      <td>51002.110000</td>\n",
       "      <td>0.000000</td>\n",
       "    </tr>\n",
       "    <tr>\n",
       "      <th>50%</th>\n",
       "      <td>5000.50000</td>\n",
       "      <td>1.569074e+07</td>\n",
       "      <td>652.000000</td>\n",
       "      <td>37.000000</td>\n",
       "      <td>5.000000</td>\n",
       "      <td>97198.540000</td>\n",
       "      <td>1.000000</td>\n",
       "      <td>1.00000</td>\n",
       "      <td>1.000000</td>\n",
       "      <td>100193.915000</td>\n",
       "      <td>0.000000</td>\n",
       "    </tr>\n",
       "    <tr>\n",
       "      <th>75%</th>\n",
       "      <td>7500.25000</td>\n",
       "      <td>1.575323e+07</td>\n",
       "      <td>718.000000</td>\n",
       "      <td>44.000000</td>\n",
       "      <td>7.000000</td>\n",
       "      <td>127644.240000</td>\n",
       "      <td>2.000000</td>\n",
       "      <td>1.00000</td>\n",
       "      <td>1.000000</td>\n",
       "      <td>149388.247500</td>\n",
       "      <td>0.000000</td>\n",
       "    </tr>\n",
       "    <tr>\n",
       "      <th>max</th>\n",
       "      <td>10000.00000</td>\n",
       "      <td>1.581569e+07</td>\n",
       "      <td>850.000000</td>\n",
       "      <td>92.000000</td>\n",
       "      <td>10.000000</td>\n",
       "      <td>250898.090000</td>\n",
       "      <td>4.000000</td>\n",
       "      <td>1.00000</td>\n",
       "      <td>1.000000</td>\n",
       "      <td>199992.480000</td>\n",
       "      <td>1.000000</td>\n",
       "    </tr>\n",
       "  </tbody>\n",
       "</table>\n",
       "</div>"
      ],
      "text/plain": [
       "        row_number   customer_id  credit_score           age        tenure  \\\n",
       "count  10000.00000  1.000000e+04  10000.000000  10000.000000  10000.000000   \n",
       "mean    5000.50000  1.569094e+07    650.528800     38.921800      4.995800   \n",
       "std     2886.89568  7.193619e+04     96.653299     10.487806      2.762118   \n",
       "min        1.00000  1.556570e+07    350.000000     18.000000      0.000000   \n",
       "25%     2500.75000  1.562853e+07    584.000000     32.000000      3.000000   \n",
       "50%     5000.50000  1.569074e+07    652.000000     37.000000      5.000000   \n",
       "75%     7500.25000  1.575323e+07    718.000000     44.000000      7.000000   \n",
       "max    10000.00000  1.581569e+07    850.000000     92.000000     10.000000   \n",
       "\n",
       "             balance  num_of_products  ha_sc_rcard  is_active_member  \\\n",
       "count   10000.000000     10000.000000  10000.00000      10000.000000   \n",
       "mean    76485.889288         1.530200      0.70550          0.515100   \n",
       "std     62397.405202         0.581654      0.45584          0.499797   \n",
       "min         0.000000         1.000000      0.00000          0.000000   \n",
       "25%         0.000000         1.000000      0.00000          0.000000   \n",
       "50%     97198.540000         1.000000      1.00000          1.000000   \n",
       "75%    127644.240000         2.000000      1.00000          1.000000   \n",
       "max    250898.090000         4.000000      1.00000          1.000000   \n",
       "\n",
       "       estimated_salary        exited  \n",
       "count      10000.000000  10000.000000  \n",
       "mean      100090.239881      0.203700  \n",
       "std        57510.492818      0.402769  \n",
       "min           11.580000      0.000000  \n",
       "25%        51002.110000      0.000000  \n",
       "50%       100193.915000      0.000000  \n",
       "75%       149388.247500      0.000000  \n",
       "max       199992.480000      1.000000  "
      ]
     },
     "execution_count": 15,
     "metadata": {},
     "output_type": "execute_result"
    }
   ],
   "source": [
    "df.describe()"
   ]
  },
  {
   "cell_type": "markdown",
   "metadata": {},
   "source": [
    "### Подготовка признаков для машинного обучения "
   ]
  },
  {
   "cell_type": "code",
   "execution_count": 16,
   "metadata": {},
   "outputs": [],
   "source": [
    "#Удалим столбцы\n",
    "df.drop(['row_number', 'customer_id', 'surname'], axis=1, inplace=True)"
   ]
  },
  {
   "cell_type": "code",
   "execution_count": 17,
   "metadata": {},
   "outputs": [],
   "source": [
    "#Преобразуем категориальные признаки в численные при помощи OHE.\n",
    "df['gender'] = pd.get_dummies(df['gender'], drop_first=True)\n",
    "df_ohe = pd.get_dummies(df['geography'])\n",
    "df['france_user'] = df_ohe['France']\n",
    "df['spain_user'] = df_ohe['Spain']\n",
    "df['germany_user'] = df_ohe['Germany']"
   ]
  },
  {
   "cell_type": "code",
   "execution_count": 18,
   "metadata": {},
   "outputs": [],
   "source": [
    "#Удалим столбец geography из-за ненадобности.\n",
    "df.drop(['geography'], axis=1, inplace=True)"
   ]
  },
  {
   "cell_type": "code",
   "execution_count": 19,
   "metadata": {},
   "outputs": [
    {
     "data": {
      "text/html": [
       "<div>\n",
       "<style scoped>\n",
       "    .dataframe tbody tr th:only-of-type {\n",
       "        vertical-align: middle;\n",
       "    }\n",
       "\n",
       "    .dataframe tbody tr th {\n",
       "        vertical-align: top;\n",
       "    }\n",
       "\n",
       "    .dataframe thead th {\n",
       "        text-align: right;\n",
       "    }\n",
       "</style>\n",
       "<table border=\"1\" class=\"dataframe\">\n",
       "  <thead>\n",
       "    <tr style=\"text-align: right;\">\n",
       "      <th></th>\n",
       "      <th>credit_score</th>\n",
       "      <th>gender</th>\n",
       "      <th>age</th>\n",
       "      <th>tenure</th>\n",
       "      <th>balance</th>\n",
       "      <th>num_of_products</th>\n",
       "      <th>ha_sc_rcard</th>\n",
       "      <th>is_active_member</th>\n",
       "      <th>estimated_salary</th>\n",
       "      <th>exited</th>\n",
       "      <th>france_user</th>\n",
       "      <th>spain_user</th>\n",
       "      <th>germany_user</th>\n",
       "    </tr>\n",
       "  </thead>\n",
       "  <tbody>\n",
       "    <tr>\n",
       "      <th>0</th>\n",
       "      <td>619</td>\n",
       "      <td>0</td>\n",
       "      <td>42</td>\n",
       "      <td>2.0</td>\n",
       "      <td>0.00</td>\n",
       "      <td>1</td>\n",
       "      <td>1</td>\n",
       "      <td>1</td>\n",
       "      <td>101348.88</td>\n",
       "      <td>1</td>\n",
       "      <td>1</td>\n",
       "      <td>0</td>\n",
       "      <td>0</td>\n",
       "    </tr>\n",
       "    <tr>\n",
       "      <th>1</th>\n",
       "      <td>608</td>\n",
       "      <td>0</td>\n",
       "      <td>41</td>\n",
       "      <td>1.0</td>\n",
       "      <td>83807.86</td>\n",
       "      <td>1</td>\n",
       "      <td>0</td>\n",
       "      <td>1</td>\n",
       "      <td>112542.58</td>\n",
       "      <td>0</td>\n",
       "      <td>0</td>\n",
       "      <td>1</td>\n",
       "      <td>0</td>\n",
       "    </tr>\n",
       "    <tr>\n",
       "      <th>2</th>\n",
       "      <td>502</td>\n",
       "      <td>0</td>\n",
       "      <td>42</td>\n",
       "      <td>8.0</td>\n",
       "      <td>159660.80</td>\n",
       "      <td>3</td>\n",
       "      <td>1</td>\n",
       "      <td>0</td>\n",
       "      <td>113931.57</td>\n",
       "      <td>1</td>\n",
       "      <td>1</td>\n",
       "      <td>0</td>\n",
       "      <td>0</td>\n",
       "    </tr>\n",
       "    <tr>\n",
       "      <th>3</th>\n",
       "      <td>699</td>\n",
       "      <td>0</td>\n",
       "      <td>39</td>\n",
       "      <td>1.0</td>\n",
       "      <td>0.00</td>\n",
       "      <td>2</td>\n",
       "      <td>0</td>\n",
       "      <td>0</td>\n",
       "      <td>93826.63</td>\n",
       "      <td>0</td>\n",
       "      <td>1</td>\n",
       "      <td>0</td>\n",
       "      <td>0</td>\n",
       "    </tr>\n",
       "    <tr>\n",
       "      <th>4</th>\n",
       "      <td>850</td>\n",
       "      <td>0</td>\n",
       "      <td>43</td>\n",
       "      <td>2.0</td>\n",
       "      <td>125510.82</td>\n",
       "      <td>1</td>\n",
       "      <td>1</td>\n",
       "      <td>1</td>\n",
       "      <td>79084.10</td>\n",
       "      <td>0</td>\n",
       "      <td>0</td>\n",
       "      <td>1</td>\n",
       "      <td>0</td>\n",
       "    </tr>\n",
       "    <tr>\n",
       "      <th>...</th>\n",
       "      <td>...</td>\n",
       "      <td>...</td>\n",
       "      <td>...</td>\n",
       "      <td>...</td>\n",
       "      <td>...</td>\n",
       "      <td>...</td>\n",
       "      <td>...</td>\n",
       "      <td>...</td>\n",
       "      <td>...</td>\n",
       "      <td>...</td>\n",
       "      <td>...</td>\n",
       "      <td>...</td>\n",
       "      <td>...</td>\n",
       "    </tr>\n",
       "    <tr>\n",
       "      <th>9995</th>\n",
       "      <td>771</td>\n",
       "      <td>1</td>\n",
       "      <td>39</td>\n",
       "      <td>5.0</td>\n",
       "      <td>0.00</td>\n",
       "      <td>2</td>\n",
       "      <td>1</td>\n",
       "      <td>0</td>\n",
       "      <td>96270.64</td>\n",
       "      <td>0</td>\n",
       "      <td>1</td>\n",
       "      <td>0</td>\n",
       "      <td>0</td>\n",
       "    </tr>\n",
       "    <tr>\n",
       "      <th>9996</th>\n",
       "      <td>516</td>\n",
       "      <td>1</td>\n",
       "      <td>35</td>\n",
       "      <td>10.0</td>\n",
       "      <td>57369.61</td>\n",
       "      <td>1</td>\n",
       "      <td>1</td>\n",
       "      <td>1</td>\n",
       "      <td>101699.77</td>\n",
       "      <td>0</td>\n",
       "      <td>1</td>\n",
       "      <td>0</td>\n",
       "      <td>0</td>\n",
       "    </tr>\n",
       "    <tr>\n",
       "      <th>9997</th>\n",
       "      <td>709</td>\n",
       "      <td>0</td>\n",
       "      <td>36</td>\n",
       "      <td>7.0</td>\n",
       "      <td>0.00</td>\n",
       "      <td>1</td>\n",
       "      <td>0</td>\n",
       "      <td>1</td>\n",
       "      <td>42085.58</td>\n",
       "      <td>1</td>\n",
       "      <td>1</td>\n",
       "      <td>0</td>\n",
       "      <td>0</td>\n",
       "    </tr>\n",
       "    <tr>\n",
       "      <th>9998</th>\n",
       "      <td>772</td>\n",
       "      <td>1</td>\n",
       "      <td>42</td>\n",
       "      <td>3.0</td>\n",
       "      <td>75075.31</td>\n",
       "      <td>2</td>\n",
       "      <td>1</td>\n",
       "      <td>0</td>\n",
       "      <td>92888.52</td>\n",
       "      <td>1</td>\n",
       "      <td>0</td>\n",
       "      <td>0</td>\n",
       "      <td>1</td>\n",
       "    </tr>\n",
       "    <tr>\n",
       "      <th>9999</th>\n",
       "      <td>792</td>\n",
       "      <td>0</td>\n",
       "      <td>28</td>\n",
       "      <td>5.0</td>\n",
       "      <td>130142.79</td>\n",
       "      <td>1</td>\n",
       "      <td>1</td>\n",
       "      <td>0</td>\n",
       "      <td>38190.78</td>\n",
       "      <td>0</td>\n",
       "      <td>1</td>\n",
       "      <td>0</td>\n",
       "      <td>0</td>\n",
       "    </tr>\n",
       "  </tbody>\n",
       "</table>\n",
       "<p>10000 rows × 13 columns</p>\n",
       "</div>"
      ],
      "text/plain": [
       "      credit_score  gender  age  tenure    balance  num_of_products  \\\n",
       "0              619       0   42     2.0       0.00                1   \n",
       "1              608       0   41     1.0   83807.86                1   \n",
       "2              502       0   42     8.0  159660.80                3   \n",
       "3              699       0   39     1.0       0.00                2   \n",
       "4              850       0   43     2.0  125510.82                1   \n",
       "...            ...     ...  ...     ...        ...              ...   \n",
       "9995           771       1   39     5.0       0.00                2   \n",
       "9996           516       1   35    10.0   57369.61                1   \n",
       "9997           709       0   36     7.0       0.00                1   \n",
       "9998           772       1   42     3.0   75075.31                2   \n",
       "9999           792       0   28     5.0  130142.79                1   \n",
       "\n",
       "      ha_sc_rcard  is_active_member  estimated_salary  exited  france_user  \\\n",
       "0               1                 1         101348.88       1            1   \n",
       "1               0                 1         112542.58       0            0   \n",
       "2               1                 0         113931.57       1            1   \n",
       "3               0                 0          93826.63       0            1   \n",
       "4               1                 1          79084.10       0            0   \n",
       "...           ...               ...               ...     ...          ...   \n",
       "9995            1                 0          96270.64       0            1   \n",
       "9996            1                 1         101699.77       0            1   \n",
       "9997            0                 1          42085.58       1            1   \n",
       "9998            1                 0          92888.52       1            0   \n",
       "9999            1                 0          38190.78       0            1   \n",
       "\n",
       "      spain_user  germany_user  \n",
       "0              0             0  \n",
       "1              1             0  \n",
       "2              0             0  \n",
       "3              0             0  \n",
       "4              1             0  \n",
       "...          ...           ...  \n",
       "9995           0             0  \n",
       "9996           0             0  \n",
       "9997           0             0  \n",
       "9998           0             1  \n",
       "9999           0             0  \n",
       "\n",
       "[10000 rows x 13 columns]"
      ]
     },
     "execution_count": 19,
     "metadata": {},
     "output_type": "execute_result"
    }
   ],
   "source": [
    "df"
   ]
  },
  {
   "cell_type": "markdown",
   "metadata": {},
   "source": [
    "### Разделим данные на выборки"
   ]
  },
  {
   "cell_type": "code",
   "execution_count": 20,
   "metadata": {},
   "outputs": [],
   "source": [
    "#Разделим на features и target\n",
    "features = df.drop('exited', axis=1)\n",
    "target = df['exited']"
   ]
  },
  {
   "cell_type": "code",
   "execution_count": 21,
   "metadata": {},
   "outputs": [],
   "source": [
    "#Разделим на обучающию и валидационную выборку 60 на 40\n",
    "features_train, features_valid, target_train, target_valid = train_test_split(features, target, test_size=0.4, \n",
    "                                                                              shuffle=True,random_state=90)\n",
    "#Разделим на валидационную и тестовую выборку на равные части \n",
    "features_valid, features_test, target_valid, target_test = train_test_split(features_valid, target_valid,\n",
    "                                                                            test_size=0.5, random_state=90)"
   ]
  },
  {
   "cell_type": "code",
   "execution_count": 22,
   "metadata": {},
   "outputs": [
    {
     "name": "stdout",
     "output_type": "stream",
     "text": [
      "6000 2000 2000\n"
     ]
    }
   ],
   "source": [
    "#Проверим правильность разбивки выборки\n",
    "print(len(features_train), len(features_valid), len(features_test))"
   ]
  },
  {
   "cell_type": "markdown",
   "metadata": {},
   "source": [
    "### Маштабирование признаков"
   ]
  },
  {
   "cell_type": "code",
   "execution_count": 23,
   "metadata": {},
   "outputs": [],
   "source": [
    "#Для масштабирования зафиксируем численные признаки\n",
    "numeric = ['credit_score', 'age', 'tenure', 'balance', 'num_of_products', 'estimated_salary']"
   ]
  },
  {
   "cell_type": "code",
   "execution_count": 24,
   "metadata": {},
   "outputs": [
    {
     "data": {
      "text/plain": [
       "StandardScaler()"
      ]
     },
     "execution_count": 24,
     "metadata": {},
     "output_type": "execute_result"
    }
   ],
   "source": [
    "#Создадим объект этой структуры и настроим его на обучающих данных\n",
    "scaler = StandardScaler()\n",
    "pd.options.mode.chained_assignment = None\n",
    "scaler.fit(features_train[numeric])"
   ]
  },
  {
   "cell_type": "code",
   "execution_count": 25,
   "metadata": {},
   "outputs": [],
   "source": [
    "#Преобразуем обучающую, валидационную и тестовые выборки функцией transform()\n",
    "features_train[numeric] = scaler.transform(features_train[numeric])\n",
    "features_valid[numeric] = scaler.transform(features_valid[numeric])\n",
    "features_test[numeric] = scaler.transform(features_test[numeric])"
   ]
  },
  {
   "cell_type": "code",
   "execution_count": 26,
   "metadata": {},
   "outputs": [
    {
     "data": {
      "text/html": [
       "<div>\n",
       "<style scoped>\n",
       "    .dataframe tbody tr th:only-of-type {\n",
       "        vertical-align: middle;\n",
       "    }\n",
       "\n",
       "    .dataframe tbody tr th {\n",
       "        vertical-align: top;\n",
       "    }\n",
       "\n",
       "    .dataframe thead th {\n",
       "        text-align: right;\n",
       "    }\n",
       "</style>\n",
       "<table border=\"1\" class=\"dataframe\">\n",
       "  <thead>\n",
       "    <tr style=\"text-align: right;\">\n",
       "      <th></th>\n",
       "      <th>credit_score</th>\n",
       "      <th>gender</th>\n",
       "      <th>age</th>\n",
       "      <th>tenure</th>\n",
       "      <th>balance</th>\n",
       "      <th>num_of_products</th>\n",
       "      <th>ha_sc_rcard</th>\n",
       "      <th>is_active_member</th>\n",
       "      <th>estimated_salary</th>\n",
       "      <th>france_user</th>\n",
       "      <th>spain_user</th>\n",
       "      <th>germany_user</th>\n",
       "    </tr>\n",
       "  </thead>\n",
       "  <tbody>\n",
       "    <tr>\n",
       "      <th>1529</th>\n",
       "      <td>-0.744423</td>\n",
       "      <td>1</td>\n",
       "      <td>-1.528033</td>\n",
       "      <td>1.096697</td>\n",
       "      <td>-1.231101</td>\n",
       "      <td>0.823208</td>\n",
       "      <td>1</td>\n",
       "      <td>0</td>\n",
       "      <td>0.200479</td>\n",
       "      <td>0</td>\n",
       "      <td>1</td>\n",
       "      <td>0</td>\n",
       "    </tr>\n",
       "    <tr>\n",
       "      <th>2520</th>\n",
       "      <td>-1.564537</td>\n",
       "      <td>1</td>\n",
       "      <td>2.133311</td>\n",
       "      <td>0.734512</td>\n",
       "      <td>0.410736</td>\n",
       "      <td>-0.912297</td>\n",
       "      <td>1</td>\n",
       "      <td>0</td>\n",
       "      <td>1.513888</td>\n",
       "      <td>0</td>\n",
       "      <td>0</td>\n",
       "      <td>1</td>\n",
       "    </tr>\n",
       "    <tr>\n",
       "      <th>8300</th>\n",
       "      <td>0.844549</td>\n",
       "      <td>1</td>\n",
       "      <td>0.880746</td>\n",
       "      <td>0.734512</td>\n",
       "      <td>0.145715</td>\n",
       "      <td>-0.912297</td>\n",
       "      <td>1</td>\n",
       "      <td>1</td>\n",
       "      <td>-1.342697</td>\n",
       "      <td>0</td>\n",
       "      <td>0</td>\n",
       "      <td>1</td>\n",
       "    </tr>\n",
       "    <tr>\n",
       "      <th>4216</th>\n",
       "      <td>1.469886</td>\n",
       "      <td>1</td>\n",
       "      <td>1.651555</td>\n",
       "      <td>0.010141</td>\n",
       "      <td>0.322564</td>\n",
       "      <td>-0.912297</td>\n",
       "      <td>1</td>\n",
       "      <td>1</td>\n",
       "      <td>-0.504951</td>\n",
       "      <td>1</td>\n",
       "      <td>0</td>\n",
       "      <td>0</td>\n",
       "    </tr>\n",
       "    <tr>\n",
       "      <th>3547</th>\n",
       "      <td>0.116697</td>\n",
       "      <td>0</td>\n",
       "      <td>-0.371819</td>\n",
       "      <td>0.372327</td>\n",
       "      <td>-1.231101</td>\n",
       "      <td>0.823208</td>\n",
       "      <td>0</td>\n",
       "      <td>0</td>\n",
       "      <td>-1.717485</td>\n",
       "      <td>0</td>\n",
       "      <td>1</td>\n",
       "      <td>0</td>\n",
       "    </tr>\n",
       "  </tbody>\n",
       "</table>\n",
       "</div>"
      ],
      "text/plain": [
       "      credit_score  gender       age    tenure   balance  num_of_products  \\\n",
       "1529     -0.744423       1 -1.528033  1.096697 -1.231101         0.823208   \n",
       "2520     -1.564537       1  2.133311  0.734512  0.410736        -0.912297   \n",
       "8300      0.844549       1  0.880746  0.734512  0.145715        -0.912297   \n",
       "4216      1.469886       1  1.651555  0.010141  0.322564        -0.912297   \n",
       "3547      0.116697       0 -0.371819  0.372327 -1.231101         0.823208   \n",
       "\n",
       "      ha_sc_rcard  is_active_member  estimated_salary  france_user  \\\n",
       "1529            1                 0          0.200479            0   \n",
       "2520            1                 0          1.513888            0   \n",
       "8300            1                 1         -1.342697            0   \n",
       "4216            1                 1         -0.504951            1   \n",
       "3547            0                 0         -1.717485            0   \n",
       "\n",
       "      spain_user  germany_user  \n",
       "1529           1             0  \n",
       "2520           0             1  \n",
       "8300           0             1  \n",
       "4216           0             0  \n",
       "3547           1             0  "
      ]
     },
     "execution_count": 26,
     "metadata": {},
     "output_type": "execute_result"
    }
   ],
   "source": [
    "features_train.sample(5)"
   ]
  },
  {
   "cell_type": "code",
   "execution_count": 27,
   "metadata": {},
   "outputs": [
    {
     "data": {
      "text/html": [
       "<div>\n",
       "<style scoped>\n",
       "    .dataframe tbody tr th:only-of-type {\n",
       "        vertical-align: middle;\n",
       "    }\n",
       "\n",
       "    .dataframe tbody tr th {\n",
       "        vertical-align: top;\n",
       "    }\n",
       "\n",
       "    .dataframe thead th {\n",
       "        text-align: right;\n",
       "    }\n",
       "</style>\n",
       "<table border=\"1\" class=\"dataframe\">\n",
       "  <thead>\n",
       "    <tr style=\"text-align: right;\">\n",
       "      <th></th>\n",
       "      <th>credit_score</th>\n",
       "      <th>gender</th>\n",
       "      <th>age</th>\n",
       "      <th>tenure</th>\n",
       "      <th>balance</th>\n",
       "      <th>num_of_products</th>\n",
       "      <th>ha_sc_rcard</th>\n",
       "      <th>is_active_member</th>\n",
       "      <th>estimated_salary</th>\n",
       "      <th>france_user</th>\n",
       "      <th>spain_user</th>\n",
       "      <th>germany_user</th>\n",
       "    </tr>\n",
       "  </thead>\n",
       "  <tbody>\n",
       "    <tr>\n",
       "      <th>9412</th>\n",
       "      <td>0.762537</td>\n",
       "      <td>1</td>\n",
       "      <td>-1.238980</td>\n",
       "      <td>0.372327</td>\n",
       "      <td>0.350335</td>\n",
       "      <td>-0.912297</td>\n",
       "      <td>0</td>\n",
       "      <td>0</td>\n",
       "      <td>0.578046</td>\n",
       "      <td>1</td>\n",
       "      <td>0</td>\n",
       "      <td>0</td>\n",
       "    </tr>\n",
       "    <tr>\n",
       "      <th>605</th>\n",
       "      <td>-0.508640</td>\n",
       "      <td>1</td>\n",
       "      <td>-0.949926</td>\n",
       "      <td>1.458883</td>\n",
       "      <td>-1.231101</td>\n",
       "      <td>-0.912297</td>\n",
       "      <td>1</td>\n",
       "      <td>1</td>\n",
       "      <td>-0.354304</td>\n",
       "      <td>1</td>\n",
       "      <td>0</td>\n",
       "      <td>0</td>\n",
       "    </tr>\n",
       "    <tr>\n",
       "      <th>8156</th>\n",
       "      <td>-2.220629</td>\n",
       "      <td>1</td>\n",
       "      <td>3.096823</td>\n",
       "      <td>1.458883</td>\n",
       "      <td>0.683863</td>\n",
       "      <td>-0.912297</td>\n",
       "      <td>1</td>\n",
       "      <td>0</td>\n",
       "      <td>0.440421</td>\n",
       "      <td>0</td>\n",
       "      <td>0</td>\n",
       "      <td>1</td>\n",
       "    </tr>\n",
       "    <tr>\n",
       "      <th>6618</th>\n",
       "      <td>-0.149840</td>\n",
       "      <td>0</td>\n",
       "      <td>-0.949926</td>\n",
       "      <td>0.010141</td>\n",
       "      <td>0.328556</td>\n",
       "      <td>-0.912297</td>\n",
       "      <td>0</td>\n",
       "      <td>1</td>\n",
       "      <td>0.546642</td>\n",
       "      <td>0</td>\n",
       "      <td>0</td>\n",
       "      <td>1</td>\n",
       "    </tr>\n",
       "    <tr>\n",
       "      <th>1493</th>\n",
       "      <td>0.301223</td>\n",
       "      <td>0</td>\n",
       "      <td>-0.853575</td>\n",
       "      <td>-0.714230</td>\n",
       "      <td>-1.231101</td>\n",
       "      <td>-0.912297</td>\n",
       "      <td>1</td>\n",
       "      <td>0</td>\n",
       "      <td>1.039804</td>\n",
       "      <td>0</td>\n",
       "      <td>1</td>\n",
       "      <td>0</td>\n",
       "    </tr>\n",
       "  </tbody>\n",
       "</table>\n",
       "</div>"
      ],
      "text/plain": [
       "      credit_score  gender       age    tenure   balance  num_of_products  \\\n",
       "9412      0.762537       1 -1.238980  0.372327  0.350335        -0.912297   \n",
       "605      -0.508640       1 -0.949926  1.458883 -1.231101        -0.912297   \n",
       "8156     -2.220629       1  3.096823  1.458883  0.683863        -0.912297   \n",
       "6618     -0.149840       0 -0.949926  0.010141  0.328556        -0.912297   \n",
       "1493      0.301223       0 -0.853575 -0.714230 -1.231101        -0.912297   \n",
       "\n",
       "      ha_sc_rcard  is_active_member  estimated_salary  france_user  \\\n",
       "9412            0                 0          0.578046            1   \n",
       "605             1                 1         -0.354304            1   \n",
       "8156            1                 0          0.440421            0   \n",
       "6618            0                 1          0.546642            0   \n",
       "1493            1                 0          1.039804            0   \n",
       "\n",
       "      spain_user  germany_user  \n",
       "9412           0             0  \n",
       "605            0             0  \n",
       "8156           0             1  \n",
       "6618           0             1  \n",
       "1493           1             0  "
      ]
     },
     "execution_count": 27,
     "metadata": {},
     "output_type": "execute_result"
    }
   ],
   "source": [
    "features_valid.sample(5)"
   ]
  },
  {
   "cell_type": "code",
   "execution_count": 28,
   "metadata": {
    "scrolled": true
   },
   "outputs": [
    {
     "data": {
      "text/html": [
       "<div>\n",
       "<style scoped>\n",
       "    .dataframe tbody tr th:only-of-type {\n",
       "        vertical-align: middle;\n",
       "    }\n",
       "\n",
       "    .dataframe tbody tr th {\n",
       "        vertical-align: top;\n",
       "    }\n",
       "\n",
       "    .dataframe thead th {\n",
       "        text-align: right;\n",
       "    }\n",
       "</style>\n",
       "<table border=\"1\" class=\"dataframe\">\n",
       "  <thead>\n",
       "    <tr style=\"text-align: right;\">\n",
       "      <th></th>\n",
       "      <th>credit_score</th>\n",
       "      <th>gender</th>\n",
       "      <th>age</th>\n",
       "      <th>tenure</th>\n",
       "      <th>balance</th>\n",
       "      <th>num_of_products</th>\n",
       "      <th>ha_sc_rcard</th>\n",
       "      <th>is_active_member</th>\n",
       "      <th>estimated_salary</th>\n",
       "      <th>france_user</th>\n",
       "      <th>spain_user</th>\n",
       "      <th>germany_user</th>\n",
       "    </tr>\n",
       "  </thead>\n",
       "  <tbody>\n",
       "    <tr>\n",
       "      <th>7264</th>\n",
       "      <td>-2.220629</td>\n",
       "      <td>1</td>\n",
       "      <td>-0.564521</td>\n",
       "      <td>-0.714230</td>\n",
       "      <td>-1.231101</td>\n",
       "      <td>-0.912297</td>\n",
       "      <td>1</td>\n",
       "      <td>1</td>\n",
       "      <td>-1.711964</td>\n",
       "      <td>0</td>\n",
       "      <td>1</td>\n",
       "      <td>0</td>\n",
       "    </tr>\n",
       "    <tr>\n",
       "      <th>4736</th>\n",
       "      <td>-0.129337</td>\n",
       "      <td>0</td>\n",
       "      <td>-0.660873</td>\n",
       "      <td>-1.800786</td>\n",
       "      <td>-1.231101</td>\n",
       "      <td>0.823208</td>\n",
       "      <td>1</td>\n",
       "      <td>0</td>\n",
       "      <td>1.039776</td>\n",
       "      <td>1</td>\n",
       "      <td>0</td>\n",
       "      <td>0</td>\n",
       "    </tr>\n",
       "    <tr>\n",
       "      <th>9089</th>\n",
       "      <td>-0.436880</td>\n",
       "      <td>0</td>\n",
       "      <td>-0.468170</td>\n",
       "      <td>-0.352044</td>\n",
       "      <td>0.191504</td>\n",
       "      <td>-0.912297</td>\n",
       "      <td>1</td>\n",
       "      <td>1</td>\n",
       "      <td>1.191744</td>\n",
       "      <td>1</td>\n",
       "      <td>0</td>\n",
       "      <td>0</td>\n",
       "    </tr>\n",
       "    <tr>\n",
       "      <th>7295</th>\n",
       "      <td>-0.026823</td>\n",
       "      <td>1</td>\n",
       "      <td>-0.757224</td>\n",
       "      <td>0.010141</td>\n",
       "      <td>0.782973</td>\n",
       "      <td>-0.912297</td>\n",
       "      <td>0</td>\n",
       "      <td>1</td>\n",
       "      <td>0.512664</td>\n",
       "      <td>0</td>\n",
       "      <td>0</td>\n",
       "      <td>1</td>\n",
       "    </tr>\n",
       "    <tr>\n",
       "      <th>3151</th>\n",
       "      <td>0.362731</td>\n",
       "      <td>0</td>\n",
       "      <td>0.013586</td>\n",
       "      <td>-0.714230</td>\n",
       "      <td>0.558846</td>\n",
       "      <td>-0.912297</td>\n",
       "      <td>0</td>\n",
       "      <td>0</td>\n",
       "      <td>0.629155</td>\n",
       "      <td>1</td>\n",
       "      <td>0</td>\n",
       "      <td>0</td>\n",
       "    </tr>\n",
       "  </tbody>\n",
       "</table>\n",
       "</div>"
      ],
      "text/plain": [
       "      credit_score  gender       age    tenure   balance  num_of_products  \\\n",
       "7264     -2.220629       1 -0.564521 -0.714230 -1.231101        -0.912297   \n",
       "4736     -0.129337       0 -0.660873 -1.800786 -1.231101         0.823208   \n",
       "9089     -0.436880       0 -0.468170 -0.352044  0.191504        -0.912297   \n",
       "7295     -0.026823       1 -0.757224  0.010141  0.782973        -0.912297   \n",
       "3151      0.362731       0  0.013586 -0.714230  0.558846        -0.912297   \n",
       "\n",
       "      ha_sc_rcard  is_active_member  estimated_salary  france_user  \\\n",
       "7264            1                 1         -1.711964            0   \n",
       "4736            1                 0          1.039776            1   \n",
       "9089            1                 1          1.191744            1   \n",
       "7295            0                 1          0.512664            0   \n",
       "3151            0                 0          0.629155            1   \n",
       "\n",
       "      spain_user  germany_user  \n",
       "7264           1             0  \n",
       "4736           0             0  \n",
       "9089           0             0  \n",
       "7295           0             1  \n",
       "3151           0             0  "
      ]
     },
     "execution_count": 28,
     "metadata": {},
     "output_type": "execute_result"
    }
   ],
   "source": [
    "features_test.sample(5)"
   ]
  },
  {
   "cell_type": "markdown",
   "metadata": {},
   "source": [
    "## Вывод"
   ]
  },
  {
   "cell_type": "markdown",
   "metadata": {},
   "source": [
    "На данном этапе мы провели следующую работу:\n",
    "- познакомились с данными;\n",
    "- привели наименования строк к нижнему регистру и к sneak_case (когда несколько слов разделяются символом подчеркивания, и не имеют пробелов в записи)\n",
    "- определили какие столбцы (признаки) не нужны для машинного обучения;\n",
    "- для столбцов gender и geography  преобразовали категориальные признаки в численные при помощи техники прямого кодирования One-Hot Encoding;\n",
    "- разделили данные на три части обучающию, валидационную и тестовую (train, valid, test), в процентном соотношении 60:20:20;\n",
    "- произвели один из методов масштабирования — стандартизацию данных."
   ]
  },
  {
   "cell_type": "markdown",
   "metadata": {},
   "source": [
    "## Исследование задачи"
   ]
  },
  {
   "cell_type": "markdown",
   "metadata": {},
   "source": [
    "### Исследуем баланс классов."
   ]
  },
  {
   "cell_type": "code",
   "execution_count": 29,
   "metadata": {},
   "outputs": [
    {
     "data": {
      "text/plain": [
       "0    0.7963\n",
       "1    0.2037\n",
       "Name: exited, dtype: float64"
      ]
     },
     "execution_count": 29,
     "metadata": {},
     "output_type": "execute_result"
    }
   ],
   "source": [
    "df['exited'].value_counts(normalize=True)"
   ]
  },
  {
   "cell_type": "code",
   "execution_count": 30,
   "metadata": {},
   "outputs": [
    {
     "data": {
      "text/plain": [
       "<AxesSubplot:>"
      ]
     },
     "execution_count": 30,
     "metadata": {},
     "output_type": "execute_result"
    },
    {
     "data": {
      "image/png": "[encoded data removed]",
      "text/plain": [
       "<Figure size 432x288 with 1 Axes>"
      ]
     },
     "metadata": {
      "needs_background": "light"
     },
     "output_type": "display_data"
    }
   ],
   "source": [
    "df['exited'].value_counts(normalize=True).plot(kind='bar')"
   ]
  },
  {
   "cell_type": "markdown",
   "metadata": {},
   "source": [
    "Наблюдается сильный дисбаланс классов, что плохо скажется на обучении модели. Ответы 0 ≈80% , 1 ≈ 20%.\n",
    "Попробуем обучить модели на несбалансированных классах."
   ]
  },
  {
   "cell_type": "markdown",
   "metadata": {},
   "source": [
    "### Обучение моделей"
   ]
  },
  {
   "cell_type": "markdown",
   "metadata": {},
   "source": [
    "#### Логистическая регрессия"
   ]
  },
  {
   "cell_type": "code",
   "execution_count": 31,
   "metadata": {},
   "outputs": [
    {
     "name": "stdout",
     "output_type": "stream",
     "text": [
      "F1: 0.28933092224231466\n",
      "AUC-ROC: 0.7643629480657755\n"
     ]
    }
   ],
   "source": [
    "#Обучим логистическую регрессию с гиперпараметрами установленными по умолчанию.\n",
    "\n",
    "model_lr = LogisticRegression(solver = 'liblinear', random_state=90)\n",
    "model_lr.fit(features_train, target_train)\n",
    "result = model_lr.score(features_valid, target_valid)\n",
    "\n",
    "predicted_valid = model_lr.predict(features_valid)\n",
    "print('F1:', f1_score(target_valid, predicted_valid))\n",
    "\n",
    "probabilities_valid = model_lr.predict_proba(features_valid)\n",
    "probabilities_one_valid = probabilities_valid[:, 1]\n",
    "\n",
    "print('AUC-ROC:', roc_auc_score(target_valid, probabilities_one_valid))"
   ]
  },
  {
   "cell_type": "code",
   "execution_count": 32,
   "metadata": {},
   "outputs": [
    {
     "name": "stdout",
     "output_type": "stream",
     "text": [
      "{'C': 4, 'penalty': 'l2'}\n"
     ]
    }
   ],
   "source": [
    "#Обучим модель с подобранными гиперпараметрами с помощью GridSearchCV.\n",
    "\n",
    "#опишем сетку, по которой будем искать\n",
    "params_lr = { 'C': range (1, 5),\n",
    "              'penalty': ['l1', 'l2'] }\n",
    "\n",
    "#создадим объект GridSearchCV\n",
    "grid_lr = GridSearchCV(LogisticRegression(random_state=90), params_lr, cv=5, n_jobs=-1, scoring='f1')\n",
    "\n",
    "# запустим поиск\n",
    "grid_lr.fit(features_train, target_train)\n",
    "\n",
    "# выведем наилучшие гиперпараметры\n",
    "print(grid_lr.best_params_)"
   ]
  },
  {
   "cell_type": "code",
   "execution_count": 33,
   "metadata": {},
   "outputs": [
    {
     "name": "stdout",
     "output_type": "stream",
     "text": [
      "F1: 0.28933092224231466\n",
      "AUC-ROC: 0.7643408651760716\n"
     ]
    }
   ],
   "source": [
    "#выведем F1 и AUC-ROC модели с наилучшими гиперпараметрами.\n",
    "print('F1:',f1_score(target_valid, grid_lr.best_estimator_.predict(features_valid)))\n",
    "\n",
    "probabilities_valid = grid_lr.best_estimator_.predict_proba(features_valid)\n",
    "probabilities_one_valid = probabilities_valid[:, 1]\n",
    "print('AUC-ROC:', roc_auc_score(target_valid, probabilities_one_valid))"
   ]
  },
  {
   "cell_type": "code",
   "execution_count": 34,
   "metadata": {},
   "outputs": [
    {
     "name": "stdout",
     "output_type": "stream",
     "text": [
      "F1: 0.28933092224231466\n",
      "AUC-ROC: 0.7643487519223944\n"
     ]
    }
   ],
   "source": [
    "#Проверим модель с лучшими гиперпараметрами\n",
    "model_lr_best = LogisticRegression(C=2, penalty='l2', solver = 'liblinear', random_state=90)\n",
    "model_lr_best.fit(features_train, target_train)\n",
    "result = model_lr_best.score(features_valid, target_valid)\n",
    "\n",
    "predicted_valid = model_lr_best.predict(features_valid)\n",
    "print('F1:', f1_score(target_valid, predicted_valid))\n",
    "\n",
    "probabilities_valid = model_lr_best.predict_proba(features_valid)\n",
    "probabilities_one_valid = probabilities_valid[:, 1]\n",
    "\n",
    "print('AUC-ROC:', roc_auc_score(target_valid, probabilities_one_valid))"
   ]
  },
  {
   "cell_type": "markdown",
   "metadata": {},
   "source": [
    "#### Вывод"
   ]
  },
  {
   "cell_type": "markdown",
   "metadata": {},
   "source": [
    "Разница между подобранными гиперпараметрами и гиперпараметрами установленными по умолчанию отсутствует.\n",
    "- Лучший результат F1: 0.29\n",
    "- Лучший результат AUC-ROC: 0.76"
   ]
  },
  {
   "cell_type": "markdown",
   "metadata": {},
   "source": [
    "#### Дерево решений"
   ]
  },
  {
   "cell_type": "code",
   "execution_count": 35,
   "metadata": {},
   "outputs": [
    {
     "name": "stdout",
     "output_type": "stream",
     "text": [
      "F1: 0.4879807692307692\n",
      "AUC-ROC: 0.6840648290547735\n"
     ]
    }
   ],
   "source": [
    "#Обучим дерево решений с гиперпараметрами установленными по умолчанию.\n",
    "model_dtc = DecisionTreeClassifier(random_state=90)\n",
    "model_dtc.fit(features_train, target_train)\n",
    "pred_dtc = model_dtc.predict(features_valid)\n",
    "result = model_dtc.score(features_valid, target_valid)\n",
    "\n",
    "predicted_valid = model_dtc.predict(features_valid)\n",
    "print('F1:', f1_score(target_valid, predicted_valid))\n",
    "\n",
    "probabilities_valid = model_dtc.predict_proba(features_valid)\n",
    "probabilities_one_valid = probabilities_valid[:, 1]\n",
    "\n",
    "print('AUC-ROC:', roc_auc_score(target_valid, probabilities_one_valid))"
   ]
  },
  {
   "cell_type": "code",
   "execution_count": 36,
   "metadata": {},
   "outputs": [
    {
     "data": {
      "text/plain": [
       "{'criterion': 'gini',\n",
       " 'max_depth': 7,\n",
       " 'min_samples_leaf': 9,\n",
       " 'min_samples_split': 2,\n",
       " 'splitter': 'best'}"
      ]
     },
     "execution_count": 36,
     "metadata": {},
     "output_type": "execute_result"
    }
   ],
   "source": [
    "#Обучим модель с подобранными гиперпараметрами с помощью GridSearchCV.\n",
    "\n",
    "#опишем сетку, по которой будем искать\n",
    "params_dtc = { 'criterion': ['gini', 'entropy'],\n",
    "               'max_depth': range(1, 11), \n",
    "               'splitter': ['best', 'random'],\n",
    "               'min_samples_split': range(2, 11, 2),\n",
    "               'min_samples_leaf': range(1, 11, 2) }\n",
    "\n",
    "\n",
    "#создадим объект GridSearchCV\n",
    "grid_dtc = GridSearchCV(DecisionTreeClassifier(random_state=90), params_dtc, cv=5, n_jobs=-1, \n",
    "                        scoring='f1')\n",
    "\n",
    "# запустим поиск\n",
    "grid_dtc.fit(features_train, target_train)\n",
    "\n",
    "# выведем наилучшие гиперпараметры\n",
    "grid_dtc.best_params_"
   ]
  },
  {
   "cell_type": "code",
   "execution_count": 37,
   "metadata": {},
   "outputs": [
    {
     "name": "stdout",
     "output_type": "stream",
     "text": [
      "F1: 0.5994318181818182\n",
      "AUC-ROC: 0.844488347332308\n"
     ]
    }
   ],
   "source": [
    "#выведем F1 и AUC-ROC модели с наилучшими гиперпараметрами.\n",
    "print('F1:',f1_score(target_valid, grid_dtc.best_estimator_.predict(features_valid)))\n",
    "\n",
    "probabilities_valid = grid_dtc.best_estimator_.predict_proba(features_valid)\n",
    "probabilities_one_valid = probabilities_valid[:, 1]\n",
    "print('AUC-ROC:', roc_auc_score(target_valid, probabilities_one_valid))"
   ]
  },
  {
   "cell_type": "code",
   "execution_count": 38,
   "metadata": {},
   "outputs": [
    {
     "name": "stdout",
     "output_type": "stream",
     "text": [
      "F1: 0.5994318181818182\n",
      "AUC-ROC: 0.844488347332308\n"
     ]
    }
   ],
   "source": [
    "#Проверим модель с лучшими гиперпараметрами\n",
    "model_dtc_best = DecisionTreeClassifier(criterion='gini', max_depth=7, min_samples_leaf=9,\n",
    "                                   min_samples_split=2, splitter='best', random_state=90)\n",
    "model_dtc_best.fit(features_train, target_train)\n",
    "pred_dtc = model_dtc_best.predict(features_valid)\n",
    "\n",
    "predicted_valid = model_dtc_best.predict(features_valid)\n",
    "print('F1:', f1_score(target_valid, predicted_valid))\n",
    "\n",
    "probabilities_valid = model_dtc_best.predict_proba(features_valid)\n",
    "probabilities_one_valid = probabilities_valid[:, 1]\n",
    "\n",
    "print('AUC-ROC:', roc_auc_score(target_valid, probabilities_one_valid))"
   ]
  },
  {
   "cell_type": "markdown",
   "metadata": {},
   "source": [
    "#### Вывод"
   ]
  },
  {
   "cell_type": "markdown",
   "metadata": {},
   "source": [
    "Подобранные гиперпараметры значительно превосходят гиперпараметры установленные по умолчанию.\n",
    "- Лучший результат F1: 0.60\n",
    "- Лучший результат AUC-ROC: 0.85"
   ]
  },
  {
   "cell_type": "markdown",
   "metadata": {},
   "source": [
    "#### Случайный лес"
   ]
  },
  {
   "cell_type": "code",
   "execution_count": 39,
   "metadata": {},
   "outputs": [
    {
     "name": "stdout",
     "output_type": "stream",
     "text": [
      "F1: 0.5920245398773006\n",
      "AUC-ROC: 0.8509933356993573\n"
     ]
    }
   ],
   "source": [
    "#Обучим случайный лес с гиперпараметрами установленными по умолчанию.\n",
    "model_rfc = RandomForestClassifier(random_state=90)\n",
    "model_rfc.fit(features_train, target_train)\n",
    "pred_rfc = model_rfc.predict(features_valid)\n",
    "\n",
    "\n",
    "predicted_valid = model_rfc.predict(features_valid)\n",
    "print('F1:', f1_score(target_valid, predicted_valid))\n",
    "\n",
    "probabilities_valid = model_rfc.predict_proba(features_valid)\n",
    "probabilities_one_valid = probabilities_valid[:, 1]\n",
    "\n",
    "print('AUC-ROC:', roc_auc_score(target_valid, probabilities_one_valid))"
   ]
  },
  {
   "cell_type": "code",
   "execution_count": 40,
   "metadata": {
    "scrolled": true
   },
   "outputs": [
    {
     "data": {
      "text/plain": [
       "{'bootstrap': False,\n",
       " 'max_depth': 10,\n",
       " 'min_samples_leaf': 2,\n",
       " 'min_samples_split': 8,\n",
       " 'n_estimators': 20}"
      ]
     },
     "execution_count": 40,
     "metadata": {},
     "output_type": "execute_result"
    }
   ],
   "source": [
    "model_rfc = RandomForestClassifier(random_state=90)\n",
    "\n",
    "#опишем сетку, по которой будем искать\n",
    "params_rfc = { 'max_depth': range(2, 11, 2), \n",
    "               'n_estimators': range(10, 101, 10), \n",
    "               'min_samples_leaf': range(2, 11, 2),\n",
    "               'min_samples_split': range(2, 11, 2),\n",
    "               'bootstrap' : [True, False] }\n",
    " \n",
    "#создадим объект GridSearchCV\n",
    "grid_rfc = GridSearchCV(RandomForestClassifier(random_state=90), params_rfc, cv=5, n_jobs=-1, \n",
    "                        scoring='f1')\n",
    "\n",
    "# запустим поиск\n",
    "grid_rfc.fit(features_train, target_train)\n",
    "\n",
    "# выведем наилучшие гиперпараметры \n",
    "grid_rfc.best_params_"
   ]
  },
  {
   "cell_type": "code",
   "execution_count": 41,
   "metadata": {},
   "outputs": [
    {
     "name": "stdout",
     "output_type": "stream",
     "text": [
      "F1: 0.5737179487179488\n",
      "AUC-ROC: 0.8574912259947157\n"
     ]
    }
   ],
   "source": [
    "#выведем F1 и AUC-ROC модели с наилучшими гиперпараметрами.\n",
    "print('F1:',f1_score(target_valid, grid_rfc.best_estimator_.predict(features_valid)))\n",
    "\n",
    "probabilities_valid = grid_rfc.best_estimator_.predict_proba(features_valid)\n",
    "probabilities_one_valid = probabilities_valid[:, 1]\n",
    "print('AUC-ROC:', roc_auc_score(target_valid, probabilities_one_valid))"
   ]
  },
  {
   "cell_type": "code",
   "execution_count": 42,
   "metadata": {},
   "outputs": [
    {
     "name": "stdout",
     "output_type": "stream",
     "text": [
      "F1: 0.5714285714285714\n",
      "AUC-ROC: 0.8642217753065973\n"
     ]
    }
   ],
   "source": [
    "#Проверим модель с лучшими гиперпараметрами\n",
    "model_rfc_best = RandomForestClassifier(max_depth=10, n_estimators=100, min_samples_leaf=2,\n",
    "                                   min_samples_split=2, bootstrap=False, random_state=90)\n",
    "model_rfc_best.fit(features_train, target_train)\n",
    "pred_rfc = model_rfc_best.predict(features_valid)\n",
    "\n",
    "predicted_valid = model_rfc_best.predict(features_valid)\n",
    "print('F1:', f1_score(target_valid, predicted_valid))\n",
    "\n",
    "probabilities_valid = model_rfc_best.predict_proba(features_valid)\n",
    "probabilities_one_valid = probabilities_valid[:, 1]\n",
    "\n",
    "print('AUC-ROC:', roc_auc_score(target_valid, probabilities_one_valid))"
   ]
  },
  {
   "cell_type": "markdown",
   "metadata": {},
   "source": [
    "#### Вывод"
   ]
  },
  {
   "cell_type": "markdown",
   "metadata": {},
   "source": [
    "Подобранные гиперпараметры значительно превосходят гиперпараметры установленные по умолчанию.\n",
    "- Лучший результат F1: 0.59\n",
    "- Лучший результат AUC-ROC: 0.85"
   ]
  },
  {
   "cell_type": "markdown",
   "metadata": {},
   "source": [
    "##### Вывод\n",
    "\n",
    "Изучены три модели без учета дисбаланса. Лучший результат F1 показала модель дерева принятия решений - 0.60, лучший результат AUC-ROC у модели рандомного леса - 0.86. Самый низкий результат показала логистическая регрессия - значение F1 всего 0.29, AUC-ROC - 0.76."
   ]
  },
  {
   "cell_type": "markdown",
   "metadata": {},
   "source": [
    "## Борьба с дисбалансом"
   ]
  },
  {
   "cell_type": "markdown",
   "metadata": {},
   "source": [
    "### Взвешивание классов\n",
    "\n",
    "Придадим объектам редкого класса больший вес."
   ]
  },
  {
   "cell_type": "markdown",
   "metadata": {},
   "source": [
    "#### Логистическая регрессия"
   ]
  },
  {
   "cell_type": "code",
   "execution_count": 43,
   "metadata": {},
   "outputs": [
    {
     "name": "stdout",
     "output_type": "stream",
     "text": [
      "{'C': 2, 'penalty': 'l2'}\n"
     ]
    }
   ],
   "source": [
    "#Обучим модель с подобранными гиперпараметрами с помощью GridSearchCV.\n",
    "\n",
    "#опишем сетку, по которой будем искать\n",
    "params_lr = { 'C': range (1, 5),\n",
    "              'penalty': ['l1', 'l2'] }\n",
    "\n",
    "#создадим объект GridSearchCV\n",
    "grid_lr = GridSearchCV(LogisticRegression(random_state=90, class_weight='balanced'), \n",
    "                       params_lr, cv=5, n_jobs=-1, scoring='f1')\n",
    "\n",
    "# запустим поиск\n",
    "grid_lr.fit(features_train, target_train)\n",
    "\n",
    "# выведем наилучшие гиперпараметры\n",
    "print(grid_lr.best_params_)"
   ]
  },
  {
   "cell_type": "code",
   "execution_count": 44,
   "metadata": {},
   "outputs": [
    {
     "name": "stdout",
     "output_type": "stream",
     "text": [
      "F1: 0.4898678414096917\n",
      "AUC-ROC: 0.7663945739185299\n"
     ]
    }
   ],
   "source": [
    "#выведем F1 и AUC-ROC модели с наилучшими гиперпараметрами.\n",
    "print('F1:',f1_score(target_valid, grid_lr.best_estimator_.predict(features_valid)))\n",
    "\n",
    "probabilities_valid = grid_lr.best_estimator_.predict_proba(features_valid)\n",
    "probabilities_one_valid = probabilities_valid[:, 1]\n",
    "print('AUC-ROC:', roc_auc_score(target_valid, probabilities_one_valid))"
   ]
  },
  {
   "cell_type": "markdown",
   "metadata": {},
   "source": [
    "#### Вывод"
   ]
  },
  {
   "cell_type": "markdown",
   "metadata": {},
   "source": [
    "Передача редкому классу большего веса значительно увеличила F1 score. AUC-ROC немного вырос.\n",
    "\n",
    "- F1 score Было: 0.29; Стало: 0.49.\n",
    "\n",
    "- AUC-ROC score Было: 0.76; Стало:0.77"
   ]
  },
  {
   "cell_type": "markdown",
   "metadata": {},
   "source": [
    "#### Дерево решений"
   ]
  },
  {
   "cell_type": "code",
   "execution_count": 45,
   "metadata": {},
   "outputs": [
    {
     "data": {
      "text/plain": [
       "{'criterion': 'entropy',\n",
       " 'max_depth': 9,\n",
       " 'min_samples_leaf': 10,\n",
       " 'min_samples_split': 2,\n",
       " 'splitter': 'random'}"
      ]
     },
     "execution_count": 45,
     "metadata": {},
     "output_type": "execute_result"
    }
   ],
   "source": [
    "#Обучим модель с подобранными гиперпараметрами с помощью GridSearchCV.\n",
    "\n",
    "#опишем сетку, по которой будем искать\n",
    "params_dtc = { 'criterion': ['gini', 'entropy'],\n",
    "               'max_depth': range(1, 11), \n",
    "               'splitter': ['best', 'random'],\n",
    "               'min_samples_split': range(2, 11, 2),\n",
    "               'min_samples_leaf': range(2, 11, 2) }\n",
    "\n",
    "\n",
    "#создадим объект GridSearchCV\n",
    "grid_dtc = GridSearchCV(DecisionTreeClassifier(random_state=90, class_weight='balanced'), \n",
    "                        params_dtc, cv=5, n_jobs=-1, scoring='f1')\n",
    "\n",
    "# запустим поиск\n",
    "grid_dtc.fit(features_train, target_train)\n",
    "\n",
    "# выведем наилучшие гиперпараметры\n",
    "grid_dtc.best_params_"
   ]
  },
  {
   "cell_type": "code",
   "execution_count": 46,
   "metadata": {},
   "outputs": [
    {
     "name": "stdout",
     "output_type": "stream",
     "text": [
      "F1: 0.5342465753424657\n",
      "AUC-ROC: 0.8286217910800899\n"
     ]
    }
   ],
   "source": [
    "#выведем F1 и AUC-ROC модели с наилучшими гиперпараметрами.\n",
    "print('F1:',f1_score(target_valid, grid_dtc.best_estimator_.predict(features_valid)))\n",
    "\n",
    "probabilities_valid = grid_dtc.best_estimator_.predict_proba(features_valid)\n",
    "probabilities_one_valid = probabilities_valid[:, 1]\n",
    "print('AUC-ROC:', roc_auc_score(target_valid, probabilities_one_valid))"
   ]
  },
  {
   "cell_type": "markdown",
   "metadata": {},
   "source": [
    "#### Вывод"
   ]
  },
  {
   "cell_type": "markdown",
   "metadata": {},
   "source": [
    "Передача редкому классу большего веса уменьшила F1 score и AUC-ROC.\n",
    "\n",
    "- F1 score Было: 0.60; Стало: 0.53.\n",
    "\n",
    "- AUC-ROC score Было: 0.85; Стало:0.83"
   ]
  },
  {
   "cell_type": "markdown",
   "metadata": {},
   "source": [
    "#### Случайный лес"
   ]
  },
  {
   "cell_type": "code",
   "execution_count": 47,
   "metadata": {},
   "outputs": [
    {
     "data": {
      "text/plain": [
       "{'bootstrap': True,\n",
       " 'max_depth': 10,\n",
       " 'min_samples_leaf': 2,\n",
       " 'min_samples_split': 10,\n",
       " 'n_estimators': 100}"
      ]
     },
     "execution_count": 47,
     "metadata": {},
     "output_type": "execute_result"
    }
   ],
   "source": [
    "model_rfc = RandomForestClassifier(random_state=90)\n",
    "\n",
    "#опишем сетку, по которой будем искать\n",
    "params_rfc = { 'max_depth': range(2, 11, 2), \n",
    "               'n_estimators': range(10, 101, 10), \n",
    "               'min_samples_leaf': range(2, 11, 2),\n",
    "               'min_samples_split': range(2, 11, 2),\n",
    "               'bootstrap' : [True, False] }\n",
    " \n",
    "#создадим объект GridSearchCV\n",
    "grid_rfc = GridSearchCV(RandomForestClassifier(random_state=90, class_weight='balanced'), params_rfc, \n",
    "                        cv=5, n_jobs=-1, scoring='f1')\n",
    "\n",
    "# запустим поиск\n",
    "grid_rfc.fit(features_train, target_train)\n",
    "\n",
    "# выведем наилучшие гиперпараметры \n",
    "grid_rfc.best_params_"
   ]
  },
  {
   "cell_type": "code",
   "execution_count": 48,
   "metadata": {},
   "outputs": [
    {
     "name": "stdout",
     "output_type": "stream",
     "text": [
      "F1: 0.5342465753424657\n",
      "AUC-ROC: 0.8286217910800899\n"
     ]
    }
   ],
   "source": [
    "#выведем F1 и AUC-ROC модели с наилучшими гиперпараметрами.\n",
    "print('F1:',f1_score(target_valid, grid_dtc.best_estimator_.predict(features_valid)))\n",
    "\n",
    "probabilities_valid = grid_dtc.best_estimator_.predict_proba(features_valid)\n",
    "probabilities_one_valid = probabilities_valid[:, 1]\n",
    "print('AUC-ROC:', roc_auc_score(target_valid, probabilities_one_valid))"
   ]
  },
  {
   "cell_type": "markdown",
   "metadata": {},
   "source": [
    "#### Вывод"
   ]
  },
  {
   "cell_type": "markdown",
   "metadata": {},
   "source": [
    "Передача редкому классу большего веса уменьшила F1 score и AUC-ROC.\n",
    "- F1 score Было: 0.59; Стало: 0.53.\n",
    "- AUC-ROC score Было: 0.86; Стало:0.83"
   ]
  },
  {
   "cell_type": "markdown",
   "metadata": {},
   "source": [
    "### Вывод"
   ]
  },
  {
   "cell_type": "markdown",
   "metadata": {},
   "source": [
    "Изучены три модели с учетом взвешивания классов. Превзойти результат показанный при невмешательстве в дисбаланс показала логистическая регрессия F1 показала модель дерева принятия решений F1 - 0.49, AUC-ROC  - 0.77. Остальные модели результат показали хуже."
   ]
  },
  {
   "cell_type": "markdown",
   "metadata": {},
   "source": [
    "### Увеличение выборки (upsampling)"
   ]
  },
  {
   "cell_type": "code",
   "execution_count": 49,
   "metadata": {},
   "outputs": [],
   "source": [
    "def upsample(features, target, repeat):\n",
    "    features_zeros = features[target == 0]\n",
    "    features_ones = features[target == 1]\n",
    "    target_zeros = target[target == 0]\n",
    "    target_ones = target[target == 1]\n",
    "\n",
    "    features_upsampled = pd.concat([features_zeros] + [features_ones] * repeat)\n",
    "    target_upsampled = pd.concat([target_zeros] + [target_ones] * repeat)\n",
    "    \n",
    "    features_upsampled, target_upsampled = shuffle(\n",
    "        features_upsampled, target_upsampled, random_state=90)\n",
    "    \n",
    "    return features_upsampled, target_upsampled\n",
    "\n",
    "features_upsampled, target_upsampled = upsample(features_train, target_train, 4)"
   ]
  },
  {
   "cell_type": "markdown",
   "metadata": {},
   "source": [
    "#### Логистическая регрессия"
   ]
  },
  {
   "cell_type": "code",
   "execution_count": 50,
   "metadata": {},
   "outputs": [
    {
     "name": "stdout",
     "output_type": "stream",
     "text": [
      "{'C': 1, 'penalty': 'l2'}\n"
     ]
    }
   ],
   "source": [
    "#Обучим модель с подобранными гиперпараметрами с помощью GridSearchCV.\n",
    "\n",
    "#опишем сетку, по которой будем искать\n",
    "params_lr = { 'C': range (1, 5),\n",
    "              'penalty': ['l1', 'l2'] }\n",
    "\n",
    "#создадим объект GridSearchCV\n",
    "grid_lr = GridSearchCV(LogisticRegression(random_state=90), \n",
    "                       params_lr, cv=5, n_jobs=-1, scoring='f1')\n",
    "\n",
    "# запустим поиск\n",
    "grid_lr.fit(features_upsampled, target_upsampled)\n",
    "\n",
    "# выведем наилучшие гиперпараметры\n",
    "print(grid_lr.best_params_)"
   ]
  },
  {
   "cell_type": "code",
   "execution_count": 51,
   "metadata": {},
   "outputs": [
    {
     "name": "stdout",
     "output_type": "stream",
     "text": [
      "F1: 0.4939341421143848\n",
      "AUC-ROC: 0.7663709136795614\n"
     ]
    }
   ],
   "source": [
    "#выведем F1 и AUC-ROC модели с наилучшими гиперпараметрами.\n",
    "print('F1:',f1_score(target_valid, grid_lr.best_estimator_.predict(features_valid)))\n",
    "\n",
    "probabilities_valid = grid_lr.best_estimator_.predict_proba(features_valid)\n",
    "probabilities_one_valid = probabilities_valid[:, 1]\n",
    "print('AUC-ROC:', roc_auc_score(target_valid, probabilities_one_valid))"
   ]
  },
  {
   "cell_type": "markdown",
   "metadata": {},
   "source": [
    "#### Вывод"
   ]
  },
  {
   "cell_type": "markdown",
   "metadata": {},
   "source": [
    "Увеличение выборки не изменило показатели F1 score и AUC-ROC относительно метода взешивании класса.\n",
    "\n",
    "- F1 score Было: 0.49; Стало: 0.49.\n",
    "\n",
    "- AUC-ROC score Было: 0.77; Стало:0.77"
   ]
  },
  {
   "cell_type": "markdown",
   "metadata": {},
   "source": [
    "#### Дерево решений"
   ]
  },
  {
   "cell_type": "code",
   "execution_count": 52,
   "metadata": {},
   "outputs": [
    {
     "data": {
      "text/plain": [
       "{'criterion': 'gini',\n",
       " 'max_depth': 10,\n",
       " 'min_samples_leaf': 2,\n",
       " 'min_samples_split': 2,\n",
       " 'splitter': 'best'}"
      ]
     },
     "execution_count": 52,
     "metadata": {},
     "output_type": "execute_result"
    }
   ],
   "source": [
    "#Обучим модель с подобранными гиперпараметрами с помощью GridSearchCV.\n",
    "\n",
    "#опишем сетку, по которой будем искать\n",
    "params_dtc = { 'criterion': ['gini', 'entropy'],\n",
    "               'max_depth': range(1, 11), \n",
    "               'splitter': ['best', 'random'],\n",
    "               'min_samples_split': range(2, 11, 2),\n",
    "               'min_samples_leaf': range(2, 11, 2) }\n",
    "\n",
    "\n",
    "#создадим объект GridSearchCV\n",
    "grid_dtc = GridSearchCV(DecisionTreeClassifier(random_state=90), \n",
    "                        params_dtc, cv=5, n_jobs=-1, scoring='f1')\n",
    "\n",
    "# запустим поиск\n",
    "grid_dtc.fit(features_upsampled, target_upsampled)\n",
    "\n",
    "# выведем наилучшие гиперпараметры\n",
    "grid_dtc.best_params_"
   ]
  },
  {
   "cell_type": "code",
   "execution_count": 53,
   "metadata": {},
   "outputs": [
    {
     "name": "stdout",
     "output_type": "stream",
     "text": [
      "F1: 0.5355303810504635\n",
      "AUC-ROC: 0.7352001261879412\n"
     ]
    }
   ],
   "source": [
    "#выведем F1 и AUC-ROC модели с наилучшими гиперпараметрами.\n",
    "print('F1:',f1_score(target_valid, grid_dtc.best_estimator_.predict(features_valid)))\n",
    "\n",
    "probabilities_valid = grid_dtc.best_estimator_.predict_proba(features_valid)\n",
    "probabilities_one_valid = probabilities_valid[:, 1]\n",
    "print('AUC-ROC:', roc_auc_score(target_valid, probabilities_one_valid))"
   ]
  },
  {
   "cell_type": "markdown",
   "metadata": {},
   "source": [
    "#### Вывод"
   ]
  },
  {
   "cell_type": "markdown",
   "metadata": {},
   "source": [
    "Увеличение выборки незначительно повысило показатели F1 score и  значительно уменьшило AUC-ROC относительно метода взешивании класса.\n",
    "\n",
    "- F1 score Было: 0.53; Стало: 0.54.\n",
    "\n",
    "- AUC-ROC score Было: 0.83; Стало:0.74"
   ]
  },
  {
   "cell_type": "markdown",
   "metadata": {},
   "source": [
    "#### Случайный лес"
   ]
  },
  {
   "cell_type": "code",
   "execution_count": 54,
   "metadata": {},
   "outputs": [
    {
     "data": {
      "text/plain": [
       "{'bootstrap': False,\n",
       " 'max_depth': 10,\n",
       " 'min_samples_leaf': 2,\n",
       " 'min_samples_split': 6,\n",
       " 'n_estimators': 40}"
      ]
     },
     "execution_count": 54,
     "metadata": {},
     "output_type": "execute_result"
    }
   ],
   "source": [
    "model_rfc = RandomForestClassifier(random_state=90)\n",
    "\n",
    "#опишем сетку, по которой будем искать\n",
    "params_rfc = { 'max_depth': range(2, 11, 2), \n",
    "               'n_estimators': range(10, 101, 10), \n",
    "               'min_samples_leaf': range(2, 11, 2),\n",
    "               'min_samples_split': range(2, 11, 2),\n",
    "               'bootstrap' : [True, False] }\n",
    " \n",
    "#создадим объект GridSearchCV\n",
    "grid_rfc = GridSearchCV(RandomForestClassifier(random_state=90), params_rfc, \n",
    "                        cv=5, n_jobs=-1, scoring='f1')\n",
    "\n",
    "#запустим поиск\n",
    "grid_rfc.fit(features_upsampled, target_upsampled)\n",
    "\n",
    "#выведем наилучшие гиперпараметры \n",
    "grid_rfc.best_params_"
   ]
  },
  {
   "cell_type": "code",
   "execution_count": 55,
   "metadata": {},
   "outputs": [
    {
     "name": "stdout",
     "output_type": "stream",
     "text": [
      "F1: 0.5355303810504635\n",
      "AUC-ROC: 0.7352001261879412\n"
     ]
    }
   ],
   "source": [
    "#выведем F1 и AUC-ROC модели с наилучшими гиперпараметрами.\n",
    "print('F1:',f1_score(target_valid, grid_dtc.best_estimator_.predict(features_valid)))\n",
    "\n",
    "probabilities_valid = grid_dtc.best_estimator_.predict_proba(features_valid)\n",
    "probabilities_one_valid = probabilities_valid[:, 1]\n",
    "print('AUC-ROC:', roc_auc_score(target_valid, probabilities_one_valid))"
   ]
  },
  {
   "cell_type": "markdown",
   "metadata": {},
   "source": [
    "#### Вывод"
   ]
  },
  {
   "cell_type": "markdown",
   "metadata": {},
   "source": [
    "Увеличение выборки уменьшило незначительно показатели F1 score и значительно уменьшило AUC-ROC относительно метода взешивании класса.\n",
    "\n",
    "- F1 score Было: 0.53; Стало: 0.54.\n",
    "\n",
    "- AUC-ROC score Было: 0.83; Стало:0.74"
   ]
  },
  {
   "cell_type": "markdown",
   "metadata": {},
   "source": [
    "### Уменьшение выборки (downsampling)"
   ]
  },
  {
   "cell_type": "code",
   "execution_count": 56,
   "metadata": {},
   "outputs": [],
   "source": [
    "def downsample(features, target, fraction):\n",
    "    features_zeros = features[target == 0]\n",
    "    features_ones = features[target == 1]\n",
    "    target_zeros = target[target == 0]\n",
    "    target_ones = target[target == 1]\n",
    "\n",
    "    features_downsampled = pd.concat(\n",
    "        [features_zeros.sample(frac=fraction, random_state=90)] + [features_ones])\n",
    "    target_downsampled = pd.concat(\n",
    "        [target_zeros.sample(frac=fraction, random_state=90)] + [target_ones])\n",
    "    \n",
    "    features_downsampled, target_downsampled = shuffle(\n",
    "        features_downsampled, target_downsampled, random_state=90)\n",
    "    \n",
    "    return features_downsampled, target_downsampled\n",
    "\n",
    "features_downsampled, target_downsampled = downsample(features_train, target_train, 0.26)"
   ]
  },
  {
   "cell_type": "markdown",
   "metadata": {},
   "source": [
    "#### Логистическая регрессия"
   ]
  },
  {
   "cell_type": "code",
   "execution_count": 57,
   "metadata": {},
   "outputs": [
    {
     "name": "stdout",
     "output_type": "stream",
     "text": [
      "{'C': 2, 'penalty': 'l2'}\n"
     ]
    }
   ],
   "source": [
    "#Обучим модель с подобранными гиперпараметрами с помощью GridSearchCV.\n",
    "\n",
    "#опишем сетку, по которой будем искать\n",
    "params_lr = { 'C': range (1, 5),\n",
    "              'penalty': ['l1', 'l2'] }\n",
    "\n",
    "#создадим объект GridSearchCV\n",
    "grid_lr = GridSearchCV(LogisticRegression(random_state=90), \n",
    "                       params_lr, cv=5, n_jobs=-1, scoring='f1')\n",
    "\n",
    "# запустим поиск\n",
    "grid_lr.fit(features_downsampled, target_downsampled)\n",
    "\n",
    "# выведем наилучшие гиперпараметры\n",
    "print(grid_lr.best_params_)"
   ]
  },
  {
   "cell_type": "code",
   "execution_count": 58,
   "metadata": {},
   "outputs": [
    {
     "name": "stdout",
     "output_type": "stream",
     "text": [
      "F1: 0.4899387576552931\n",
      "AUC-ROC: 0.7661358886391418\n"
     ]
    }
   ],
   "source": [
    "#выведем F1 и AUC-ROC модели с наилучшими гиперпараметрами.\n",
    "print('F1:',f1_score(target_valid, grid_lr.best_estimator_.predict(features_valid)))\n",
    "\n",
    "probabilities_valid = grid_lr.best_estimator_.predict_proba(features_valid)\n",
    "probabilities_one_valid = probabilities_valid[:, 1]\n",
    "print('AUC-ROC:', roc_auc_score(target_valid, probabilities_one_valid))"
   ]
  },
  {
   "cell_type": "markdown",
   "metadata": {},
   "source": [
    "#### Вывод"
   ]
  },
  {
   "cell_type": "markdown",
   "metadata": {},
   "source": [
    "Уменьшение выборки не изменило показатели F1 score и AUC-ROC относительно метода взешивании класса.\n",
    "\n",
    "- F1 score Было: 0.49; Стало: 0.49.\n",
    "\n",
    "- AUC-ROC score Было: 0.77; Стало:0.77"
   ]
  },
  {
   "cell_type": "markdown",
   "metadata": {},
   "source": [
    "#### Дерево решений"
   ]
  },
  {
   "cell_type": "code",
   "execution_count": 59,
   "metadata": {},
   "outputs": [
    {
     "data": {
      "text/plain": [
       "{'criterion': 'gini',\n",
       " 'max_depth': 5,\n",
       " 'min_samples_leaf': 10,\n",
       " 'min_samples_split': 2,\n",
       " 'splitter': 'best'}"
      ]
     },
     "execution_count": 59,
     "metadata": {},
     "output_type": "execute_result"
    }
   ],
   "source": [
    "#Обучим модель с подобранными гиперпараметрами с помощью GridSearchCV.\n",
    "\n",
    "#опишем сетку, по которой будем искать\n",
    "params_dtc = { 'criterion': ['gini', 'entropy'],\n",
    "               'max_depth': range(1, 11), \n",
    "               'splitter': ['best', 'random'],\n",
    "               'min_samples_split': range(2, 11, 2),\n",
    "               'min_samples_leaf': range(2, 11, 2) }\n",
    "\n",
    "\n",
    "#создадим объект GridSearchCV\n",
    "grid_dtc = GridSearchCV(DecisionTreeClassifier(random_state=90), \n",
    "                        params_dtc, cv=5, n_jobs=-1, scoring='f1')\n",
    "\n",
    "# запустим поиск\n",
    "grid_dtc.fit(features_downsampled, target_downsampled)\n",
    "\n",
    "# выведем наилучшие гиперпараметры\n",
    "grid_dtc.best_params_"
   ]
  },
  {
   "cell_type": "code",
   "execution_count": 60,
   "metadata": {},
   "outputs": [
    {
     "name": "stdout",
     "output_type": "stream",
     "text": [
      "F1: 0.4899387576552931\n",
      "AUC-ROC: 0.7661358886391418\n"
     ]
    }
   ],
   "source": [
    "#выведем F1 и AUC-ROC модели с наилучшими гиперпараметрами.\n",
    "print('F1:',f1_score(target_valid, grid_lr.best_estimator_.predict(features_valid)))\n",
    "\n",
    "probabilities_valid = grid_lr.best_estimator_.predict_proba(features_valid)\n",
    "probabilities_one_valid = probabilities_valid[:, 1]\n",
    "print('AUC-ROC:', roc_auc_score(target_valid, probabilities_one_valid))"
   ]
  },
  {
   "cell_type": "markdown",
   "metadata": {},
   "source": [
    "#### Вывод"
   ]
  },
  {
   "cell_type": "markdown",
   "metadata": {},
   "source": [
    "Уменьшение выборки снизило показатель F1 score и повысило немного показатель AUC-ROC относительно метода увеличении выборки.\n",
    "\n",
    "- F1 score Было: 0.54; Стало: 0.49.\n",
    "\n",
    "- AUC-ROC score Было: 0.73; Стало:0.77"
   ]
  },
  {
   "cell_type": "markdown",
   "metadata": {},
   "source": [
    "#### Случайный лес"
   ]
  },
  {
   "cell_type": "code",
   "execution_count": 61,
   "metadata": {},
   "outputs": [
    {
     "data": {
      "text/plain": [
       "{'bootstrap': True,\n",
       " 'max_depth': 10,\n",
       " 'min_samples_leaf': 2,\n",
       " 'min_samples_split': 8,\n",
       " 'n_estimators': 60}"
      ]
     },
     "execution_count": 61,
     "metadata": {},
     "output_type": "execute_result"
    }
   ],
   "source": [
    "model_rfc = RandomForestClassifier(random_state=90)\n",
    "\n",
    "#опишем сетку, по которой будем искать\n",
    "params_rfc = { 'max_depth': range(2, 11, 2), \n",
    "               'n_estimators': range(10, 101, 10), \n",
    "               'min_samples_leaf': range(2, 11, 2),\n",
    "               'min_samples_split': range(2, 11, 2),\n",
    "               'bootstrap' : [True, False] }\n",
    " \n",
    "#создадим объект GridSearchCV\n",
    "grid_rfc = GridSearchCV(RandomForestClassifier(random_state=90), params_rfc, \n",
    "                        cv=5, n_jobs=-1, scoring='f1')\n",
    "\n",
    "#запустим поиск\n",
    "grid_rfc.fit(features_downsampled, target_downsampled)\n",
    "\n",
    "#выведем наилучшие гиперпараметры \n",
    "grid_rfc.best_params_"
   ]
  },
  {
   "cell_type": "code",
   "execution_count": 62,
   "metadata": {},
   "outputs": [
    {
     "name": "stdout",
     "output_type": "stream",
     "text": [
      "F1: 0.5641025641025641\n",
      "AUC-ROC: 0.848377301944083\n"
     ]
    }
   ],
   "source": [
    "#выведем F1 и AUC-ROC модели с наилучшими гиперпараметрами.\n",
    "print('F1:',f1_score(target_valid, grid_dtc.best_estimator_.predict(features_valid)))\n",
    "\n",
    "probabilities_valid = grid_dtc.best_estimator_.predict_proba(features_valid)\n",
    "probabilities_one_valid = probabilities_valid[:, 1]\n",
    "print('AUC-ROC:', roc_auc_score(target_valid, probabilities_one_valid))"
   ]
  },
  {
   "cell_type": "markdown",
   "metadata": {},
   "source": [
    "#### Вывод"
   ]
  },
  {
   "cell_type": "markdown",
   "metadata": {},
   "source": [
    "Уменьшение выборки снизило незначительно снизило показатели F1 score и значительно повысило показатели AUC-ROC относительно метода взешивании класса и увеличении выборки.\n",
    "\n",
    "- F1 score Было: 0.54; Стало: 0.56.\n",
    "\n",
    "- AUC-ROC score Было: 0.73; Стало:0.85"
   ]
  },
  {
   "cell_type": "markdown",
   "metadata": {},
   "source": [
    "### Общий вывод"
   ]
  },
  {
   "cell_type": "markdown",
   "metadata": {},
   "source": [
    "- Логистическая регрессия\n",
    "\n",
    "Для данной модели все три метода показали одинаковые показатели F1: 0.49 и AUC-ROC: 0.77. Однако,данные результаты гораздо выше первоначальных показателей до борьбы дисбалансов. Показатели были следующие F1: 0.29 и AUC-ROC: 0.76.\n",
    "\n",
    "- Дерево решений\n",
    "\n",
    "Вот тут начинаются странности, может ревьюер прояcнит, или я где-то ошибся. Получается лучшими показателями для F1:0.60 и AUC-ROC:0.85 были до проведения борьбы с дисбалансом. Далее самым близким к этим значения был метод взвешивания со следующимим показателями F1:0.53 и AUC-ROC:0.83. Краткая сводка по остальным методам указани ниже:\n",
    "\n",
    "**Upsampling**\n",
    "  \n",
    "F1: 0.54.\n",
    "\n",
    "AUC-ROC: 0.73\n",
    "\n",
    "**Downsampling**\n",
    "\n",
    "F1: 0.49.\n",
    "\n",
    "AUC-ROC: 0.77\n",
    "\n",
    "\n",
    "- Случайный лес\n",
    "\n",
    "Для случайного леса, так же, лучшие показатели до проведения борьбы с дисбалансом F1:0.59 и AUC-ROC:0.86. Одинаковые значения AUC-ROC получилусь у метода взвешивания классов и downsampling. Краткая сводка по остальным методам указани ниже:\n",
    "\n",
    "**Взвешивание классов**\n",
    "\n",
    "F1: 0.53.\n",
    "\n",
    "AUC-ROC:0.83\n",
    "\n",
    "**Upsampling**\n",
    "\n",
    "F1: 0.54.\n",
    "\n",
    "AUC-ROC:0.73\n",
    "\n",
    "**Downsampling**\n",
    "\n",
    "F1: 0.53.\n",
    "\n",
    "AUC-ROC:0.83\n",
    "\n",
    "По итогу лучшей моделью признается дерево решений."
   ]
  },
  {
   "cell_type": "markdown",
   "metadata": {},
   "source": [
    "## Тестирование модели"
   ]
  },
  {
   "cell_type": "code",
   "execution_count": 63,
   "metadata": {
    "scrolled": true
   },
   "outputs": [
    {
     "name": "stdout",
     "output_type": "stream",
     "text": [
      "F1: 0.605890603085554\n",
      "AUC-ROC: 0.8387053229022855\n"
     ]
    }
   ],
   "source": [
    "#Модель с лучшими F1 и AUC-ROC\n",
    "model_dtc_best = DecisionTreeClassifier(criterion='gini', max_depth=7, min_samples_leaf=9,\n",
    "                                   min_samples_split=2, splitter='best', random_state=90)\n",
    "model_dtc_best.fit(features_train, target_train)\n",
    "predictions = model_dtc_best.predict(features_test)\n",
    "\n",
    "print('F1:', f1_score(target_test, predictions))\n",
    "\n",
    "probabilities_test = model_dtc_best.predict_proba(features_test)\n",
    "probabilities_one_test = probabilities_test[:, 1]\n",
    "\n",
    "print('AUC-ROC:', roc_auc_score(target_test, probabilities_one_test))"
   ]
  },
  {
   "cell_type": "markdown",
   "metadata": {},
   "source": [
    "Удалось добиться значения F1-меры 0.606 на тестовой выборке."
   ]
  },
  {
   "cell_type": "markdown",
   "metadata": {},
   "source": [
    "### Объединим обучающую и валидационную выборки"
   ]
  },
  {
   "cell_type": "code",
   "execution_count": 64,
   "metadata": {},
   "outputs": [],
   "source": [
    "#Объединим обучающую и валидационную выборки features\n",
    "features_combined = pd.concat([features_train, features_valid], axis=0, ignore_index=True)\n",
    "\n",
    "#Объединим обучающую и валидационную выборки target\n",
    "target_combined = pd.concat([target_train, target_valid], axis=0, ignore_index=True)"
   ]
  },
  {
   "cell_type": "code",
   "execution_count": 65,
   "metadata": {},
   "outputs": [
    {
     "data": {
      "text/plain": [
       "(8000, 12)"
      ]
     },
     "execution_count": 65,
     "metadata": {},
     "output_type": "execute_result"
    }
   ],
   "source": [
    "features_combined.shape"
   ]
  },
  {
   "cell_type": "code",
   "execution_count": 66,
   "metadata": {},
   "outputs": [
    {
     "data": {
      "text/html": [
       "<div>\n",
       "<style scoped>\n",
       "    .dataframe tbody tr th:only-of-type {\n",
       "        vertical-align: middle;\n",
       "    }\n",
       "\n",
       "    .dataframe tbody tr th {\n",
       "        vertical-align: top;\n",
       "    }\n",
       "\n",
       "    .dataframe thead th {\n",
       "        text-align: right;\n",
       "    }\n",
       "</style>\n",
       "<table border=\"1\" class=\"dataframe\">\n",
       "  <thead>\n",
       "    <tr style=\"text-align: right;\">\n",
       "      <th></th>\n",
       "      <th>credit_score</th>\n",
       "      <th>gender</th>\n",
       "      <th>age</th>\n",
       "      <th>tenure</th>\n",
       "      <th>balance</th>\n",
       "      <th>num_of_products</th>\n",
       "      <th>ha_sc_rcard</th>\n",
       "      <th>is_active_member</th>\n",
       "      <th>estimated_salary</th>\n",
       "      <th>france_user</th>\n",
       "      <th>spain_user</th>\n",
       "      <th>germany_user</th>\n",
       "    </tr>\n",
       "  </thead>\n",
       "  <tbody>\n",
       "    <tr>\n",
       "      <th>604</th>\n",
       "      <td>0.014183</td>\n",
       "      <td>0</td>\n",
       "      <td>0.109937</td>\n",
       "      <td>-0.352044</td>\n",
       "      <td>0.049753</td>\n",
       "      <td>0.823208</td>\n",
       "      <td>1</td>\n",
       "      <td>1</td>\n",
       "      <td>-1.173735</td>\n",
       "      <td>1</td>\n",
       "      <td>0</td>\n",
       "      <td>0</td>\n",
       "    </tr>\n",
       "    <tr>\n",
       "      <th>244</th>\n",
       "      <td>-0.088331</td>\n",
       "      <td>1</td>\n",
       "      <td>-0.853575</td>\n",
       "      <td>0.010141</td>\n",
       "      <td>0.651771</td>\n",
       "      <td>-0.912297</td>\n",
       "      <td>0</td>\n",
       "      <td>0</td>\n",
       "      <td>-0.676271</td>\n",
       "      <td>1</td>\n",
       "      <td>0</td>\n",
       "      <td>0</td>\n",
       "    </tr>\n",
       "    <tr>\n",
       "      <th>2749</th>\n",
       "      <td>-0.805932</td>\n",
       "      <td>1</td>\n",
       "      <td>-1.238980</td>\n",
       "      <td>-0.352044</td>\n",
       "      <td>0.664475</td>\n",
       "      <td>0.823208</td>\n",
       "      <td>0</td>\n",
       "      <td>0</td>\n",
       "      <td>-0.703380</td>\n",
       "      <td>0</td>\n",
       "      <td>0</td>\n",
       "      <td>1</td>\n",
       "    </tr>\n",
       "    <tr>\n",
       "      <th>6366</th>\n",
       "      <td>1.808183</td>\n",
       "      <td>1</td>\n",
       "      <td>-0.082766</td>\n",
       "      <td>0.010141</td>\n",
       "      <td>-1.231101</td>\n",
       "      <td>0.823208</td>\n",
       "      <td>0</td>\n",
       "      <td>0</td>\n",
       "      <td>0.046274</td>\n",
       "      <td>1</td>\n",
       "      <td>0</td>\n",
       "      <td>0</td>\n",
       "    </tr>\n",
       "    <tr>\n",
       "      <th>6656</th>\n",
       "      <td>-0.990457</td>\n",
       "      <td>0</td>\n",
       "      <td>-1.238980</td>\n",
       "      <td>0.734512</td>\n",
       "      <td>0.252945</td>\n",
       "      <td>0.823208</td>\n",
       "      <td>1</td>\n",
       "      <td>0</td>\n",
       "      <td>1.609385</td>\n",
       "      <td>1</td>\n",
       "      <td>0</td>\n",
       "      <td>0</td>\n",
       "    </tr>\n",
       "  </tbody>\n",
       "</table>\n",
       "</div>"
      ],
      "text/plain": [
       "      credit_score  gender       age    tenure   balance  num_of_products  \\\n",
       "604       0.014183       0  0.109937 -0.352044  0.049753         0.823208   \n",
       "244      -0.088331       1 -0.853575  0.010141  0.651771        -0.912297   \n",
       "2749     -0.805932       1 -1.238980 -0.352044  0.664475         0.823208   \n",
       "6366      1.808183       1 -0.082766  0.010141 -1.231101         0.823208   \n",
       "6656     -0.990457       0 -1.238980  0.734512  0.252945         0.823208   \n",
       "\n",
       "      ha_sc_rcard  is_active_member  estimated_salary  france_user  \\\n",
       "604             1                 1         -1.173735            1   \n",
       "244             0                 0         -0.676271            1   \n",
       "2749            0                 0         -0.703380            0   \n",
       "6366            0                 0          0.046274            1   \n",
       "6656            1                 0          1.609385            1   \n",
       "\n",
       "      spain_user  germany_user  \n",
       "604            0             0  \n",
       "244            0             0  \n",
       "2749           0             1  \n",
       "6366           0             0  \n",
       "6656           0             0  "
      ]
     },
     "execution_count": 66,
     "metadata": {},
     "output_type": "execute_result"
    }
   ],
   "source": [
    "features_combined.sample(5)"
   ]
  },
  {
   "cell_type": "code",
   "execution_count": 67,
   "metadata": {},
   "outputs": [
    {
     "data": {
      "text/plain": [
       "(8000,)"
      ]
     },
     "execution_count": 67,
     "metadata": {},
     "output_type": "execute_result"
    }
   ],
   "source": [
    "target_combined.shape"
   ]
  },
  {
   "cell_type": "code",
   "execution_count": 68,
   "metadata": {},
   "outputs": [
    {
     "data": {
      "text/plain": [
       "7415    0\n",
       "2623    0\n",
       "7979    0\n",
       "5498    0\n",
       "2682    0\n",
       "Name: exited, dtype: int64"
      ]
     },
     "execution_count": 68,
     "metadata": {},
     "output_type": "execute_result"
    }
   ],
   "source": [
    "target_combined.sample(5)"
   ]
  },
  {
   "cell_type": "code",
   "execution_count": 69,
   "metadata": {},
   "outputs": [],
   "source": [
    "#Применим метод upsempling\n",
    "def upsample(features, target, repeat):\n",
    "    features_zeros = features[target == 0]\n",
    "    features_ones = features[target == 1]\n",
    "    target_zeros = target[target == 0]\n",
    "    target_ones = target[target == 1]\n",
    "\n",
    "    features_upsampled_test = pd.concat([features_zeros] + [features_ones] * repeat)\n",
    "    target_upsampled_test = pd.concat([target_zeros] + [target_ones] * repeat)\n",
    "    \n",
    "    features_upsampled_test, target_upsampled_test = shuffle(\n",
    "        features_upsampled_test, target_upsampled_test, random_state=90)\n",
    "    \n",
    "    return features_upsampled_test, target_upsampled_test\n",
    "\n",
    "features_upsampled_test, target_upsampled_test = upsample(features_combined, target_combined, 4)"
   ]
  },
  {
   "cell_type": "code",
   "execution_count": 70,
   "metadata": {},
   "outputs": [
    {
     "data": {
      "text/plain": [
       "{'criterion': 'gini',\n",
       " 'max_depth': 10,\n",
       " 'min_samples_leaf': 2,\n",
       " 'min_samples_split': 2,\n",
       " 'splitter': 'best'}"
      ]
     },
     "execution_count": 70,
     "metadata": {},
     "output_type": "execute_result"
    }
   ],
   "source": [
    "#Обучим модель с подобранными гиперпараметрами с помощью GridSearchCV.\n",
    "\n",
    "#опишем сетку, по которой будем искать\n",
    "params_dtc = { 'criterion': ['gini', 'entropy'],\n",
    "               'max_depth': range(1, 11), \n",
    "               'splitter': ['best', 'random'],\n",
    "               'min_samples_split': range(2, 11, 2),\n",
    "               'min_samples_leaf': range(2, 11, 2) }\n",
    "\n",
    "\n",
    "#создадим объект GridSearchCV\n",
    "grid_dtc = GridSearchCV(DecisionTreeClassifier(random_state=90), \n",
    "                        params_dtc, cv=5, n_jobs=-1, scoring='f1')\n",
    "\n",
    "# запустим поиск\n",
    "grid_dtc.fit(features_upsampled_test, target_upsampled_test)\n",
    "\n",
    "# выведем наилучшие гиперпараметры\n",
    "grid_dtc.best_params_"
   ]
  },
  {
   "cell_type": "code",
   "execution_count": 71,
   "metadata": {},
   "outputs": [
    {
     "name": "stdout",
     "output_type": "stream",
     "text": [
      "F1: 0.5619512195121951\n",
      "AUC-ROC: 0.784411719588894\n"
     ]
    }
   ],
   "source": [
    "#выведем F1 и AUC-ROC модели с наилучшими гиперпараметрами.\n",
    "print('F1:',f1_score(target_test, grid_dtc.best_estimator_.predict(features_test)))\n",
    "\n",
    "probabilities_test = grid_dtc.best_estimator_.predict_proba(features_test)\n",
    "probabilities_one_test = probabilities_test[:, 1]\n",
    "print('AUC-ROC:', roc_auc_score(target_test, probabilities_one_test))"
   ]
  },
  {
   "cell_type": "markdown",
   "metadata": {},
   "source": [
    "Показатели выше чем были в п. 4.3, но недостаточны для прохождения критерия f1 = 0.59"
   ]
  }
 ],
 "metadata": {
  "ExecuteTimeLog": [
   {
    "duration": 1331,
    "start_time": "2022-03-05T17:12:25.012Z"
   },
   {
    "duration": 28,
    "start_time": "2022-03-05T17:13:34.430Z"
   },
   {
    "duration": 19,
    "start_time": "2022-03-05T17:13:44.530Z"
   },
   {
    "duration": 321,
    "start_time": "2022-03-05T17:40:13.123Z"
   },
   {
    "duration": 217,
    "start_time": "2022-03-05T17:40:17.766Z"
   },
   {
    "duration": 5,
    "start_time": "2022-03-05T17:40:43.958Z"
   },
   {
    "duration": 4,
    "start_time": "2022-03-05T17:40:49.179Z"
   },
   {
    "duration": 213,
    "start_time": "2022-03-05T17:40:52.190Z"
   },
   {
    "duration": 5,
    "start_time": "2022-03-05T17:41:04.568Z"
   },
   {
    "duration": 234,
    "start_time": "2022-03-05T17:41:31.410Z"
   },
   {
    "duration": 6,
    "start_time": "2022-03-05T17:41:33.996Z"
   },
   {
    "duration": 6,
    "start_time": "2022-03-05T17:43:34.383Z"
   },
   {
    "duration": 4,
    "start_time": "2022-03-05T17:45:07.564Z"
   },
   {
    "duration": 15,
    "start_time": "2022-03-05T17:45:13.802Z"
   },
   {
    "duration": 220,
    "start_time": "2022-03-05T17:50:35.570Z"
   },
   {
    "duration": 6,
    "start_time": "2022-03-05T17:50:44.350Z"
   },
   {
    "duration": 5,
    "start_time": "2022-03-05T17:50:47.523Z"
   },
   {
    "duration": 6,
    "start_time": "2022-03-05T17:50:57.268Z"
   },
   {
    "duration": 5,
    "start_time": "2022-03-05T17:51:03.464Z"
   },
   {
    "duration": 5,
    "start_time": "2022-03-05T17:51:09.315Z"
   },
   {
    "duration": 6,
    "start_time": "2022-03-05T17:51:14.427Z"
   },
   {
    "duration": 75,
    "start_time": "2022-03-05T17:52:03.202Z"
   },
   {
    "duration": 27,
    "start_time": "2022-03-05T17:52:07.843Z"
   },
   {
    "duration": 23,
    "start_time": "2022-03-05T17:52:21.240Z"
   },
   {
    "duration": 24,
    "start_time": "2022-03-05T17:53:34.826Z"
   },
   {
    "duration": 5,
    "start_time": "2022-03-05T17:54:02.609Z"
   },
   {
    "duration": 6,
    "start_time": "2022-03-05T17:54:08.254Z"
   },
   {
    "duration": 5,
    "start_time": "2022-03-05T17:54:14.649Z"
   },
   {
    "duration": 7,
    "start_time": "2022-03-05T17:56:31.829Z"
   },
   {
    "duration": 19,
    "start_time": "2022-03-05T18:10:33.211Z"
   },
   {
    "duration": 70,
    "start_time": "2022-03-05T18:10:51.778Z"
   },
   {
    "duration": 230,
    "start_time": "2022-03-05T18:10:56.477Z"
   },
   {
    "duration": 26,
    "start_time": "2022-03-05T18:11:52.228Z"
   },
   {
    "duration": 8,
    "start_time": "2022-03-05T18:13:26.082Z"
   },
   {
    "duration": 225,
    "start_time": "2022-03-05T18:14:01.426Z"
   },
   {
    "duration": 5,
    "start_time": "2022-03-05T18:14:05.373Z"
   },
   {
    "duration": 5,
    "start_time": "2022-03-05T18:20:24.050Z"
   },
   {
    "duration": 9,
    "start_time": "2022-03-05T18:20:35.716Z"
   },
   {
    "duration": 10,
    "start_time": "2022-03-05T18:21:14.133Z"
   },
   {
    "duration": 219,
    "start_time": "2022-03-05T18:21:28.821Z"
   },
   {
    "duration": 10,
    "start_time": "2022-03-05T18:21:45.563Z"
   },
   {
    "duration": 9,
    "start_time": "2022-03-05T18:21:59.399Z"
   },
   {
    "duration": 8,
    "start_time": "2022-03-05T18:23:13.242Z"
   },
   {
    "duration": 6,
    "start_time": "2022-03-05T18:23:15.469Z"
   },
   {
    "duration": 9,
    "start_time": "2022-03-05T18:23:16.604Z"
   },
   {
    "duration": 15,
    "start_time": "2022-03-05T18:23:56.534Z"
   },
   {
    "duration": 8,
    "start_time": "2022-03-05T18:24:25.227Z"
   },
   {
    "duration": 5,
    "start_time": "2022-03-05T18:24:56.827Z"
   },
   {
    "duration": 5,
    "start_time": "2022-03-05T18:25:15.915Z"
   },
   {
    "duration": 4,
    "start_time": "2022-03-05T18:25:55.653Z"
   },
   {
    "duration": 14,
    "start_time": "2022-03-05T18:25:58.722Z"
   },
   {
    "duration": 9,
    "start_time": "2022-03-05T18:26:11.553Z"
   },
   {
    "duration": 10,
    "start_time": "2022-03-05T18:27:29.642Z"
   },
   {
    "duration": 10,
    "start_time": "2022-03-05T18:27:42.746Z"
   },
   {
    "duration": 11,
    "start_time": "2022-03-05T18:28:24.995Z"
   },
   {
    "duration": 17,
    "start_time": "2022-03-05T18:28:30.600Z"
   },
   {
    "duration": 7,
    "start_time": "2022-03-05T18:29:16.592Z"
   },
   {
    "duration": 10,
    "start_time": "2022-03-05T18:29:57.769Z"
   },
   {
    "duration": 81,
    "start_time": "2022-03-05T18:30:07.313Z"
   },
   {
    "duration": 9,
    "start_time": "2022-03-05T18:30:14.364Z"
   },
   {
    "duration": 8,
    "start_time": "2022-03-05T18:30:22.611Z"
   },
   {
    "duration": 7,
    "start_time": "2022-03-05T18:30:28.496Z"
   },
   {
    "duration": 1433,
    "start_time": "2022-03-13T10:22:38.496Z"
   },
   {
    "duration": 26,
    "start_time": "2022-03-13T10:22:39.931Z"
   },
   {
    "duration": 18,
    "start_time": "2022-03-13T10:22:39.960Z"
   },
   {
    "duration": 5,
    "start_time": "2022-03-13T10:22:39.980Z"
   },
   {
    "duration": 4,
    "start_time": "2022-03-13T10:22:40.002Z"
   },
   {
    "duration": 24,
    "start_time": "2022-03-13T10:22:40.007Z"
   },
   {
    "duration": 11,
    "start_time": "2022-03-13T10:22:40.033Z"
   },
   {
    "duration": 8,
    "start_time": "2022-03-13T10:22:40.046Z"
   },
   {
    "duration": 10,
    "start_time": "2022-03-13T10:22:40.057Z"
   },
   {
    "duration": 38,
    "start_time": "2022-03-13T10:22:40.070Z"
   },
   {
    "duration": 24,
    "start_time": "2022-03-13T10:22:40.111Z"
   },
   {
    "duration": 6,
    "start_time": "2022-03-13T10:23:40.236Z"
   },
   {
    "duration": 349,
    "start_time": "2022-03-13T10:23:52.551Z"
   },
   {
    "duration": 254,
    "start_time": "2022-03-13T10:23:56.714Z"
   },
   {
    "duration": 353,
    "start_time": "2022-03-13T10:24:02.843Z"
   },
   {
    "duration": 316,
    "start_time": "2022-03-13T10:24:09.562Z"
   },
   {
    "duration": 5,
    "start_time": "2022-03-13T10:24:14.340Z"
   },
   {
    "duration": 5,
    "start_time": "2022-03-13T10:24:17.002Z"
   },
   {
    "duration": 243,
    "start_time": "2022-03-13T10:24:26.287Z"
   },
   {
    "duration": 223,
    "start_time": "2022-03-13T10:24:33.532Z"
   },
   {
    "duration": 78,
    "start_time": "2022-03-13T10:25:08.124Z"
   },
   {
    "duration": 7,
    "start_time": "2022-03-13T10:25:10.050Z"
   },
   {
    "duration": 8,
    "start_time": "2022-03-13T10:25:16.019Z"
   },
   {
    "duration": 1274,
    "start_time": "2022-03-13T11:00:47.254Z"
   },
   {
    "duration": 27,
    "start_time": "2022-03-13T11:00:48.530Z"
   },
   {
    "duration": 17,
    "start_time": "2022-03-13T11:00:48.560Z"
   },
   {
    "duration": 48,
    "start_time": "2022-03-13T11:00:48.580Z"
   },
   {
    "duration": 31,
    "start_time": "2022-03-13T11:00:48.630Z"
   },
   {
    "duration": 53,
    "start_time": "2022-03-13T11:00:48.663Z"
   },
   {
    "duration": 24,
    "start_time": "2022-03-13T11:00:48.718Z"
   },
   {
    "duration": 6,
    "start_time": "2022-03-13T11:00:48.745Z"
   },
   {
    "duration": 10,
    "start_time": "2022-03-13T11:00:48.753Z"
   },
   {
    "duration": 8,
    "start_time": "2022-03-13T11:00:48.765Z"
   },
   {
    "duration": 31,
    "start_time": "2022-03-13T11:00:48.774Z"
   },
   {
    "duration": 23,
    "start_time": "2022-03-13T11:00:48.807Z"
   },
   {
    "duration": 8,
    "start_time": "2022-03-13T11:04:37.887Z"
   },
   {
    "duration": 9,
    "start_time": "2022-03-13T11:04:44.612Z"
   },
   {
    "duration": 323,
    "start_time": "2022-03-13T11:05:34.108Z"
   },
   {
    "duration": 5,
    "start_time": "2022-03-13T11:05:44.072Z"
   },
   {
    "duration": 8,
    "start_time": "2022-03-13T11:09:52.215Z"
   },
   {
    "duration": 8,
    "start_time": "2022-03-13T11:10:02.115Z"
   },
   {
    "duration": 10,
    "start_time": "2022-03-13T11:10:15.842Z"
   },
   {
    "duration": 8,
    "start_time": "2022-03-13T11:10:22.134Z"
   },
   {
    "duration": 8,
    "start_time": "2022-03-13T11:13:13.727Z"
   },
   {
    "duration": 246,
    "start_time": "2022-03-13T11:18:27.405Z"
   },
   {
    "duration": 8,
    "start_time": "2022-03-13T11:18:34.507Z"
   },
   {
    "duration": 7,
    "start_time": "2022-03-13T11:19:07.544Z"
   },
   {
    "duration": 7,
    "start_time": "2022-03-13T11:19:43.478Z"
   },
   {
    "duration": 7,
    "start_time": "2022-03-13T11:19:49.119Z"
   },
   {
    "duration": 7,
    "start_time": "2022-03-13T11:20:38.301Z"
   },
   {
    "duration": 6,
    "start_time": "2022-03-13T11:20:53.421Z"
   },
   {
    "duration": 3,
    "start_time": "2022-03-13T11:22:59.635Z"
   },
   {
    "duration": 435,
    "start_time": "2022-03-13T11:26:53.952Z"
   },
   {
    "duration": 41,
    "start_time": "2022-03-13T11:27:00.316Z"
   },
   {
    "duration": 296,
    "start_time": "2022-03-13T11:39:02.278Z"
   },
   {
    "duration": 298,
    "start_time": "2022-03-13T11:42:19.634Z"
   },
   {
    "duration": 24,
    "start_time": "2022-03-13T12:25:08.052Z"
   },
   {
    "duration": 1382,
    "start_time": "2022-03-13T12:25:15.063Z"
   },
   {
    "duration": 30,
    "start_time": "2022-03-13T12:25:16.447Z"
   },
   {
    "duration": 23,
    "start_time": "2022-03-13T12:25:16.479Z"
   },
   {
    "duration": 8,
    "start_time": "2022-03-13T12:25:16.504Z"
   },
   {
    "duration": 8,
    "start_time": "2022-03-13T12:25:16.514Z"
   },
   {
    "duration": 21,
    "start_time": "2022-03-13T12:25:16.524Z"
   },
   {
    "duration": 10,
    "start_time": "2022-03-13T12:25:16.547Z"
   },
   {
    "duration": 9,
    "start_time": "2022-03-13T12:25:16.560Z"
   },
   {
    "duration": 32,
    "start_time": "2022-03-13T12:25:16.571Z"
   },
   {
    "duration": 8,
    "start_time": "2022-03-13T12:25:16.605Z"
   },
   {
    "duration": 12,
    "start_time": "2022-03-13T12:25:16.615Z"
   },
   {
    "duration": 7,
    "start_time": "2022-03-13T12:25:16.629Z"
   },
   {
    "duration": 71,
    "start_time": "2022-03-13T12:25:16.638Z"
   },
   {
    "duration": 22,
    "start_time": "2022-03-13T12:25:16.711Z"
   },
   {
    "duration": 79,
    "start_time": "2022-03-13T12:30:19.860Z"
   },
   {
    "duration": 8,
    "start_time": "2022-03-13T12:31:00.250Z"
   },
   {
    "duration": 6508,
    "start_time": "2022-03-13T12:34:43.614Z"
   },
   {
    "duration": 12,
    "start_time": "2022-03-13T12:36:56.130Z"
   },
   {
    "duration": 10,
    "start_time": "2022-03-13T12:36:58.335Z"
   },
   {
    "duration": 41,
    "start_time": "2022-03-13T12:37:00.928Z"
   },
   {
    "duration": 225,
    "start_time": "2022-03-13T12:38:40.271Z"
   },
   {
    "duration": 10,
    "start_time": "2022-03-13T12:38:48.053Z"
   },
   {
    "duration": 24,
    "start_time": "2022-03-13T12:39:14.618Z"
   },
   {
    "duration": 7,
    "start_time": "2022-03-13T12:42:59.585Z"
   },
   {
    "duration": 9,
    "start_time": "2022-03-13T12:46:08.113Z"
   },
   {
    "duration": 9,
    "start_time": "2022-03-13T12:49:45.458Z"
   },
   {
    "duration": 9,
    "start_time": "2022-03-13T12:50:54.330Z"
   },
   {
    "duration": 5,
    "start_time": "2022-03-13T12:51:12.788Z"
   },
   {
    "duration": 10,
    "start_time": "2022-03-13T12:51:19.909Z"
   },
   {
    "duration": 254,
    "start_time": "2022-03-13T12:51:37.882Z"
   },
   {
    "duration": 242,
    "start_time": "2022-03-13T12:51:45.175Z"
   },
   {
    "duration": 6,
    "start_time": "2022-03-13T12:51:54.967Z"
   },
   {
    "duration": 249,
    "start_time": "2022-03-13T12:52:08.858Z"
   },
   {
    "duration": 90,
    "start_time": "2022-03-13T12:52:13.474Z"
   },
   {
    "duration": 532,
    "start_time": "2022-03-13T12:52:19.043Z"
   },
   {
    "duration": 8,
    "start_time": "2022-03-13T12:59:44.237Z"
   },
   {
    "duration": 9,
    "start_time": "2022-03-13T12:59:45.566Z"
   },
   {
    "duration": 240,
    "start_time": "2022-03-13T12:59:47.301Z"
   },
   {
    "duration": 16,
    "start_time": "2022-03-13T13:00:04.056Z"
   },
   {
    "duration": 8,
    "start_time": "2022-03-13T13:01:35.815Z"
   },
   {
    "duration": 268,
    "start_time": "2022-03-13T13:06:51.928Z"
   },
   {
    "duration": 5,
    "start_time": "2022-03-13T13:07:09.792Z"
   },
   {
    "duration": 7,
    "start_time": "2022-03-13T13:08:36.731Z"
   },
   {
    "duration": 23,
    "start_time": "2022-03-13T13:08:47.126Z"
   },
   {
    "duration": 8,
    "start_time": "2022-03-13T13:10:42.462Z"
   },
   {
    "duration": 9,
    "start_time": "2022-03-13T13:11:43.279Z"
   },
   {
    "duration": 235,
    "start_time": "2022-03-13T13:11:52.165Z"
   },
   {
    "duration": 21,
    "start_time": "2022-03-13T13:11:56.619Z"
   },
   {
    "duration": 22,
    "start_time": "2022-03-13T13:13:04.077Z"
   },
   {
    "duration": 5,
    "start_time": "2022-03-13T13:13:21.765Z"
   },
   {
    "duration": 22,
    "start_time": "2022-03-13T13:13:28.041Z"
   },
   {
    "duration": 5842,
    "start_time": "2022-03-13T13:14:40.298Z"
   },
   {
    "duration": 5976,
    "start_time": "2022-03-13T13:14:54.325Z"
   },
   {
    "duration": 1278,
    "start_time": "2022-03-13T13:15:29.345Z"
   },
   {
    "duration": 27,
    "start_time": "2022-03-13T13:15:30.625Z"
   },
   {
    "duration": 19,
    "start_time": "2022-03-13T13:15:30.655Z"
   },
   {
    "duration": 44,
    "start_time": "2022-03-13T13:15:30.677Z"
   },
   {
    "duration": 54,
    "start_time": "2022-03-13T13:15:30.723Z"
   },
   {
    "duration": 41,
    "start_time": "2022-03-13T13:15:30.780Z"
   },
   {
    "duration": 33,
    "start_time": "2022-03-13T13:15:30.823Z"
   },
   {
    "duration": 41,
    "start_time": "2022-03-13T13:15:30.858Z"
   },
   {
    "duration": 28,
    "start_time": "2022-03-13T13:15:30.902Z"
   },
   {
    "duration": 27,
    "start_time": "2022-03-13T13:15:30.932Z"
   },
   {
    "duration": 14,
    "start_time": "2022-03-13T13:15:30.961Z"
   },
   {
    "duration": 22,
    "start_time": "2022-03-13T13:15:30.977Z"
   },
   {
    "duration": 29,
    "start_time": "2022-03-13T13:15:31.001Z"
   },
   {
    "duration": 11,
    "start_time": "2022-03-13T13:15:31.032Z"
   },
   {
    "duration": 25,
    "start_time": "2022-03-13T13:15:31.045Z"
   },
   {
    "duration": 14,
    "start_time": "2022-03-13T13:15:31.072Z"
   },
   {
    "duration": 31,
    "start_time": "2022-03-13T13:15:31.088Z"
   },
   {
    "duration": 6508,
    "start_time": "2022-03-13T13:15:31.121Z"
   },
   {
    "duration": -96,
    "start_time": "2022-03-13T13:15:37.728Z"
   },
   {
    "duration": 229,
    "start_time": "2022-03-13T13:41:53.860Z"
   },
   {
    "duration": 10,
    "start_time": "2022-03-13T13:41:59.292Z"
   },
   {
    "duration": 5,
    "start_time": "2022-03-13T13:42:00.734Z"
   },
   {
    "duration": 4,
    "start_time": "2022-03-13T13:42:01.189Z"
   },
   {
    "duration": 5,
    "start_time": "2022-03-13T13:42:01.602Z"
   },
   {
    "duration": 5,
    "start_time": "2022-03-13T13:42:36.648Z"
   },
   {
    "duration": 5,
    "start_time": "2022-03-13T13:43:14.267Z"
   },
   {
    "duration": 78,
    "start_time": "2022-03-13T13:43:24.182Z"
   },
   {
    "duration": 5,
    "start_time": "2022-03-13T13:43:28.447Z"
   },
   {
    "duration": 76,
    "start_time": "2022-03-13T13:43:59.984Z"
   },
   {
    "duration": 5,
    "start_time": "2022-03-13T13:44:06.106Z"
   },
   {
    "duration": 1144,
    "start_time": "2022-03-13T18:03:55.169Z"
   },
   {
    "duration": 28,
    "start_time": "2022-03-13T18:03:56.315Z"
   },
   {
    "duration": 14,
    "start_time": "2022-03-13T18:03:56.346Z"
   },
   {
    "duration": 5,
    "start_time": "2022-03-13T18:03:56.361Z"
   },
   {
    "duration": 10,
    "start_time": "2022-03-13T18:03:56.367Z"
   },
   {
    "duration": 14,
    "start_time": "2022-03-13T18:03:56.378Z"
   },
   {
    "duration": 9,
    "start_time": "2022-03-13T18:03:56.393Z"
   },
   {
    "duration": 3,
    "start_time": "2022-03-13T18:03:56.405Z"
   },
   {
    "duration": 33,
    "start_time": "2022-03-13T18:03:56.410Z"
   },
   {
    "duration": 7,
    "start_time": "2022-03-13T18:03:56.445Z"
   },
   {
    "duration": 6,
    "start_time": "2022-03-13T18:03:56.453Z"
   },
   {
    "duration": 12,
    "start_time": "2022-03-13T18:03:56.461Z"
   },
   {
    "duration": 13,
    "start_time": "2022-03-13T18:03:56.474Z"
   },
   {
    "duration": 6,
    "start_time": "2022-03-13T18:03:56.488Z"
   },
   {
    "duration": 11,
    "start_time": "2022-03-13T18:03:56.495Z"
   },
   {
    "duration": 4,
    "start_time": "2022-03-13T18:03:56.508Z"
   },
   {
    "duration": 31,
    "start_time": "2022-03-13T18:03:56.513Z"
   },
   {
    "duration": 9,
    "start_time": "2022-03-13T18:03:56.546Z"
   },
   {
    "duration": 7,
    "start_time": "2022-03-13T18:03:56.557Z"
   },
   {
    "duration": 1204,
    "start_time": "2022-03-13T18:05:18.216Z"
   },
   {
    "duration": 24,
    "start_time": "2022-03-13T18:05:19.422Z"
   },
   {
    "duration": 15,
    "start_time": "2022-03-13T18:05:19.448Z"
   },
   {
    "duration": 6,
    "start_time": "2022-03-13T18:05:19.465Z"
   },
   {
    "duration": 7,
    "start_time": "2022-03-13T18:05:19.473Z"
   },
   {
    "duration": 18,
    "start_time": "2022-03-13T18:05:19.482Z"
   },
   {
    "duration": 32,
    "start_time": "2022-03-13T18:05:19.502Z"
   },
   {
    "duration": 5,
    "start_time": "2022-03-13T18:05:19.537Z"
   },
   {
    "duration": 10,
    "start_time": "2022-03-13T18:05:19.544Z"
   },
   {
    "duration": 8,
    "start_time": "2022-03-13T18:05:19.556Z"
   },
   {
    "duration": 7,
    "start_time": "2022-03-13T18:05:19.566Z"
   },
   {
    "duration": 8,
    "start_time": "2022-03-13T18:05:19.575Z"
   },
   {
    "duration": 53,
    "start_time": "2022-03-13T18:05:19.585Z"
   },
   {
    "duration": 5,
    "start_time": "2022-03-13T18:05:19.639Z"
   },
   {
    "duration": 14,
    "start_time": "2022-03-13T18:05:19.645Z"
   },
   {
    "duration": 4,
    "start_time": "2022-03-13T18:05:19.661Z"
   },
   {
    "duration": 22,
    "start_time": "2022-03-13T18:05:19.667Z"
   },
   {
    "duration": 301,
    "start_time": "2022-03-13T18:05:19.691Z"
   },
   {
    "duration": -4,
    "start_time": "2022-03-13T18:05:19.999Z"
   },
   {
    "duration": -5,
    "start_time": "2022-03-13T18:05:20.001Z"
   },
   {
    "duration": 1176,
    "start_time": "2022-03-13T18:05:48.939Z"
   },
   {
    "duration": 30,
    "start_time": "2022-03-13T18:05:50.117Z"
   },
   {
    "duration": 17,
    "start_time": "2022-03-13T18:05:50.152Z"
   },
   {
    "duration": 4,
    "start_time": "2022-03-13T18:05:50.170Z"
   },
   {
    "duration": 5,
    "start_time": "2022-03-13T18:05:50.175Z"
   },
   {
    "duration": 14,
    "start_time": "2022-03-13T18:05:50.182Z"
   },
   {
    "duration": 38,
    "start_time": "2022-03-13T18:05:50.199Z"
   },
   {
    "duration": 4,
    "start_time": "2022-03-13T18:05:50.239Z"
   },
   {
    "duration": 8,
    "start_time": "2022-03-13T18:05:50.245Z"
   },
   {
    "duration": 8,
    "start_time": "2022-03-13T18:05:50.254Z"
   },
   {
    "duration": 8,
    "start_time": "2022-03-13T18:05:50.264Z"
   },
   {
    "duration": 10,
    "start_time": "2022-03-13T18:05:50.274Z"
   },
   {
    "duration": 52,
    "start_time": "2022-03-13T18:05:50.286Z"
   },
   {
    "duration": 5,
    "start_time": "2022-03-13T18:05:50.340Z"
   },
   {
    "duration": 15,
    "start_time": "2022-03-13T18:05:50.347Z"
   },
   {
    "duration": 8,
    "start_time": "2022-03-13T18:05:50.363Z"
   },
   {
    "duration": 18,
    "start_time": "2022-03-13T18:05:50.373Z"
   },
   {
    "duration": 4,
    "start_time": "2022-03-13T18:05:50.393Z"
   },
   {
    "duration": 42,
    "start_time": "2022-03-13T18:05:50.399Z"
   },
   {
    "duration": 5,
    "start_time": "2022-03-13T18:05:50.443Z"
   },
   {
    "duration": 4,
    "start_time": "2022-03-13T18:14:53.662Z"
   },
   {
    "duration": 4,
    "start_time": "2022-03-13T18:17:47.946Z"
   },
   {
    "duration": 4,
    "start_time": "2022-03-13T18:18:06.193Z"
   },
   {
    "duration": 3,
    "start_time": "2022-03-13T18:41:15.144Z"
   },
   {
    "duration": 3,
    "start_time": "2022-03-13T18:41:25.229Z"
   },
   {
    "duration": 4,
    "start_time": "2022-03-13T18:48:43.392Z"
   },
   {
    "duration": 1009,
    "start_time": "2022-03-13T19:20:35.899Z"
   },
   {
    "duration": 29,
    "start_time": "2022-03-13T19:20:36.910Z"
   },
   {
    "duration": 19,
    "start_time": "2022-03-13T19:20:36.941Z"
   },
   {
    "duration": 16,
    "start_time": "2022-03-13T19:20:36.962Z"
   },
   {
    "duration": 6,
    "start_time": "2022-03-13T19:20:36.979Z"
   },
   {
    "duration": 15,
    "start_time": "2022-03-13T19:20:36.987Z"
   },
   {
    "duration": 9,
    "start_time": "2022-03-13T19:20:37.004Z"
   },
   {
    "duration": 21,
    "start_time": "2022-03-13T19:20:37.015Z"
   },
   {
    "duration": 10,
    "start_time": "2022-03-13T19:20:37.038Z"
   },
   {
    "duration": 6,
    "start_time": "2022-03-13T19:20:37.049Z"
   },
   {
    "duration": 6,
    "start_time": "2022-03-13T19:20:37.058Z"
   },
   {
    "duration": 8,
    "start_time": "2022-03-13T19:20:37.066Z"
   },
   {
    "duration": 13,
    "start_time": "2022-03-13T19:20:37.075Z"
   },
   {
    "duration": 43,
    "start_time": "2022-03-13T19:20:37.090Z"
   },
   {
    "duration": 10,
    "start_time": "2022-03-13T19:20:37.135Z"
   },
   {
    "duration": 6,
    "start_time": "2022-03-13T19:20:37.146Z"
   },
   {
    "duration": 18,
    "start_time": "2022-03-13T19:20:37.153Z"
   },
   {
    "duration": 5,
    "start_time": "2022-03-13T19:20:37.173Z"
   },
   {
    "duration": 58,
    "start_time": "2022-03-13T19:20:37.179Z"
   },
   {
    "duration": 15,
    "start_time": "2022-03-13T19:20:37.225Z"
   },
   {
    "duration": 15,
    "start_time": "2022-03-13T19:20:37.226Z"
   },
   {
    "duration": 16,
    "start_time": "2022-03-13T19:20:37.227Z"
   },
   {
    "duration": 17,
    "start_time": "2022-03-13T19:20:37.227Z"
   },
   {
    "duration": 17,
    "start_time": "2022-03-13T19:20:37.228Z"
   },
   {
    "duration": 18,
    "start_time": "2022-03-13T19:20:37.229Z"
   },
   {
    "duration": 9,
    "start_time": "2022-03-13T19:21:05.920Z"
   },
   {
    "duration": 1045,
    "start_time": "2022-03-13T19:21:14.915Z"
   },
   {
    "duration": 23,
    "start_time": "2022-03-13T19:21:15.962Z"
   },
   {
    "duration": 19,
    "start_time": "2022-03-13T19:21:15.987Z"
   },
   {
    "duration": 4,
    "start_time": "2022-03-13T19:21:16.008Z"
   },
   {
    "duration": 20,
    "start_time": "2022-03-13T19:21:16.013Z"
   },
   {
    "duration": 14,
    "start_time": "2022-03-13T19:21:16.035Z"
   },
   {
    "duration": 7,
    "start_time": "2022-03-13T19:21:16.051Z"
   },
   {
    "duration": 3,
    "start_time": "2022-03-13T19:21:16.061Z"
   },
   {
    "duration": 8,
    "start_time": "2022-03-13T19:21:16.065Z"
   },
   {
    "duration": 6,
    "start_time": "2022-03-13T19:21:16.074Z"
   },
   {
    "duration": 5,
    "start_time": "2022-03-13T19:21:16.082Z"
   },
   {
    "duration": 44,
    "start_time": "2022-03-13T19:21:16.089Z"
   },
   {
    "duration": 12,
    "start_time": "2022-03-13T19:21:16.135Z"
   },
   {
    "duration": 5,
    "start_time": "2022-03-13T19:21:16.148Z"
   },
   {
    "duration": 9,
    "start_time": "2022-03-13T19:21:16.155Z"
   },
   {
    "duration": 5,
    "start_time": "2022-03-13T19:21:16.166Z"
   },
   {
    "duration": 16,
    "start_time": "2022-03-13T19:21:16.173Z"
   },
   {
    "duration": 4,
    "start_time": "2022-03-13T19:21:16.191Z"
   },
   {
    "duration": 44,
    "start_time": "2022-03-13T19:21:16.197Z"
   },
   {
    "duration": 330,
    "start_time": "2022-03-13T19:21:16.243Z"
   },
   {
    "duration": 13,
    "start_time": "2022-03-13T19:21:16.562Z"
   },
   {
    "duration": 12,
    "start_time": "2022-03-13T19:21:16.564Z"
   },
   {
    "duration": -8,
    "start_time": "2022-03-13T19:21:16.584Z"
   },
   {
    "duration": -11,
    "start_time": "2022-03-13T19:21:16.588Z"
   },
   {
    "duration": -11,
    "start_time": "2022-03-13T19:21:16.589Z"
   },
   {
    "duration": 3,
    "start_time": "2022-03-13T19:21:43.246Z"
   },
   {
    "duration": 978,
    "start_time": "2022-03-13T19:21:59.796Z"
   },
   {
    "duration": 24,
    "start_time": "2022-03-13T19:22:00.776Z"
   },
   {
    "duration": 20,
    "start_time": "2022-03-13T19:22:00.802Z"
   },
   {
    "duration": 10,
    "start_time": "2022-03-13T19:22:00.834Z"
   },
   {
    "duration": 7,
    "start_time": "2022-03-13T19:22:00.846Z"
   },
   {
    "duration": 35,
    "start_time": "2022-03-13T19:22:00.854Z"
   },
   {
    "duration": 24,
    "start_time": "2022-03-13T19:22:00.891Z"
   },
   {
    "duration": 12,
    "start_time": "2022-03-13T19:22:00.918Z"
   },
   {
    "duration": 17,
    "start_time": "2022-03-13T19:22:00.933Z"
   },
   {
    "duration": 20,
    "start_time": "2022-03-13T19:22:00.952Z"
   },
   {
    "duration": 10,
    "start_time": "2022-03-13T19:22:00.974Z"
   },
   {
    "duration": 11,
    "start_time": "2022-03-13T19:22:00.986Z"
   },
   {
    "duration": 13,
    "start_time": "2022-03-13T19:22:00.999Z"
   },
   {
    "duration": 5,
    "start_time": "2022-03-13T19:22:01.013Z"
   },
   {
    "duration": 17,
    "start_time": "2022-03-13T19:22:01.020Z"
   },
   {
    "duration": 16,
    "start_time": "2022-03-13T19:22:01.039Z"
   },
   {
    "duration": 38,
    "start_time": "2022-03-13T19:22:01.057Z"
   },
   {
    "duration": 9,
    "start_time": "2022-03-13T19:22:01.097Z"
   },
   {
    "duration": 19,
    "start_time": "2022-03-13T19:22:01.108Z"
   },
   {
    "duration": 6,
    "start_time": "2022-03-13T19:22:01.129Z"
   },
   {
    "duration": 23,
    "start_time": "2022-03-13T19:22:01.137Z"
   },
   {
    "duration": 17,
    "start_time": "2022-03-13T19:22:01.161Z"
   },
   {
    "duration": 23,
    "start_time": "2022-03-13T19:22:01.181Z"
   },
   {
    "duration": 20,
    "start_time": "2022-03-13T19:22:01.205Z"
   },
   {
    "duration": 14,
    "start_time": "2022-03-13T19:22:01.226Z"
   },
   {
    "duration": 11,
    "start_time": "2022-03-13T19:23:20.119Z"
   },
   {
    "duration": 12,
    "start_time": "2022-03-13T19:23:21.106Z"
   },
   {
    "duration": 10,
    "start_time": "2022-03-13T19:23:22.075Z"
   },
   {
    "duration": 11,
    "start_time": "2022-03-13T19:24:17.980Z"
   },
   {
    "duration": 9,
    "start_time": "2022-03-13T19:24:26.371Z"
   },
   {
    "duration": 10,
    "start_time": "2022-03-13T19:24:29.691Z"
   },
   {
    "duration": 11,
    "start_time": "2022-03-13T19:24:42.237Z"
   },
   {
    "duration": 11,
    "start_time": "2022-03-13T19:24:43.165Z"
   },
   {
    "duration": 11,
    "start_time": "2022-03-13T19:24:43.966Z"
   },
   {
    "duration": 19,
    "start_time": "2022-03-13T19:25:36.086Z"
   },
   {
    "duration": 11,
    "start_time": "2022-03-13T19:25:37.366Z"
   },
   {
    "duration": 12,
    "start_time": "2022-03-13T19:25:38.242Z"
   },
   {
    "duration": 12,
    "start_time": "2022-03-13T19:25:39.279Z"
   },
   {
    "duration": 1051,
    "start_time": "2022-03-13T19:25:54.708Z"
   },
   {
    "duration": 23,
    "start_time": "2022-03-13T19:25:55.761Z"
   },
   {
    "duration": 17,
    "start_time": "2022-03-13T19:25:55.786Z"
   },
   {
    "duration": 4,
    "start_time": "2022-03-13T19:25:55.805Z"
   },
   {
    "duration": 6,
    "start_time": "2022-03-13T19:25:55.810Z"
   },
   {
    "duration": 22,
    "start_time": "2022-03-13T19:25:55.818Z"
   },
   {
    "duration": 9,
    "start_time": "2022-03-13T19:25:55.842Z"
   },
   {
    "duration": 3,
    "start_time": "2022-03-13T19:25:55.853Z"
   },
   {
    "duration": 8,
    "start_time": "2022-03-13T19:25:55.858Z"
   },
   {
    "duration": 6,
    "start_time": "2022-03-13T19:25:55.868Z"
   },
   {
    "duration": 6,
    "start_time": "2022-03-13T19:25:55.876Z"
   },
   {
    "duration": 6,
    "start_time": "2022-03-13T19:25:55.884Z"
   },
   {
    "duration": 48,
    "start_time": "2022-03-13T19:25:55.892Z"
   },
   {
    "duration": 4,
    "start_time": "2022-03-13T19:25:55.942Z"
   },
   {
    "duration": 10,
    "start_time": "2022-03-13T19:25:55.948Z"
   },
   {
    "duration": 5,
    "start_time": "2022-03-13T19:25:55.960Z"
   },
   {
    "duration": 19,
    "start_time": "2022-03-13T19:25:55.966Z"
   },
   {
    "duration": 7,
    "start_time": "2022-03-13T19:25:55.986Z"
   },
   {
    "duration": 37,
    "start_time": "2022-03-13T19:25:55.995Z"
   },
   {
    "duration": 4,
    "start_time": "2022-03-13T19:25:56.034Z"
   },
   {
    "duration": 5,
    "start_time": "2022-03-13T19:25:56.040Z"
   },
   {
    "duration": 10,
    "start_time": "2022-03-13T19:25:56.046Z"
   },
   {
    "duration": 19,
    "start_time": "2022-03-13T19:25:56.058Z"
   },
   {
    "duration": 11,
    "start_time": "2022-03-13T19:25:56.078Z"
   },
   {
    "duration": 11,
    "start_time": "2022-03-13T19:25:56.090Z"
   },
   {
    "duration": 12,
    "start_time": "2022-03-13T19:25:56.132Z"
   },
   {
    "duration": 3,
    "start_time": "2022-03-13T19:34:38.262Z"
   },
   {
    "duration": 3,
    "start_time": "2022-03-13T19:35:24.956Z"
   },
   {
    "duration": 391,
    "start_time": "2022-03-14T09:07:58.742Z"
   },
   {
    "duration": 1844,
    "start_time": "2022-03-14T09:08:19.640Z"
   },
   {
    "duration": 664,
    "start_time": "2022-03-14T09:08:21.488Z"
   },
   {
    "duration": 30,
    "start_time": "2022-03-14T09:08:22.155Z"
   },
   {
    "duration": 6,
    "start_time": "2022-03-14T09:08:22.188Z"
   },
   {
    "duration": 7,
    "start_time": "2022-03-14T09:08:22.196Z"
   },
   {
    "duration": 23,
    "start_time": "2022-03-14T09:08:22.205Z"
   },
   {
    "duration": 45,
    "start_time": "2022-03-14T09:08:22.231Z"
   },
   {
    "duration": 6,
    "start_time": "2022-03-14T09:08:22.282Z"
   },
   {
    "duration": 13,
    "start_time": "2022-03-14T09:08:22.292Z"
   },
   {
    "duration": 12,
    "start_time": "2022-03-14T09:08:22.308Z"
   },
   {
    "duration": 51,
    "start_time": "2022-03-14T09:08:22.324Z"
   },
   {
    "duration": 13,
    "start_time": "2022-03-14T09:08:22.377Z"
   },
   {
    "duration": 18,
    "start_time": "2022-03-14T09:08:22.393Z"
   },
   {
    "duration": 5,
    "start_time": "2022-03-14T09:08:22.414Z"
   },
   {
    "duration": 54,
    "start_time": "2022-03-14T09:08:22.422Z"
   },
   {
    "duration": 6,
    "start_time": "2022-03-14T09:08:22.479Z"
   },
   {
    "duration": 31,
    "start_time": "2022-03-14T09:08:22.488Z"
   },
   {
    "duration": 6,
    "start_time": "2022-03-14T09:08:22.522Z"
   },
   {
    "duration": 52,
    "start_time": "2022-03-14T09:08:22.530Z"
   },
   {
    "duration": 5,
    "start_time": "2022-03-14T09:08:22.585Z"
   },
   {
    "duration": 7,
    "start_time": "2022-03-14T09:08:22.593Z"
   },
   {
    "duration": 15,
    "start_time": "2022-03-14T09:08:22.603Z"
   },
   {
    "duration": 70,
    "start_time": "2022-03-14T09:08:22.624Z"
   },
   {
    "duration": 22,
    "start_time": "2022-03-14T09:08:22.697Z"
   },
   {
    "duration": 21,
    "start_time": "2022-03-14T09:08:22.722Z"
   },
   {
    "duration": 54,
    "start_time": "2022-03-14T09:08:22.745Z"
   },
   {
    "duration": 8,
    "start_time": "2022-03-14T09:08:22.802Z"
   },
   {
    "duration": 842,
    "start_time": "2022-03-14T09:08:22.813Z"
   },
   {
    "duration": 17119,
    "start_time": "2022-03-14T09:09:34.288Z"
   },
   {
    "duration": 18176,
    "start_time": "2022-03-14T09:11:36.181Z"
   },
   {
    "duration": 16,
    "start_time": "2022-03-14T09:15:45.417Z"
   },
   {
    "duration": 584,
    "start_time": "2022-03-14T09:24:58.613Z"
   },
   {
    "duration": 4,
    "start_time": "2022-03-14T09:25:05.836Z"
   },
   {
    "duration": 316,
    "start_time": "2022-03-14T09:57:39.646Z"
   },
   {
    "duration": 1885,
    "start_time": "2022-03-14T09:58:04.894Z"
   },
   {
    "duration": 52,
    "start_time": "2022-03-14T09:58:06.783Z"
   },
   {
    "duration": 44,
    "start_time": "2022-03-14T09:58:06.838Z"
   },
   {
    "duration": 38,
    "start_time": "2022-03-14T09:58:06.885Z"
   },
   {
    "duration": 20,
    "start_time": "2022-03-14T09:58:06.926Z"
   },
   {
    "duration": 24,
    "start_time": "2022-03-14T09:58:06.949Z"
   },
   {
    "duration": 18,
    "start_time": "2022-03-14T09:58:06.976Z"
   },
   {
    "duration": 15,
    "start_time": "2022-03-14T09:58:06.998Z"
   },
   {
    "duration": 11,
    "start_time": "2022-03-14T09:58:07.017Z"
   },
   {
    "duration": 13,
    "start_time": "2022-03-14T09:58:07.031Z"
   },
   {
    "duration": 11,
    "start_time": "2022-03-14T09:58:07.075Z"
   },
   {
    "duration": 11,
    "start_time": "2022-03-14T09:58:07.089Z"
   },
   {
    "duration": 22,
    "start_time": "2022-03-14T09:58:07.102Z"
   },
   {
    "duration": 6,
    "start_time": "2022-03-14T09:58:07.126Z"
   },
   {
    "duration": 22,
    "start_time": "2022-03-14T09:58:07.172Z"
   },
   {
    "duration": 6,
    "start_time": "2022-03-14T09:58:07.197Z"
   },
   {
    "duration": 33,
    "start_time": "2022-03-14T09:58:07.206Z"
   },
   {
    "duration": 34,
    "start_time": "2022-03-14T09:58:07.242Z"
   },
   {
    "duration": 15,
    "start_time": "2022-03-14T09:58:07.279Z"
   },
   {
    "duration": 5,
    "start_time": "2022-03-14T09:58:07.297Z"
   },
   {
    "duration": 13,
    "start_time": "2022-03-14T09:58:07.306Z"
   },
   {
    "duration": 23,
    "start_time": "2022-03-14T09:58:07.321Z"
   },
   {
    "duration": 33,
    "start_time": "2022-03-14T09:58:07.374Z"
   },
   {
    "duration": 20,
    "start_time": "2022-03-14T09:58:07.409Z"
   },
   {
    "duration": 46,
    "start_time": "2022-03-14T09:58:07.432Z"
   },
   {
    "duration": 22,
    "start_time": "2022-03-14T09:58:07.481Z"
   },
   {
    "duration": 10,
    "start_time": "2022-03-14T09:58:07.505Z"
   },
   {
    "duration": 17491,
    "start_time": "2022-03-14T09:58:07.518Z"
   },
   {
    "duration": 66,
    "start_time": "2022-03-14T09:58:25.012Z"
   },
   {
    "duration": 521,
    "start_time": "2022-03-14T09:58:25.081Z"
   },
   {
    "duration": 512,
    "start_time": "2022-03-14T09:58:39.204Z"
   },
   {
    "duration": 241,
    "start_time": "2022-03-14T09:58:46.033Z"
   },
   {
    "duration": 147,
    "start_time": "2022-03-14T09:59:57.245Z"
   },
   {
    "duration": 8091,
    "start_time": "2022-03-14T10:00:06.405Z"
   },
   {
    "duration": 36,
    "start_time": "2022-03-14T10:00:17.853Z"
   },
   {
    "duration": 112,
    "start_time": "2022-03-14T10:00:25.954Z"
   },
   {
    "duration": 96,
    "start_time": "2022-03-14T10:00:30.343Z"
   },
   {
    "duration": 66,
    "start_time": "2022-03-14T10:00:32.909Z"
   },
   {
    "duration": 37,
    "start_time": "2022-03-14T10:00:37.117Z"
   },
   {
    "duration": 30,
    "start_time": "2022-03-14T10:00:53.444Z"
   },
   {
    "duration": 71,
    "start_time": "2022-03-14T10:02:39.007Z"
   },
   {
    "duration": 8058,
    "start_time": "2022-03-14T10:05:22.948Z"
   },
   {
    "duration": 73,
    "start_time": "2022-03-14T10:05:37.001Z"
   },
   {
    "duration": 304,
    "start_time": "2022-03-14T10:05:50.533Z"
   },
   {
    "duration": 100,
    "start_time": "2022-03-14T10:06:10.955Z"
   },
   {
    "duration": 8061,
    "start_time": "2022-03-14T10:06:17.539Z"
   },
   {
    "duration": 1435,
    "start_time": "2022-03-14T11:14:08.692Z"
   },
   {
    "duration": 32,
    "start_time": "2022-03-14T11:14:10.130Z"
   },
   {
    "duration": 36,
    "start_time": "2022-03-14T11:14:10.165Z"
   },
   {
    "duration": 6,
    "start_time": "2022-03-14T11:14:10.204Z"
   },
   {
    "duration": 4,
    "start_time": "2022-03-14T11:14:10.213Z"
   },
   {
    "duration": 22,
    "start_time": "2022-03-14T11:14:10.219Z"
   },
   {
    "duration": 10,
    "start_time": "2022-03-14T11:14:10.274Z"
   },
   {
    "duration": 5,
    "start_time": "2022-03-14T11:14:10.289Z"
   },
   {
    "duration": 11,
    "start_time": "2022-03-14T11:14:10.297Z"
   },
   {
    "duration": 9,
    "start_time": "2022-03-14T11:14:10.310Z"
   },
   {
    "duration": 54,
    "start_time": "2022-03-14T11:14:10.321Z"
   },
   {
    "duration": 12,
    "start_time": "2022-03-14T11:14:10.377Z"
   },
   {
    "duration": 17,
    "start_time": "2022-03-14T11:14:10.392Z"
   },
   {
    "duration": 6,
    "start_time": "2022-03-14T11:14:10.412Z"
   },
   {
    "duration": 14,
    "start_time": "2022-03-14T11:14:10.421Z"
   },
   {
    "duration": 7,
    "start_time": "2022-03-14T11:14:10.473Z"
   },
   {
    "duration": 32,
    "start_time": "2022-03-14T11:14:10.482Z"
   },
   {
    "duration": 5,
    "start_time": "2022-03-14T11:14:10.517Z"
   },
   {
    "duration": 16,
    "start_time": "2022-03-14T11:14:10.525Z"
   },
   {
    "duration": 6,
    "start_time": "2022-03-14T11:14:10.574Z"
   },
   {
    "duration": 5,
    "start_time": "2022-03-14T11:14:10.583Z"
   },
   {
    "duration": 18,
    "start_time": "2022-03-14T11:14:10.590Z"
   },
   {
    "duration": 60,
    "start_time": "2022-03-14T11:14:10.613Z"
   },
   {
    "duration": 19,
    "start_time": "2022-03-14T11:14:10.676Z"
   },
   {
    "duration": 21,
    "start_time": "2022-03-14T11:14:10.697Z"
   },
   {
    "duration": 54,
    "start_time": "2022-03-14T11:14:10.721Z"
   },
   {
    "duration": 8,
    "start_time": "2022-03-14T11:14:10.778Z"
   },
   {
    "duration": 8008,
    "start_time": "2022-03-14T11:14:10.788Z"
   },
   {
    "duration": 62,
    "start_time": "2022-03-14T11:14:18.812Z"
   },
   {
    "duration": 120,
    "start_time": "2022-03-14T11:14:18.879Z"
   },
   {
    "duration": 8123,
    "start_time": "2022-03-14T11:14:19.076Z"
   },
   {
    "duration": 123,
    "start_time": "2022-03-14T11:32:32.462Z"
   },
   {
    "duration": 8433,
    "start_time": "2022-03-14T11:32:46.987Z"
   },
   {
    "duration": 474,
    "start_time": "2022-03-14T11:33:02.630Z"
   },
   {
    "duration": 19,
    "start_time": "2022-03-14T11:33:15.435Z"
   },
   {
    "duration": 100,
    "start_time": "2022-03-14T11:33:44.275Z"
   },
   {
    "duration": 45,
    "start_time": "2022-03-14T11:34:06.534Z"
   },
   {
    "duration": 9090,
    "start_time": "2022-03-14T11:34:26.333Z"
   },
   {
    "duration": 8389,
    "start_time": "2022-03-14T11:37:19.632Z"
   },
   {
    "duration": 8808,
    "start_time": "2022-03-14T11:48:30.935Z"
   },
   {
    "duration": 349,
    "start_time": "2022-03-14T11:49:39.222Z"
   },
   {
    "duration": 8534,
    "start_time": "2022-03-14T11:49:48.286Z"
   },
   {
    "duration": 95,
    "start_time": "2022-03-14T11:53:09.636Z"
   },
   {
    "duration": 1354,
    "start_time": "2022-03-14T11:53:15.599Z"
   },
   {
    "duration": 1294,
    "start_time": "2022-03-14T11:53:48.795Z"
   },
   {
    "duration": 375,
    "start_time": "2022-03-14T11:54:43.760Z"
   },
   {
    "duration": 4,
    "start_time": "2022-03-14T11:55:13.811Z"
   },
   {
    "duration": 5,
    "start_time": "2022-03-14T11:55:27.884Z"
   },
   {
    "duration": 1694,
    "start_time": "2022-03-14T11:55:35.979Z"
   },
   {
    "duration": 8736,
    "start_time": "2022-03-14T11:56:40.396Z"
   },
   {
    "duration": 8634,
    "start_time": "2022-03-14T11:57:30.496Z"
   },
   {
    "duration": 4,
    "start_time": "2022-03-14T11:58:06.995Z"
   },
   {
    "duration": 4,
    "start_time": "2022-03-14T11:58:08.237Z"
   },
   {
    "duration": 1392,
    "start_time": "2022-03-14T11:58:12.016Z"
   },
   {
    "duration": 1316,
    "start_time": "2022-03-14T11:59:10.771Z"
   },
   {
    "duration": 293,
    "start_time": "2022-03-14T12:00:45.990Z"
   },
   {
    "duration": 1304,
    "start_time": "2022-03-14T12:05:22.288Z"
   },
   {
    "duration": 376,
    "start_time": "2022-03-14T12:05:46.779Z"
   },
   {
    "duration": 32,
    "start_time": "2022-03-14T12:13:32.852Z"
   },
   {
    "duration": 28,
    "start_time": "2022-03-14T12:14:51.329Z"
   },
   {
    "duration": 26,
    "start_time": "2022-03-14T12:14:53.441Z"
   },
   {
    "duration": 26,
    "start_time": "2022-03-14T12:14:58.639Z"
   },
   {
    "duration": 28,
    "start_time": "2022-03-14T12:15:06.997Z"
   },
   {
    "duration": 7,
    "start_time": "2022-03-14T12:18:13.203Z"
   },
   {
    "duration": 369,
    "start_time": "2022-03-14T12:18:50.554Z"
   },
   {
    "duration": 28,
    "start_time": "2022-03-14T12:19:04.114Z"
   },
   {
    "duration": 289,
    "start_time": "2022-03-14T12:19:23.162Z"
   },
   {
    "duration": 1837,
    "start_time": "2022-03-14T12:20:15.047Z"
   },
   {
    "duration": 1500,
    "start_time": "2022-03-14T12:21:23.323Z"
   },
   {
    "duration": 8,
    "start_time": "2022-03-14T12:23:46.747Z"
   },
   {
    "duration": 7794,
    "start_time": "2022-03-14T12:23:59.616Z"
   },
   {
    "duration": 332,
    "start_time": "2022-03-14T12:24:10.731Z"
   },
   {
    "duration": 80,
    "start_time": "2022-03-14T12:24:25.897Z"
   },
   {
    "duration": 97,
    "start_time": "2022-03-14T12:24:29.378Z"
   },
   {
    "duration": 1322,
    "start_time": "2022-03-14T12:24:35.160Z"
   },
   {
    "duration": 1688,
    "start_time": "2022-03-14T12:24:49.602Z"
   },
   {
    "duration": 1643,
    "start_time": "2022-03-14T12:25:14.418Z"
   },
   {
    "duration": 6,
    "start_time": "2022-03-14T12:25:41.737Z"
   },
   {
    "duration": 306,
    "start_time": "2022-03-14T12:25:53.220Z"
   },
   {
    "duration": 9,
    "start_time": "2022-03-14T12:26:00.388Z"
   },
   {
    "duration": 16400,
    "start_time": "2022-03-14T12:26:15.030Z"
   },
   {
    "duration": 17296,
    "start_time": "2022-03-14T12:26:44.854Z"
   },
   {
    "duration": 16,
    "start_time": "2022-03-14T12:27:06.252Z"
   },
   {
    "duration": 43,
    "start_time": "2022-03-14T12:27:18.782Z"
   },
   {
    "duration": 1525,
    "start_time": "2022-03-14T12:45:12.859Z"
   },
   {
    "duration": 41,
    "start_time": "2022-03-14T12:45:14.387Z"
   },
   {
    "duration": 29,
    "start_time": "2022-03-14T12:45:14.431Z"
   },
   {
    "duration": 6,
    "start_time": "2022-03-14T12:45:14.473Z"
   },
   {
    "duration": 7,
    "start_time": "2022-03-14T12:45:14.484Z"
   },
   {
    "duration": 38,
    "start_time": "2022-03-14T12:45:14.494Z"
   },
   {
    "duration": 21,
    "start_time": "2022-03-14T12:45:14.534Z"
   },
   {
    "duration": 8,
    "start_time": "2022-03-14T12:45:14.576Z"
   },
   {
    "duration": 26,
    "start_time": "2022-03-14T12:45:14.588Z"
   },
   {
    "duration": 12,
    "start_time": "2022-03-14T12:45:14.617Z"
   },
   {
    "duration": 15,
    "start_time": "2022-03-14T12:45:14.632Z"
   },
   {
    "duration": 48,
    "start_time": "2022-03-14T12:45:14.650Z"
   },
   {
    "duration": 18,
    "start_time": "2022-03-14T12:45:14.700Z"
   },
   {
    "duration": 6,
    "start_time": "2022-03-14T12:45:14.720Z"
   },
   {
    "duration": 14,
    "start_time": "2022-03-14T12:45:14.729Z"
   },
   {
    "duration": 29,
    "start_time": "2022-03-14T12:45:14.746Z"
   },
   {
    "duration": 36,
    "start_time": "2022-03-14T12:45:14.778Z"
   },
   {
    "duration": 5,
    "start_time": "2022-03-14T12:45:14.817Z"
   },
   {
    "duration": 21,
    "start_time": "2022-03-14T12:45:14.824Z"
   },
   {
    "duration": 29,
    "start_time": "2022-03-14T12:45:14.847Z"
   },
   {
    "duration": 24,
    "start_time": "2022-03-14T12:45:14.879Z"
   },
   {
    "duration": 21,
    "start_time": "2022-03-14T12:45:14.906Z"
   },
   {
    "duration": 41,
    "start_time": "2022-03-14T12:45:14.932Z"
   },
   {
    "duration": 26,
    "start_time": "2022-03-14T12:45:14.978Z"
   },
   {
    "duration": 20,
    "start_time": "2022-03-14T12:45:15.006Z"
   },
   {
    "duration": 64,
    "start_time": "2022-03-14T12:45:15.028Z"
   },
   {
    "duration": 8,
    "start_time": "2022-03-14T12:45:15.094Z"
   },
   {
    "duration": 8208,
    "start_time": "2022-03-14T12:45:15.104Z"
   },
   {
    "duration": 61,
    "start_time": "2022-03-14T12:45:23.315Z"
   },
   {
    "duration": 195,
    "start_time": "2022-03-14T12:45:23.380Z"
   },
   {
    "duration": 1860,
    "start_time": "2022-03-14T12:45:23.578Z"
   },
   {
    "duration": -118,
    "start_time": "2022-03-14T12:45:25.558Z"
   },
   {
    "duration": -119,
    "start_time": "2022-03-14T12:45:25.560Z"
   },
   {
    "duration": 1672,
    "start_time": "2022-03-14T12:45:59.686Z"
   },
   {
    "duration": 2213,
    "start_time": "2022-03-14T12:47:10.355Z"
   },
   {
    "duration": 8,
    "start_time": "2022-03-14T12:47:18.945Z"
   },
   {
    "duration": 48,
    "start_time": "2022-03-14T12:47:22.170Z"
   },
   {
    "duration": 48,
    "start_time": "2022-03-14T12:47:32.795Z"
   },
   {
    "duration": 129,
    "start_time": "2022-03-14T12:48:08.020Z"
   },
   {
    "duration": 28,
    "start_time": "2022-03-14T12:48:12.935Z"
   },
   {
    "duration": 17,
    "start_time": "2022-03-14T12:48:27.220Z"
   },
   {
    "duration": 24,
    "start_time": "2022-03-14T12:48:30.932Z"
   },
   {
    "duration": 35,
    "start_time": "2022-03-14T12:48:33.870Z"
   },
   {
    "duration": 32,
    "start_time": "2022-03-14T12:48:36.889Z"
   },
   {
    "duration": 35,
    "start_time": "2022-03-14T12:48:39.868Z"
   },
   {
    "duration": 2505,
    "start_time": "2022-03-14T12:48:45.190Z"
   },
   {
    "duration": 44,
    "start_time": "2022-03-14T12:48:53.839Z"
   },
   {
    "duration": 9,
    "start_time": "2022-03-14T12:48:57.026Z"
   },
   {
    "duration": 24252,
    "start_time": "2022-03-14T12:49:03.102Z"
   },
   {
    "duration": 9,
    "start_time": "2022-03-14T12:49:36.499Z"
   },
   {
    "duration": 25,
    "start_time": "2022-03-14T12:49:45.431Z"
   },
   {
    "duration": 15,
    "start_time": "2022-03-14T12:50:03.590Z"
   },
   {
    "duration": 31,
    "start_time": "2022-03-14T12:50:13.690Z"
   },
   {
    "duration": 19128,
    "start_time": "2022-03-14T12:50:22.107Z"
   },
   {
    "duration": 9,
    "start_time": "2022-03-14T12:50:47.048Z"
   },
   {
    "duration": 34,
    "start_time": "2022-03-14T12:50:51.729Z"
   },
   {
    "duration": 9,
    "start_time": "2022-03-14T12:51:42.294Z"
   },
   {
    "duration": 9,
    "start_time": "2022-03-14T12:52:29.922Z"
   },
   {
    "duration": 22650,
    "start_time": "2022-03-14T12:56:42.871Z"
   },
   {
    "duration": 8,
    "start_time": "2022-03-14T12:58:39.538Z"
   },
   {
    "duration": 17929,
    "start_time": "2022-03-14T12:58:48.080Z"
   },
   {
    "duration": 11,
    "start_time": "2022-03-14T13:00:38.924Z"
   },
   {
    "duration": 18,
    "start_time": "2022-03-14T13:00:43.018Z"
   },
   {
    "duration": 38,
    "start_time": "2022-03-14T13:00:48.734Z"
   },
   {
    "duration": 1460,
    "start_time": "2022-03-14T13:11:46.371Z"
   },
   {
    "duration": 32,
    "start_time": "2022-03-14T13:11:47.834Z"
   },
   {
    "duration": 30,
    "start_time": "2022-03-14T13:11:47.874Z"
   },
   {
    "duration": 8,
    "start_time": "2022-03-14T13:11:47.907Z"
   },
   {
    "duration": 6,
    "start_time": "2022-03-14T13:11:47.917Z"
   },
   {
    "duration": 50,
    "start_time": "2022-03-14T13:11:47.926Z"
   },
   {
    "duration": 12,
    "start_time": "2022-03-14T13:11:47.978Z"
   },
   {
    "duration": 5,
    "start_time": "2022-03-14T13:11:47.994Z"
   },
   {
    "duration": 14,
    "start_time": "2022-03-14T13:11:48.002Z"
   },
   {
    "duration": 9,
    "start_time": "2022-03-14T13:11:48.019Z"
   },
   {
    "duration": 53,
    "start_time": "2022-03-14T13:11:48.031Z"
   },
   {
    "duration": 18,
    "start_time": "2022-03-14T13:11:48.086Z"
   },
   {
    "duration": 17,
    "start_time": "2022-03-14T13:11:48.107Z"
   },
   {
    "duration": 5,
    "start_time": "2022-03-14T13:11:48.127Z"
   },
   {
    "duration": 49,
    "start_time": "2022-03-14T13:11:48.134Z"
   },
   {
    "duration": 6,
    "start_time": "2022-03-14T13:11:48.185Z"
   },
   {
    "duration": 31,
    "start_time": "2022-03-14T13:11:48.193Z"
   },
   {
    "duration": 8,
    "start_time": "2022-03-14T13:11:48.227Z"
   },
   {
    "duration": 14,
    "start_time": "2022-03-14T13:11:48.275Z"
   },
   {
    "duration": 4,
    "start_time": "2022-03-14T13:11:48.292Z"
   },
   {
    "duration": 6,
    "start_time": "2022-03-14T13:11:48.300Z"
   },
   {
    "duration": 24,
    "start_time": "2022-03-14T13:11:48.309Z"
   },
   {
    "duration": 63,
    "start_time": "2022-03-14T13:11:48.338Z"
   },
   {
    "duration": 19,
    "start_time": "2022-03-14T13:11:48.403Z"
   },
   {
    "duration": 24,
    "start_time": "2022-03-14T13:11:48.425Z"
   },
   {
    "duration": 19,
    "start_time": "2022-03-14T13:11:48.473Z"
   },
   {
    "duration": 9,
    "start_time": "2022-03-14T13:11:48.494Z"
   },
   {
    "duration": 8721,
    "start_time": "2022-03-14T13:11:48.506Z"
   },
   {
    "duration": 52,
    "start_time": "2022-03-14T13:11:57.230Z"
   },
   {
    "duration": 194,
    "start_time": "2022-03-14T13:11:57.285Z"
   },
   {
    "duration": 16858,
    "start_time": "2022-03-14T13:11:57.482Z"
   },
   {
    "duration": 9,
    "start_time": "2022-03-14T13:12:14.342Z"
   },
   {
    "duration": 51,
    "start_time": "2022-03-14T13:12:14.353Z"
   },
   {
    "duration": 362,
    "start_time": "2022-03-14T13:14:06.937Z"
   },
   {
    "duration": 306,
    "start_time": "2022-03-14T13:14:12.429Z"
   },
   {
    "duration": 1746,
    "start_time": "2022-03-14T13:14:50.485Z"
   },
   {
    "duration": 39,
    "start_time": "2022-03-14T13:14:52.234Z"
   },
   {
    "duration": 30,
    "start_time": "2022-03-14T13:14:52.277Z"
   },
   {
    "duration": 7,
    "start_time": "2022-03-14T13:14:52.310Z"
   },
   {
    "duration": 10,
    "start_time": "2022-03-14T13:14:52.320Z"
   },
   {
    "duration": 56,
    "start_time": "2022-03-14T13:14:52.333Z"
   },
   {
    "duration": 21,
    "start_time": "2022-03-14T13:14:52.392Z"
   },
   {
    "duration": 17,
    "start_time": "2022-03-14T13:14:52.417Z"
   },
   {
    "duration": 33,
    "start_time": "2022-03-14T13:14:52.440Z"
   },
   {
    "duration": 11,
    "start_time": "2022-03-14T13:14:52.477Z"
   },
   {
    "duration": 14,
    "start_time": "2022-03-14T13:14:52.491Z"
   },
   {
    "duration": 16,
    "start_time": "2022-03-14T13:14:52.508Z"
   },
   {
    "duration": 58,
    "start_time": "2022-03-14T13:14:52.528Z"
   },
   {
    "duration": 8,
    "start_time": "2022-03-14T13:14:52.590Z"
   },
   {
    "duration": 18,
    "start_time": "2022-03-14T13:14:52.600Z"
   },
   {
    "duration": 7,
    "start_time": "2022-03-14T13:14:52.621Z"
   },
   {
    "duration": 70,
    "start_time": "2022-03-14T13:14:52.632Z"
   },
   {
    "duration": 8,
    "start_time": "2022-03-14T13:14:52.706Z"
   },
   {
    "duration": 26,
    "start_time": "2022-03-14T13:14:52.717Z"
   },
   {
    "duration": 30,
    "start_time": "2022-03-14T13:14:52.746Z"
   },
   {
    "duration": 16,
    "start_time": "2022-03-14T13:14:52.778Z"
   },
   {
    "duration": 31,
    "start_time": "2022-03-14T13:14:52.798Z"
   },
   {
    "duration": 44,
    "start_time": "2022-03-14T13:14:52.832Z"
   },
   {
    "duration": 21,
    "start_time": "2022-03-14T13:14:52.879Z"
   },
   {
    "duration": 20,
    "start_time": "2022-03-14T13:14:52.903Z"
   },
   {
    "duration": 64,
    "start_time": "2022-03-14T13:14:52.927Z"
   },
   {
    "duration": 11,
    "start_time": "2022-03-14T13:14:52.996Z"
   },
   {
    "duration": 8829,
    "start_time": "2022-03-14T13:14:53.010Z"
   },
   {
    "duration": 39,
    "start_time": "2022-03-14T13:15:01.842Z"
   },
   {
    "duration": 292,
    "start_time": "2022-03-14T13:15:01.885Z"
   },
   {
    "duration": 18114,
    "start_time": "2022-03-14T13:15:02.181Z"
   },
   {
    "duration": 8,
    "start_time": "2022-03-14T13:15:20.298Z"
   },
   {
    "duration": 49,
    "start_time": "2022-03-14T13:15:20.308Z"
   },
   {
    "duration": 1393,
    "start_time": "2022-03-14T13:32:47.130Z"
   },
   {
    "duration": 32,
    "start_time": "2022-03-14T13:32:48.526Z"
   },
   {
    "duration": 38,
    "start_time": "2022-03-14T13:32:48.560Z"
   },
   {
    "duration": 6,
    "start_time": "2022-03-14T13:32:48.601Z"
   },
   {
    "duration": 12,
    "start_time": "2022-03-14T13:32:48.609Z"
   },
   {
    "duration": 31,
    "start_time": "2022-03-14T13:32:48.623Z"
   },
   {
    "duration": 9,
    "start_time": "2022-03-14T13:32:48.673Z"
   },
   {
    "duration": 5,
    "start_time": "2022-03-14T13:32:48.686Z"
   },
   {
    "duration": 14,
    "start_time": "2022-03-14T13:32:48.695Z"
   },
   {
    "duration": 9,
    "start_time": "2022-03-14T13:32:48.711Z"
   },
   {
    "duration": 57,
    "start_time": "2022-03-14T13:32:48.723Z"
   },
   {
    "duration": 46,
    "start_time": "2022-03-14T13:32:48.783Z"
   },
   {
    "duration": 19,
    "start_time": "2022-03-14T13:32:48.832Z"
   },
   {
    "duration": 7,
    "start_time": "2022-03-14T13:32:48.854Z"
   },
   {
    "duration": 20,
    "start_time": "2022-03-14T13:32:48.864Z"
   },
   {
    "duration": 8,
    "start_time": "2022-03-14T13:32:48.887Z"
   },
   {
    "duration": 31,
    "start_time": "2022-03-14T13:32:48.898Z"
   },
   {
    "duration": 42,
    "start_time": "2022-03-14T13:32:48.933Z"
   },
   {
    "duration": 14,
    "start_time": "2022-03-14T13:32:48.978Z"
   },
   {
    "duration": 7,
    "start_time": "2022-03-14T13:32:48.995Z"
   },
   {
    "duration": 9,
    "start_time": "2022-03-14T13:32:49.005Z"
   },
   {
    "duration": 14,
    "start_time": "2022-03-14T13:32:49.016Z"
   },
   {
    "duration": 33,
    "start_time": "2022-03-14T13:32:49.074Z"
   },
   {
    "duration": 20,
    "start_time": "2022-03-14T13:32:49.110Z"
   },
   {
    "duration": 54,
    "start_time": "2022-03-14T13:32:49.134Z"
   },
   {
    "duration": 24,
    "start_time": "2022-03-14T13:32:49.191Z"
   },
   {
    "duration": 7,
    "start_time": "2022-03-14T13:32:49.217Z"
   },
   {
    "duration": 8090,
    "start_time": "2022-03-14T13:32:49.227Z"
   },
   {
    "duration": 60,
    "start_time": "2022-03-14T13:32:57.319Z"
   },
   {
    "duration": 290,
    "start_time": "2022-03-14T13:32:57.383Z"
   },
   {
    "duration": 17289,
    "start_time": "2022-03-14T13:32:57.677Z"
   },
   {
    "duration": 11,
    "start_time": "2022-03-14T13:33:14.968Z"
   },
   {
    "duration": 35,
    "start_time": "2022-03-14T13:33:14.982Z"
   },
   {
    "duration": 1768,
    "start_time": "2022-03-14T13:39:29.674Z"
   },
   {
    "duration": 46,
    "start_time": "2022-03-14T13:39:31.445Z"
   },
   {
    "duration": 43,
    "start_time": "2022-03-14T13:39:31.495Z"
   },
   {
    "duration": 8,
    "start_time": "2022-03-14T13:39:31.541Z"
   },
   {
    "duration": 27,
    "start_time": "2022-03-14T13:39:31.551Z"
   },
   {
    "duration": 36,
    "start_time": "2022-03-14T13:39:31.581Z"
   },
   {
    "duration": 32,
    "start_time": "2022-03-14T13:39:31.619Z"
   },
   {
    "duration": 14,
    "start_time": "2022-03-14T13:39:31.654Z"
   },
   {
    "duration": 17,
    "start_time": "2022-03-14T13:39:31.673Z"
   },
   {
    "duration": 32,
    "start_time": "2022-03-14T13:39:31.693Z"
   },
   {
    "duration": 26,
    "start_time": "2022-03-14T13:39:31.728Z"
   },
   {
    "duration": 26,
    "start_time": "2022-03-14T13:39:31.757Z"
   },
   {
    "duration": 35,
    "start_time": "2022-03-14T13:39:31.786Z"
   },
   {
    "duration": 7,
    "start_time": "2022-03-14T13:39:31.823Z"
   },
   {
    "duration": 27,
    "start_time": "2022-03-14T13:39:31.832Z"
   },
   {
    "duration": 18,
    "start_time": "2022-03-14T13:39:31.861Z"
   },
   {
    "duration": 53,
    "start_time": "2022-03-14T13:39:31.882Z"
   },
   {
    "duration": 20,
    "start_time": "2022-03-14T13:39:31.937Z"
   },
   {
    "duration": 20,
    "start_time": "2022-03-14T13:39:31.960Z"
   },
   {
    "duration": 7,
    "start_time": "2022-03-14T13:39:31.983Z"
   },
   {
    "duration": 11,
    "start_time": "2022-03-14T13:39:31.993Z"
   },
   {
    "duration": 16,
    "start_time": "2022-03-14T13:39:32.007Z"
   },
   {
    "duration": 67,
    "start_time": "2022-03-14T13:39:32.031Z"
   },
   {
    "duration": 21,
    "start_time": "2022-03-14T13:39:32.101Z"
   },
   {
    "duration": 25,
    "start_time": "2022-03-14T13:39:32.125Z"
   },
   {
    "duration": 20,
    "start_time": "2022-03-14T13:39:32.175Z"
   },
   {
    "duration": 7,
    "start_time": "2022-03-14T13:39:32.198Z"
   },
   {
    "duration": 8514,
    "start_time": "2022-03-14T13:39:32.208Z"
   },
   {
    "duration": 61,
    "start_time": "2022-03-14T13:39:40.724Z"
   },
   {
    "duration": 284,
    "start_time": "2022-03-14T13:39:40.788Z"
   },
   {
    "duration": 17689,
    "start_time": "2022-03-14T13:39:41.076Z"
   },
   {
    "duration": 9,
    "start_time": "2022-03-14T13:39:58.774Z"
   },
   {
    "duration": 36,
    "start_time": "2022-03-14T13:39:58.786Z"
   },
   {
    "duration": 177447,
    "start_time": "2022-03-14T13:39:58.825Z"
   },
   {
    "duration": -10,
    "start_time": "2022-03-14T13:42:56.284Z"
   },
   {
    "duration": -10,
    "start_time": "2022-03-14T13:42:56.286Z"
   },
   {
    "duration": 48916,
    "start_time": "2022-03-14T13:43:32.474Z"
   },
   {
    "duration": -38,
    "start_time": "2022-03-14T14:36:15.973Z"
   },
   {
    "duration": -42,
    "start_time": "2022-03-14T14:36:15.979Z"
   },
   {
    "duration": 1434,
    "start_time": "2022-03-14T14:36:22.988Z"
   },
   {
    "duration": 34,
    "start_time": "2022-03-14T14:36:24.425Z"
   },
   {
    "duration": 38,
    "start_time": "2022-03-14T14:36:24.462Z"
   },
   {
    "duration": 7,
    "start_time": "2022-03-14T14:36:24.504Z"
   },
   {
    "duration": 5,
    "start_time": "2022-03-14T14:36:24.514Z"
   },
   {
    "duration": 60,
    "start_time": "2022-03-14T14:36:24.522Z"
   },
   {
    "duration": 22,
    "start_time": "2022-03-14T14:36:24.585Z"
   },
   {
    "duration": 5,
    "start_time": "2022-03-14T14:36:24.613Z"
   },
   {
    "duration": 27,
    "start_time": "2022-03-14T14:36:24.621Z"
   },
   {
    "duration": 29,
    "start_time": "2022-03-14T14:36:24.651Z"
   },
   {
    "duration": 16,
    "start_time": "2022-03-14T14:36:24.683Z"
   },
   {
    "duration": 29,
    "start_time": "2022-03-14T14:36:24.701Z"
   },
   {
    "duration": 42,
    "start_time": "2022-03-14T14:36:24.733Z"
   },
   {
    "duration": 6,
    "start_time": "2022-03-14T14:36:24.777Z"
   },
   {
    "duration": 27,
    "start_time": "2022-03-14T14:36:24.785Z"
   },
   {
    "duration": 6,
    "start_time": "2022-03-14T14:36:24.815Z"
   },
   {
    "duration": 56,
    "start_time": "2022-03-14T14:36:24.824Z"
   },
   {
    "duration": 18,
    "start_time": "2022-03-14T14:36:24.882Z"
   },
   {
    "duration": 24,
    "start_time": "2022-03-14T14:36:24.903Z"
   },
   {
    "duration": 34,
    "start_time": "2022-03-14T14:36:24.929Z"
   },
   {
    "duration": 30,
    "start_time": "2022-03-14T14:36:24.965Z"
   },
   {
    "duration": 21,
    "start_time": "2022-03-14T14:36:24.998Z"
   },
   {
    "duration": 41,
    "start_time": "2022-03-14T14:36:25.024Z"
   },
   {
    "duration": 19,
    "start_time": "2022-03-14T14:36:25.068Z"
   },
   {
    "duration": 31,
    "start_time": "2022-03-14T14:36:25.089Z"
   },
   {
    "duration": 19,
    "start_time": "2022-03-14T14:36:25.122Z"
   },
   {
    "duration": 16,
    "start_time": "2022-03-14T14:36:25.143Z"
   },
   {
    "duration": 8470,
    "start_time": "2022-03-14T14:36:25.162Z"
   },
   {
    "duration": 46,
    "start_time": "2022-03-14T14:36:33.637Z"
   },
   {
    "duration": 193,
    "start_time": "2022-03-14T14:36:33.687Z"
   },
   {
    "duration": 16889,
    "start_time": "2022-03-14T14:36:33.974Z"
   },
   {
    "duration": 9,
    "start_time": "2022-03-14T14:36:50.874Z"
   },
   {
    "duration": 44,
    "start_time": "2022-03-14T14:36:50.886Z"
   },
   {
    "duration": 2430636,
    "start_time": "2022-03-14T14:36:50.932Z"
   },
   {
    "duration": 27,
    "start_time": "2022-03-14T15:17:21.574Z"
   },
   {
    "duration": 360,
    "start_time": "2022-03-14T15:17:21.604Z"
   },
   {
    "duration": 10,
    "start_time": "2022-03-14T15:17:21.967Z"
   },
   {
    "duration": 28,
    "start_time": "2022-03-14T15:19:16.559Z"
   },
   {
    "duration": 225,
    "start_time": "2022-03-14T15:28:30.971Z"
   },
   {
    "duration": 9,
    "start_time": "2022-03-14T15:28:55.674Z"
   },
   {
    "duration": 12,
    "start_time": "2022-03-14T15:29:02.107Z"
   },
   {
    "duration": 9,
    "start_time": "2022-03-14T15:29:06.214Z"
   },
   {
    "duration": 241,
    "start_time": "2022-03-14T15:29:08.829Z"
   },
   {
    "duration": 6,
    "start_time": "2022-03-14T15:30:30.507Z"
   },
   {
    "duration": 9,
    "start_time": "2022-03-14T15:32:00.939Z"
   },
   {
    "duration": 226,
    "start_time": "2022-03-14T15:32:14.775Z"
   },
   {
    "duration": 9,
    "start_time": "2022-03-14T15:45:35.471Z"
   },
   {
    "duration": 221,
    "start_time": "2022-03-14T15:45:36.811Z"
   },
   {
    "duration": 106,
    "start_time": "2022-03-14T16:04:18.102Z"
   },
   {
    "duration": 100,
    "start_time": "2022-03-14T16:04:29.599Z"
   },
   {
    "duration": 33,
    "start_time": "2022-03-14T16:07:53.806Z"
   },
   {
    "duration": 179,
    "start_time": "2022-03-14T16:08:03.615Z"
   },
   {
    "duration": 97,
    "start_time": "2022-03-14T16:08:59.057Z"
   },
   {
    "duration": 1476,
    "start_time": "2022-03-14T16:22:00.659Z"
   },
   {
    "duration": 38,
    "start_time": "2022-03-14T16:22:02.138Z"
   },
   {
    "duration": 31,
    "start_time": "2022-03-14T16:22:02.180Z"
   },
   {
    "duration": 7,
    "start_time": "2022-03-14T16:22:02.214Z"
   },
   {
    "duration": 7,
    "start_time": "2022-03-14T16:22:02.224Z"
   },
   {
    "duration": 55,
    "start_time": "2022-03-14T16:22:02.234Z"
   },
   {
    "duration": 19,
    "start_time": "2022-03-14T16:22:02.292Z"
   },
   {
    "duration": 7,
    "start_time": "2022-03-14T16:22:02.313Z"
   },
   {
    "duration": 12,
    "start_time": "2022-03-14T16:22:02.325Z"
   },
   {
    "duration": 39,
    "start_time": "2022-03-14T16:22:02.341Z"
   },
   {
    "duration": 20,
    "start_time": "2022-03-14T16:22:02.383Z"
   },
   {
    "duration": 25,
    "start_time": "2022-03-14T16:22:02.405Z"
   },
   {
    "duration": 18,
    "start_time": "2022-03-14T16:22:02.433Z"
   },
   {
    "duration": 6,
    "start_time": "2022-03-14T16:22:02.454Z"
   },
   {
    "duration": 13,
    "start_time": "2022-03-14T16:22:02.475Z"
   },
   {
    "duration": 10,
    "start_time": "2022-03-14T16:22:02.491Z"
   },
   {
    "duration": 32,
    "start_time": "2022-03-14T16:22:02.504Z"
   },
   {
    "duration": 33,
    "start_time": "2022-03-14T16:22:02.540Z"
   },
   {
    "duration": 18,
    "start_time": "2022-03-14T16:22:02.577Z"
   },
   {
    "duration": 8,
    "start_time": "2022-03-14T16:22:02.598Z"
   },
   {
    "duration": 12,
    "start_time": "2022-03-14T16:22:02.608Z"
   },
   {
    "duration": 23,
    "start_time": "2022-03-14T16:22:02.623Z"
   },
   {
    "duration": 54,
    "start_time": "2022-03-14T16:22:02.649Z"
   },
   {
    "duration": 20,
    "start_time": "2022-03-14T16:22:02.706Z"
   },
   {
    "duration": 46,
    "start_time": "2022-03-14T16:22:02.729Z"
   },
   {
    "duration": 21,
    "start_time": "2022-03-14T16:22:02.778Z"
   },
   {
    "duration": 15,
    "start_time": "2022-03-14T16:22:02.804Z"
   },
   {
    "duration": 374,
    "start_time": "2022-03-14T16:22:02.823Z"
   },
   {
    "duration": 94,
    "start_time": "2022-03-14T16:22:03.200Z"
   },
   {
    "duration": -8491,
    "start_time": "2022-03-14T16:22:11.788Z"
   },
   {
    "duration": -8613,
    "start_time": "2022-03-14T16:22:11.911Z"
   },
   {
    "duration": -8615,
    "start_time": "2022-03-14T16:22:11.914Z"
   },
   {
    "duration": -8615,
    "start_time": "2022-03-14T16:22:11.916Z"
   },
   {
    "duration": -8644,
    "start_time": "2022-03-14T16:22:11.946Z"
   },
   {
    "duration": -8666,
    "start_time": "2022-03-14T16:22:11.970Z"
   },
   {
    "duration": -8761,
    "start_time": "2022-03-14T16:22:12.066Z"
   },
   {
    "duration": -8775,
    "start_time": "2022-03-14T16:22:12.081Z"
   },
   {
    "duration": -8789,
    "start_time": "2022-03-14T16:22:12.096Z"
   },
   {
    "duration": 117,
    "start_time": "2022-03-14T16:23:57.841Z"
   },
   {
    "duration": 554,
    "start_time": "2022-03-14T16:24:02.976Z"
   },
   {
    "duration": 411,
    "start_time": "2022-03-14T16:26:29.202Z"
   },
   {
    "duration": 42,
    "start_time": "2022-03-14T16:26:47.446Z"
   },
   {
    "duration": 8495,
    "start_time": "2022-03-14T16:27:14.686Z"
   },
   {
    "duration": 11,
    "start_time": "2022-03-14T16:28:02.325Z"
   },
   {
    "duration": 49,
    "start_time": "2022-03-14T16:31:21.124Z"
   },
   {
    "duration": 8616,
    "start_time": "2022-03-14T16:31:32.973Z"
   },
   {
    "duration": 23,
    "start_time": "2022-03-14T16:31:54.737Z"
   },
   {
    "duration": 203,
    "start_time": "2022-03-14T16:32:27.772Z"
   },
   {
    "duration": 45,
    "start_time": "2022-03-14T16:32:45.240Z"
   },
   {
    "duration": 89,
    "start_time": "2022-03-14T16:32:53.584Z"
   },
   {
    "duration": 125,
    "start_time": "2022-03-14T16:33:02.949Z"
   },
   {
    "duration": 56,
    "start_time": "2022-03-14T16:33:08.224Z"
   },
   {
    "duration": 127,
    "start_time": "2022-03-14T16:33:12.548Z"
   },
   {
    "duration": 488,
    "start_time": "2022-03-14T16:33:19.686Z"
   },
   {
    "duration": 8925,
    "start_time": "2022-03-14T16:34:35.297Z"
   },
   {
    "duration": 20,
    "start_time": "2022-03-14T16:34:48.061Z"
   },
   {
    "duration": 123,
    "start_time": "2022-03-14T16:34:57.060Z"
   },
   {
    "duration": 8623,
    "start_time": "2022-03-14T16:35:23.059Z"
   },
   {
    "duration": 142,
    "start_time": "2022-03-14T16:36:34.145Z"
   },
   {
    "duration": 87,
    "start_time": "2022-03-14T16:36:47.997Z"
   },
   {
    "duration": 130,
    "start_time": "2022-03-14T16:49:18.043Z"
   },
   {
    "duration": 42,
    "start_time": "2022-03-14T16:49:58.882Z"
   },
   {
    "duration": 18057,
    "start_time": "2022-03-14T16:50:21.115Z"
   },
   {
    "duration": 14,
    "start_time": "2022-03-14T16:51:34.069Z"
   },
   {
    "duration": 43,
    "start_time": "2022-03-14T16:52:02.298Z"
   },
   {
    "duration": 100,
    "start_time": "2022-03-14T16:55:47.063Z"
   },
   {
    "duration": 7,
    "start_time": "2022-03-14T17:12:45.117Z"
   },
   {
    "duration": 305,
    "start_time": "2022-03-14T17:13:00.275Z"
   },
   {
    "duration": 108,
    "start_time": "2022-03-14T17:14:22.061Z"
   },
   {
    "duration": 532,
    "start_time": "2022-03-14T17:14:34.003Z"
   },
   {
    "duration": 368,
    "start_time": "2022-03-14T17:15:28.077Z"
   },
   {
    "duration": 1294,
    "start_time": "2022-03-14T17:15:38.852Z"
   },
   {
    "duration": 8902,
    "start_time": "2022-03-14T17:16:05.579Z"
   },
   {
    "duration": 17,
    "start_time": "2022-03-14T17:16:26.581Z"
   },
   {
    "duration": 123,
    "start_time": "2022-03-14T17:16:47.358Z"
   },
   {
    "duration": 203,
    "start_time": "2022-03-14T17:18:19.678Z"
   },
   {
    "duration": 57,
    "start_time": "2022-03-14T17:19:16.803Z"
   },
   {
    "duration": 36234,
    "start_time": "2022-03-14T17:21:52.284Z"
   },
   {
    "duration": 94934,
    "start_time": "2022-03-14T17:22:46.317Z"
   },
   {
    "duration": 14,
    "start_time": "2022-03-14T17:25:05.238Z"
   },
   {
    "duration": 306,
    "start_time": "2022-03-14T17:26:37.374Z"
   },
   {
    "duration": 42,
    "start_time": "2022-03-14T17:26:44.964Z"
   },
   {
    "duration": 40,
    "start_time": "2022-03-14T17:30:33.094Z"
   },
   {
    "duration": 131,
    "start_time": "2022-03-14T17:32:56.572Z"
   },
   {
    "duration": 127,
    "start_time": "2022-03-14T17:38:08.562Z"
   },
   {
    "duration": 39,
    "start_time": "2022-03-14T17:41:41.534Z"
   },
   {
    "duration": 404,
    "start_time": "2022-03-14T17:44:27.678Z"
   },
   {
    "duration": 4070859,
    "start_time": "2022-03-14T17:44:40.329Z"
   },
   {
    "duration": 392,
    "start_time": "2022-03-14T18:52:31.191Z"
   },
   {
    "duration": 105,
    "start_time": "2022-03-14T18:57:26.625Z"
   },
   {
    "duration": 600,
    "start_time": "2022-03-14T18:58:01.365Z"
   },
   {
    "duration": 316,
    "start_time": "2022-03-14T18:58:17.869Z"
   },
   {
    "duration": 1673,
    "start_time": "2022-03-14T18:58:46.577Z"
   },
   {
    "duration": 311,
    "start_time": "2022-03-14T19:04:48.123Z"
   },
   {
    "duration": 6707,
    "start_time": "2022-03-14T19:19:43.589Z"
   },
   {
    "duration": 56,
    "start_time": "2022-03-14T19:19:57.221Z"
   },
   {
    "duration": 79121,
    "start_time": "2022-03-14T19:31:27.397Z"
   },
   {
    "duration": 21,
    "start_time": "2022-03-14T19:32:46.500Z"
   },
   {
    "duration": 97903,
    "start_time": "2022-03-14T19:32:48.049Z"
   },
   {
    "duration": 20,
    "start_time": "2022-03-14T19:34:54.288Z"
   },
   {
    "duration": 4192249,
    "start_time": "2022-03-14T19:39:55.672Z"
   },
   {
    "duration": 21,
    "start_time": "2022-03-14T20:49:47.925Z"
   },
   {
    "duration": 20,
    "start_time": "2022-03-14T21:20:51.923Z"
   },
   {
    "duration": 7666,
    "start_time": "2022-03-14T21:49:37.137Z"
   },
   {
    "duration": 123,
    "start_time": "2022-03-14T21:49:50.565Z"
   },
   {
    "duration": 3,
    "start_time": "2022-03-14T21:54:02.245Z"
   },
   {
    "duration": 74096,
    "start_time": "2022-03-14T21:55:12.524Z"
   },
   {
    "duration": -167,
    "start_time": "2022-03-14T21:56:26.791Z"
   },
   {
    "duration": -167,
    "start_time": "2022-03-14T21:56:26.793Z"
   },
   {
    "duration": 136366,
    "start_time": "2022-03-14T21:57:36.951Z"
   },
   {
    "duration": 15,
    "start_time": "2022-03-14T21:59:58.426Z"
   },
   {
    "duration": 94,
    "start_time": "2022-03-14T22:03:04.747Z"
   },
   {
    "duration": 21,
    "start_time": "2022-03-14T22:05:00.659Z"
   },
   {
    "duration": 5798901,
    "start_time": "2022-03-14T22:05:56.348Z"
   },
   {
    "duration": 27,
    "start_time": "2022-03-14T23:42:35.252Z"
   },
   {
    "duration": 3,
    "start_time": "2022-03-14T23:42:35.282Z"
   },
   {
    "duration": 16,
    "start_time": "2022-03-14T23:42:35.287Z"
   },
   {
    "duration": 22,
    "start_time": "2022-03-14T23:48:50.693Z"
   },
   {
    "duration": 744,
    "start_time": "2022-03-14T23:48:54.647Z"
   },
   {
    "duration": 28,
    "start_time": "2022-03-14T23:49:00.949Z"
   },
   {
    "duration": 60076,
    "start_time": "2022-03-14T23:50:23.071Z"
   },
   {
    "duration": 124,
    "start_time": "2022-03-14T23:51:23.151Z"
   },
   {
    "duration": 15,
    "start_time": "2022-03-14T23:51:27.130Z"
   },
   {
    "duration": 291,
    "start_time": "2022-03-15T06:47:39.337Z"
   },
   {
    "duration": 1056,
    "start_time": "2022-03-15T06:47:58.651Z"
   },
   {
    "duration": 492,
    "start_time": "2022-03-15T06:53:02.886Z"
   },
   {
    "duration": 215,
    "start_time": "2022-03-15T06:54:29.497Z"
   },
   {
    "duration": 1019,
    "start_time": "2022-03-15T06:54:35.227Z"
   },
   {
    "duration": 56,
    "start_time": "2022-03-15T06:54:36.248Z"
   },
   {
    "duration": 18,
    "start_time": "2022-03-15T06:54:36.306Z"
   },
   {
    "duration": 10,
    "start_time": "2022-03-15T06:54:36.326Z"
   },
   {
    "duration": 6,
    "start_time": "2022-03-15T06:54:36.337Z"
   },
   {
    "duration": 15,
    "start_time": "2022-03-15T06:54:36.344Z"
   },
   {
    "duration": 9,
    "start_time": "2022-03-15T06:54:36.361Z"
   },
   {
    "duration": 11,
    "start_time": "2022-03-15T06:54:36.373Z"
   },
   {
    "duration": 15,
    "start_time": "2022-03-15T06:54:36.386Z"
   },
   {
    "duration": 11,
    "start_time": "2022-03-15T06:54:36.402Z"
   },
   {
    "duration": 7,
    "start_time": "2022-03-15T06:54:36.415Z"
   },
   {
    "duration": 8,
    "start_time": "2022-03-15T06:54:36.424Z"
   },
   {
    "duration": 14,
    "start_time": "2022-03-15T06:54:36.434Z"
   },
   {
    "duration": 4,
    "start_time": "2022-03-15T06:54:36.449Z"
   },
   {
    "duration": 15,
    "start_time": "2022-03-15T06:54:36.454Z"
   },
   {
    "duration": 17,
    "start_time": "2022-03-15T06:54:36.471Z"
   },
   {
    "duration": 23,
    "start_time": "2022-03-15T06:54:36.490Z"
   },
   {
    "duration": 4,
    "start_time": "2022-03-15T06:54:36.515Z"
   },
   {
    "duration": 17,
    "start_time": "2022-03-15T06:54:36.520Z"
   },
   {
    "duration": 3,
    "start_time": "2022-03-15T06:54:36.539Z"
   },
   {
    "duration": 5,
    "start_time": "2022-03-15T06:54:36.544Z"
   },
   {
    "duration": 25,
    "start_time": "2022-03-15T06:54:36.551Z"
   },
   {
    "duration": 24,
    "start_time": "2022-03-15T06:54:36.578Z"
   },
   {
    "duration": 12,
    "start_time": "2022-03-15T06:54:36.604Z"
   },
   {
    "duration": 13,
    "start_time": "2022-03-15T06:54:36.617Z"
   },
   {
    "duration": 10,
    "start_time": "2022-03-15T06:54:36.632Z"
   },
   {
    "duration": 28,
    "start_time": "2022-03-15T06:54:36.646Z"
   },
   {
    "duration": 215,
    "start_time": "2022-03-15T06:54:36.677Z"
   },
   {
    "duration": 84,
    "start_time": "2022-03-15T06:54:36.893Z"
   },
   {
    "duration": 6293,
    "start_time": "2022-03-15T06:54:36.978Z"
   },
   {
    "duration": 101,
    "start_time": "2022-03-15T06:54:43.272Z"
   },
   {
    "duration": 115,
    "start_time": "2022-03-15T06:54:43.375Z"
   },
   {
    "duration": 127,
    "start_time": "2022-03-15T06:54:43.569Z"
   },
   {
    "duration": 56238,
    "start_time": "2022-03-15T06:54:43.698Z"
   },
   {
    "duration": 9,
    "start_time": "2022-03-15T06:55:39.937Z"
   },
   {
    "duration": 41,
    "start_time": "2022-03-15T06:55:39.948Z"
   },
   {
    "duration": 106,
    "start_time": "2022-03-15T06:55:39.991Z"
   },
   {
    "duration": 1028,
    "start_time": "2022-03-15T07:24:32.364Z"
   },
   {
    "duration": 29,
    "start_time": "2022-03-15T07:24:33.394Z"
   },
   {
    "duration": 19,
    "start_time": "2022-03-15T07:24:33.425Z"
   },
   {
    "duration": 4,
    "start_time": "2022-03-15T07:24:33.446Z"
   },
   {
    "duration": 8,
    "start_time": "2022-03-15T07:24:33.463Z"
   },
   {
    "duration": 24,
    "start_time": "2022-03-15T07:24:33.473Z"
   },
   {
    "duration": 6,
    "start_time": "2022-03-15T07:24:33.499Z"
   },
   {
    "duration": 5,
    "start_time": "2022-03-15T07:24:33.507Z"
   },
   {
    "duration": 8,
    "start_time": "2022-03-15T07:24:33.514Z"
   },
   {
    "duration": 6,
    "start_time": "2022-03-15T07:24:33.524Z"
   },
   {
    "duration": 6,
    "start_time": "2022-03-15T07:24:33.532Z"
   },
   {
    "duration": 36,
    "start_time": "2022-03-15T07:24:33.540Z"
   },
   {
    "duration": 12,
    "start_time": "2022-03-15T07:24:33.577Z"
   },
   {
    "duration": 4,
    "start_time": "2022-03-15T07:24:33.590Z"
   },
   {
    "duration": 10,
    "start_time": "2022-03-15T07:24:33.596Z"
   },
   {
    "duration": 5,
    "start_time": "2022-03-15T07:24:33.607Z"
   },
   {
    "duration": 17,
    "start_time": "2022-03-15T07:24:33.613Z"
   },
   {
    "duration": 4,
    "start_time": "2022-03-15T07:24:33.632Z"
   },
   {
    "duration": 50,
    "start_time": "2022-03-15T07:24:33.637Z"
   },
   {
    "duration": 6,
    "start_time": "2022-03-15T07:24:33.688Z"
   },
   {
    "duration": 5,
    "start_time": "2022-03-15T07:24:33.696Z"
   },
   {
    "duration": 10,
    "start_time": "2022-03-15T07:24:33.702Z"
   },
   {
    "duration": 19,
    "start_time": "2022-03-15T07:24:33.716Z"
   },
   {
    "duration": 11,
    "start_time": "2022-03-15T07:24:33.738Z"
   },
   {
    "duration": 26,
    "start_time": "2022-03-15T07:24:33.750Z"
   },
   {
    "duration": 14,
    "start_time": "2022-03-15T07:24:33.778Z"
   },
   {
    "duration": 7,
    "start_time": "2022-03-15T07:24:33.794Z"
   },
   {
    "duration": 219,
    "start_time": "2022-03-15T07:24:33.803Z"
   },
   {
    "duration": 54,
    "start_time": "2022-03-15T07:24:34.023Z"
   },
   {
    "duration": 6102,
    "start_time": "2022-03-15T07:24:34.079Z"
   },
   {
    "duration": 21,
    "start_time": "2022-03-15T07:24:40.262Z"
   },
   {
    "duration": 195,
    "start_time": "2022-03-15T07:24:40.286Z"
   },
   {
    "duration": 207,
    "start_time": "2022-03-15T07:24:40.483Z"
   },
   {
    "duration": 56904,
    "start_time": "2022-03-15T07:24:40.692Z"
   },
   {
    "duration": 10,
    "start_time": "2022-03-15T07:25:37.598Z"
   },
   {
    "duration": 29,
    "start_time": "2022-03-15T07:25:37.610Z"
   },
   {
    "duration": 105,
    "start_time": "2022-03-15T07:25:37.641Z"
   },
   {
    "duration": 509,
    "start_time": "2022-03-15T07:25:37.747Z"
   },
   {
    "duration": -61,
    "start_time": "2022-03-15T07:25:38.319Z"
   },
   {
    "duration": -61,
    "start_time": "2022-03-15T07:25:38.320Z"
   },
   {
    "duration": -62,
    "start_time": "2022-03-15T07:25:38.322Z"
   },
   {
    "duration": -63,
    "start_time": "2022-03-15T07:25:38.324Z"
   },
   {
    "duration": -63,
    "start_time": "2022-03-15T07:25:38.325Z"
   },
   {
    "duration": -64,
    "start_time": "2022-03-15T07:25:38.327Z"
   },
   {
    "duration": -60,
    "start_time": "2022-03-15T07:25:38.328Z"
   },
   {
    "duration": -67,
    "start_time": "2022-03-15T07:25:38.336Z"
   },
   {
    "duration": -67,
    "start_time": "2022-03-15T07:25:38.337Z"
   },
   {
    "duration": -68,
    "start_time": "2022-03-15T07:25:38.339Z"
   },
   {
    "duration": -69,
    "start_time": "2022-03-15T07:25:38.341Z"
   },
   {
    "duration": -70,
    "start_time": "2022-03-15T07:25:38.343Z"
   },
   {
    "duration": -70,
    "start_time": "2022-03-15T07:25:38.344Z"
   },
   {
    "duration": -70,
    "start_time": "2022-03-15T07:25:38.345Z"
   },
   {
    "duration": -70,
    "start_time": "2022-03-15T07:25:38.346Z"
   },
   {
    "duration": -71,
    "start_time": "2022-03-15T07:25:38.348Z"
   },
   {
    "duration": -71,
    "start_time": "2022-03-15T07:25:38.349Z"
   },
   {
    "duration": -71,
    "start_time": "2022-03-15T07:25:38.350Z"
   },
   {
    "duration": -71,
    "start_time": "2022-03-15T07:25:38.351Z"
   },
   {
    "duration": -73,
    "start_time": "2022-03-15T07:25:38.353Z"
   },
   {
    "duration": -73,
    "start_time": "2022-03-15T07:25:38.354Z"
   },
   {
    "duration": -73,
    "start_time": "2022-03-15T07:25:38.355Z"
   },
   {
    "duration": 1021,
    "start_time": "2022-03-15T07:41:15.486Z"
   },
   {
    "duration": 23,
    "start_time": "2022-03-15T07:41:16.509Z"
   },
   {
    "duration": 18,
    "start_time": "2022-03-15T07:41:16.535Z"
   },
   {
    "duration": 5,
    "start_time": "2022-03-15T07:41:16.565Z"
   },
   {
    "duration": 11,
    "start_time": "2022-03-15T07:41:16.572Z"
   },
   {
    "duration": 16,
    "start_time": "2022-03-15T07:41:16.585Z"
   },
   {
    "duration": 13,
    "start_time": "2022-03-15T07:41:16.603Z"
   },
   {
    "duration": 7,
    "start_time": "2022-03-15T07:41:16.619Z"
   },
   {
    "duration": 8,
    "start_time": "2022-03-15T07:41:16.628Z"
   },
   {
    "duration": 7,
    "start_time": "2022-03-15T07:41:16.637Z"
   },
   {
    "duration": 27,
    "start_time": "2022-03-15T07:41:16.645Z"
   },
   {
    "duration": 8,
    "start_time": "2022-03-15T07:41:16.673Z"
   },
   {
    "duration": 11,
    "start_time": "2022-03-15T07:41:16.683Z"
   },
   {
    "duration": 4,
    "start_time": "2022-03-15T07:41:16.695Z"
   },
   {
    "duration": 10,
    "start_time": "2022-03-15T07:41:16.700Z"
   },
   {
    "duration": 4,
    "start_time": "2022-03-15T07:41:16.712Z"
   },
   {
    "duration": 26,
    "start_time": "2022-03-15T07:41:16.718Z"
   },
   {
    "duration": 5,
    "start_time": "2022-03-15T07:41:16.771Z"
   },
   {
    "duration": 10,
    "start_time": "2022-03-15T07:41:16.778Z"
   },
   {
    "duration": 3,
    "start_time": "2022-03-15T07:41:16.790Z"
   },
   {
    "duration": 10,
    "start_time": "2022-03-15T07:41:16.794Z"
   },
   {
    "duration": 22,
    "start_time": "2022-03-15T07:41:16.806Z"
   },
   {
    "duration": 20,
    "start_time": "2022-03-15T07:41:16.832Z"
   },
   {
    "duration": 22,
    "start_time": "2022-03-15T07:41:16.854Z"
   },
   {
    "duration": 11,
    "start_time": "2022-03-15T07:41:16.878Z"
   },
   {
    "duration": 13,
    "start_time": "2022-03-15T07:41:16.891Z"
   },
   {
    "duration": 8,
    "start_time": "2022-03-15T07:41:16.906Z"
   },
   {
    "duration": 225,
    "start_time": "2022-03-15T07:41:16.916Z"
   },
   {
    "duration": 139,
    "start_time": "2022-03-15T07:41:17.143Z"
   },
   {
    "duration": 5685,
    "start_time": "2022-03-15T07:41:17.284Z"
   },
   {
    "duration": 105,
    "start_time": "2022-03-15T07:41:22.972Z"
   },
   {
    "duration": 285,
    "start_time": "2022-03-15T07:41:23.079Z"
   },
   {
    "duration": 139,
    "start_time": "2022-03-15T07:41:23.365Z"
   },
   {
    "duration": 58333,
    "start_time": "2022-03-15T07:41:23.505Z"
   },
   {
    "duration": 30,
    "start_time": "2022-03-15T07:42:21.840Z"
   },
   {
    "duration": 30,
    "start_time": "2022-03-15T07:42:21.872Z"
   },
   {
    "duration": 93,
    "start_time": "2022-03-15T07:42:21.904Z"
   },
   {
    "duration": 2528060,
    "start_time": "2022-03-15T07:42:21.999Z"
   },
   {
    "duration": 72,
    "start_time": "2022-03-15T08:24:30.063Z"
   },
   {
    "duration": 846,
    "start_time": "2022-03-15T08:24:30.137Z"
   },
   {
    "duration": 4895,
    "start_time": "2022-03-15T08:24:30.984Z"
   },
   {
    "duration": 193,
    "start_time": "2022-03-15T08:24:35.882Z"
   },
   {
    "duration": 62376,
    "start_time": "2022-03-15T08:24:36.078Z"
   },
   {
    "duration": 12,
    "start_time": "2022-03-15T08:25:38.463Z"
   },
   {
    "duration": 576,
    "start_time": "2022-03-15T08:25:38.477Z"
   },
   {
    "duration": -38,
    "start_time": "2022-03-15T08:25:39.095Z"
   },
   {
    "duration": -39,
    "start_time": "2022-03-15T08:25:39.097Z"
   },
   {
    "duration": -40,
    "start_time": "2022-03-15T08:25:39.100Z"
   },
   {
    "duration": -41,
    "start_time": "2022-03-15T08:25:39.102Z"
   },
   {
    "duration": -41,
    "start_time": "2022-03-15T08:25:39.104Z"
   },
   {
    "duration": -42,
    "start_time": "2022-03-15T08:25:39.106Z"
   },
   {
    "duration": -43,
    "start_time": "2022-03-15T08:25:39.108Z"
   },
   {
    "duration": -43,
    "start_time": "2022-03-15T08:25:39.109Z"
   },
   {
    "duration": -41,
    "start_time": "2022-03-15T08:25:39.111Z"
   },
   {
    "duration": -41,
    "start_time": "2022-03-15T08:25:39.113Z"
   },
   {
    "duration": -41,
    "start_time": "2022-03-15T08:25:39.114Z"
   },
   {
    "duration": -42,
    "start_time": "2022-03-15T08:25:39.116Z"
   },
   {
    "duration": -41,
    "start_time": "2022-03-15T08:25:39.117Z"
   },
   {
    "duration": -42,
    "start_time": "2022-03-15T08:25:39.119Z"
   },
   {
    "duration": -42,
    "start_time": "2022-03-15T08:25:39.120Z"
   },
   {
    "duration": 79,
    "start_time": "2022-03-15T08:27:07.008Z"
   },
   {
    "duration": 2582025,
    "start_time": "2022-03-15T08:27:14.151Z"
   },
   {
    "duration": 11,
    "start_time": "2022-03-15T09:10:16.178Z"
   },
   {
    "duration": 16,
    "start_time": "2022-03-15T09:10:16.191Z"
   },
   {
    "duration": 5955,
    "start_time": "2022-03-15T09:10:16.209Z"
   },
   {
    "duration": 100,
    "start_time": "2022-03-15T09:10:22.168Z"
   },
   {
    "duration": 86710,
    "start_time": "2022-03-15T09:10:22.270Z"
   },
   {
    "duration": 11,
    "start_time": "2022-03-15T09:11:48.982Z"
   },
   {
    "duration": 3914423,
    "start_time": "2022-03-15T09:11:48.995Z"
   },
   {
    "duration": 10,
    "start_time": "2022-03-15T10:17:03.420Z"
   },
   {
    "duration": 13,
    "start_time": "2022-03-15T10:17:03.432Z"
   },
   {
    "duration": 358,
    "start_time": "2022-03-15T10:17:03.447Z"
   },
   {
    "duration": 61,
    "start_time": "2022-03-15T10:17:03.806Z"
   },
   {
    "duration": 41032,
    "start_time": "2022-03-15T10:17:03.869Z"
   },
   {
    "duration": 69,
    "start_time": "2022-03-15T10:17:44.903Z"
   },
   {
    "duration": 1576353,
    "start_time": "2022-03-15T10:17:44.978Z"
   },
   {
    "duration": 10,
    "start_time": "2022-03-15T10:44:01.333Z"
   },
   {
    "duration": 1148,
    "start_time": "2022-03-15T14:09:55.462Z"
   },
   {
    "duration": 28,
    "start_time": "2022-03-15T14:09:56.613Z"
   },
   {
    "duration": 20,
    "start_time": "2022-03-15T14:09:56.643Z"
   },
   {
    "duration": 8,
    "start_time": "2022-03-15T14:09:56.665Z"
   },
   {
    "duration": 16,
    "start_time": "2022-03-15T14:09:56.674Z"
   },
   {
    "duration": 19,
    "start_time": "2022-03-15T14:09:56.691Z"
   },
   {
    "duration": 8,
    "start_time": "2022-03-15T14:09:56.712Z"
   },
   {
    "duration": 4,
    "start_time": "2022-03-15T14:09:56.722Z"
   },
   {
    "duration": 10,
    "start_time": "2022-03-15T14:09:56.727Z"
   },
   {
    "duration": 30,
    "start_time": "2022-03-15T14:09:56.739Z"
   },
   {
    "duration": 8,
    "start_time": "2022-03-15T14:09:56.770Z"
   },
   {
    "duration": 15,
    "start_time": "2022-03-15T14:09:56.780Z"
   },
   {
    "duration": 11,
    "start_time": "2022-03-15T14:09:56.797Z"
   },
   {
    "duration": 4,
    "start_time": "2022-03-15T14:09:56.810Z"
   },
   {
    "duration": 13,
    "start_time": "2022-03-15T14:09:56.815Z"
   },
   {
    "duration": 4,
    "start_time": "2022-03-15T14:09:56.829Z"
   },
   {
    "duration": 48,
    "start_time": "2022-03-15T14:09:56.835Z"
   },
   {
    "duration": 4,
    "start_time": "2022-03-15T14:09:56.885Z"
   },
   {
    "duration": 11,
    "start_time": "2022-03-15T14:09:56.891Z"
   },
   {
    "duration": 4,
    "start_time": "2022-03-15T14:09:56.904Z"
   },
   {
    "duration": 5,
    "start_time": "2022-03-15T14:09:56.909Z"
   },
   {
    "duration": 11,
    "start_time": "2022-03-15T14:09:56.916Z"
   },
   {
    "duration": 53,
    "start_time": "2022-03-15T14:09:56.931Z"
   },
   {
    "duration": 12,
    "start_time": "2022-03-15T14:09:56.986Z"
   },
   {
    "duration": 10,
    "start_time": "2022-03-15T14:09:57.000Z"
   },
   {
    "duration": 15,
    "start_time": "2022-03-15T14:09:57.012Z"
   },
   {
    "duration": 8,
    "start_time": "2022-03-15T14:09:57.028Z"
   },
   {
    "duration": 233,
    "start_time": "2022-03-15T14:09:57.038Z"
   },
   {
    "duration": 95,
    "start_time": "2022-03-15T14:09:57.273Z"
   },
   {
    "duration": 6094,
    "start_time": "2022-03-15T14:09:57.370Z"
   },
   {
    "duration": 114,
    "start_time": "2022-03-15T14:10:03.466Z"
   },
   {
    "duration": 292,
    "start_time": "2022-03-15T14:10:03.582Z"
   },
   {
    "duration": 136,
    "start_time": "2022-03-15T14:10:03.885Z"
   },
   {
    "duration": 58469,
    "start_time": "2022-03-15T14:10:04.023Z"
   },
   {
    "duration": 12,
    "start_time": "2022-03-15T14:11:02.494Z"
   },
   {
    "duration": 31,
    "start_time": "2022-03-15T14:11:02.508Z"
   },
   {
    "duration": 146,
    "start_time": "2022-03-15T14:11:02.541Z"
   },
   {
    "duration": 875244,
    "start_time": "2022-03-15T14:11:02.689Z"
   },
   {
    "duration": 5,
    "start_time": "2022-03-15T14:25:37.931Z"
   },
   {
    "duration": 3,
    "start_time": "2022-03-15T14:25:37.934Z"
   },
   {
    "duration": 2,
    "start_time": "2022-03-15T14:25:37.936Z"
   },
   {
    "duration": 2,
    "start_time": "2022-03-15T14:25:37.938Z"
   },
   {
    "duration": 1,
    "start_time": "2022-03-15T14:25:37.940Z"
   },
   {
    "duration": 0,
    "start_time": "2022-03-15T14:25:37.942Z"
   },
   {
    "duration": 0,
    "start_time": "2022-03-15T14:25:37.944Z"
   },
   {
    "duration": 0,
    "start_time": "2022-03-15T14:25:37.945Z"
   },
   {
    "duration": 0,
    "start_time": "2022-03-15T14:25:37.947Z"
   },
   {
    "duration": 0,
    "start_time": "2022-03-15T14:25:37.948Z"
   },
   {
    "duration": -1,
    "start_time": "2022-03-15T14:25:37.950Z"
   },
   {
    "duration": 0,
    "start_time": "2022-03-15T14:25:37.951Z"
   },
   {
    "duration": -1,
    "start_time": "2022-03-15T14:25:37.953Z"
   },
   {
    "duration": -6,
    "start_time": "2022-03-15T14:25:37.959Z"
   },
   {
    "duration": -6,
    "start_time": "2022-03-15T14:25:37.961Z"
   },
   {
    "duration": -7,
    "start_time": "2022-03-15T14:25:37.963Z"
   },
   {
    "duration": -6,
    "start_time": "2022-03-15T14:25:37.964Z"
   },
   {
    "duration": -6,
    "start_time": "2022-03-15T14:25:37.966Z"
   },
   {
    "duration": -6,
    "start_time": "2022-03-15T14:25:37.967Z"
   },
   {
    "duration": -6,
    "start_time": "2022-03-15T14:25:37.968Z"
   },
   {
    "duration": -6,
    "start_time": "2022-03-15T14:25:37.969Z"
   },
   {
    "duration": -5,
    "start_time": "2022-03-15T14:25:37.971Z"
   },
   {
    "duration": -5,
    "start_time": "2022-03-15T14:25:37.972Z"
   },
   {
    "duration": 1157,
    "start_time": "2022-03-15T14:26:04.855Z"
   },
   {
    "duration": 30,
    "start_time": "2022-03-15T14:26:06.014Z"
   },
   {
    "duration": 651,
    "start_time": "2022-03-15T14:26:06.046Z"
   },
   {
    "duration": 9,
    "start_time": "2022-03-15T14:26:06.699Z"
   },
   {
    "duration": 8,
    "start_time": "2022-03-15T14:26:06.710Z"
   },
   {
    "duration": 16,
    "start_time": "2022-03-15T14:26:06.719Z"
   },
   {
    "duration": 9,
    "start_time": "2022-03-15T14:26:06.737Z"
   },
   {
    "duration": 9,
    "start_time": "2022-03-15T14:26:06.749Z"
   },
   {
    "duration": 25,
    "start_time": "2022-03-15T14:26:06.761Z"
   },
   {
    "duration": 15,
    "start_time": "2022-03-15T14:26:06.788Z"
   },
   {
    "duration": 9,
    "start_time": "2022-03-15T14:26:06.804Z"
   },
   {
    "duration": 14,
    "start_time": "2022-03-15T14:26:06.815Z"
   },
   {
    "duration": 14,
    "start_time": "2022-03-15T14:26:06.831Z"
   },
   {
    "duration": 4,
    "start_time": "2022-03-15T14:26:06.847Z"
   },
   {
    "duration": 14,
    "start_time": "2022-03-15T14:26:06.853Z"
   },
   {
    "duration": 19,
    "start_time": "2022-03-15T14:26:06.869Z"
   },
   {
    "duration": 29,
    "start_time": "2022-03-15T14:26:06.890Z"
   },
   {
    "duration": 7,
    "start_time": "2022-03-15T14:26:06.921Z"
   },
   {
    "duration": 12,
    "start_time": "2022-03-15T14:26:06.930Z"
   },
   {
    "duration": 3,
    "start_time": "2022-03-15T14:26:06.944Z"
   },
   {
    "duration": 5,
    "start_time": "2022-03-15T14:26:06.948Z"
   },
   {
    "duration": 20,
    "start_time": "2022-03-15T14:26:06.954Z"
   },
   {
    "duration": 23,
    "start_time": "2022-03-15T14:26:06.978Z"
   },
   {
    "duration": 12,
    "start_time": "2022-03-15T14:26:07.003Z"
   },
   {
    "duration": 11,
    "start_time": "2022-03-15T14:26:07.017Z"
   },
   {
    "duration": 38,
    "start_time": "2022-03-15T14:26:07.029Z"
   },
   {
    "duration": 10,
    "start_time": "2022-03-15T14:26:07.071Z"
   },
   {
    "duration": 217,
    "start_time": "2022-03-15T14:26:07.083Z"
   },
   {
    "duration": 75,
    "start_time": "2022-03-15T14:26:07.301Z"
   },
   {
    "duration": 6088,
    "start_time": "2022-03-15T14:26:07.378Z"
   },
   {
    "duration": 95,
    "start_time": "2022-03-15T14:26:13.468Z"
   },
   {
    "duration": 200,
    "start_time": "2022-03-15T14:26:13.567Z"
   },
   {
    "duration": 128,
    "start_time": "2022-03-15T14:26:13.769Z"
   },
   {
    "duration": 60210,
    "start_time": "2022-03-15T14:26:13.900Z"
   },
   {
    "duration": 10,
    "start_time": "2022-03-15T14:27:14.112Z"
   },
   {
    "duration": 47,
    "start_time": "2022-03-15T14:27:14.124Z"
   },
   {
    "duration": 97,
    "start_time": "2022-03-15T14:27:14.173Z"
   },
   {
    "duration": 2535369,
    "start_time": "2022-03-15T14:27:14.272Z"
   },
   {
    "duration": 75,
    "start_time": "2022-03-15T15:09:29.643Z"
   },
   {
    "duration": 768,
    "start_time": "2022-03-15T15:09:29.720Z"
   },
   {
    "duration": 5087,
    "start_time": "2022-03-15T15:09:30.489Z"
   },
   {
    "duration": 13,
    "start_time": "2022-03-15T15:09:35.578Z"
   },
   {
    "duration": 65559,
    "start_time": "2022-03-15T15:09:35.592Z"
   },
   {
    "duration": 21,
    "start_time": "2022-03-15T15:10:41.153Z"
   },
   {
    "duration": 11,
    "start_time": "2022-03-15T15:10:41.176Z"
   },
   {
    "duration": 11,
    "start_time": "2022-03-15T15:10:41.189Z"
   },
   {
    "duration": 23,
    "start_time": "2022-03-15T15:10:41.202Z"
   },
   {
    "duration": 5740,
    "start_time": "2022-03-15T15:10:41.227Z"
   },
   {
    "duration": 99,
    "start_time": "2022-03-15T15:10:46.969Z"
   },
   {
    "duration": 85559,
    "start_time": "2022-03-15T15:10:47.074Z"
   },
   {
    "duration": 11,
    "start_time": "2022-03-15T15:12:12.636Z"
   },
   {
    "duration": 8,
    "start_time": "2022-03-15T15:12:12.663Z"
   },
   {
    "duration": 13,
    "start_time": "2022-03-15T15:12:12.673Z"
   },
   {
    "duration": 16,
    "start_time": "2022-03-15T15:12:12.688Z"
   },
   {
    "duration": 313,
    "start_time": "2022-03-15T15:12:12.706Z"
   },
   {
    "duration": 61,
    "start_time": "2022-03-15T15:12:13.021Z"
   },
   {
    "duration": 37829,
    "start_time": "2022-03-15T15:12:13.084Z"
   },
   {
    "duration": 61,
    "start_time": "2022-03-15T15:12:50.915Z"
   },
   {
    "duration": 200,
    "start_time": "2022-03-15T15:12:50.978Z"
   },
   {
    "duration": 8,
    "start_time": "2022-03-15T15:12:51.180Z"
   },
   {
    "duration": 32,
    "start_time": "2022-03-15T15:12:51.190Z"
   },
   {
    "duration": 28,
    "start_time": "2022-03-15T15:33:37.786Z"
   },
   {
    "duration": 51754,
    "start_time": "2022-03-15T15:38:48.134Z"
   },
   {
    "duration": -89,
    "start_time": "2022-03-15T15:39:39.979Z"
   },
   {
    "duration": 1037,
    "start_time": "2022-03-15T15:53:04.969Z"
   },
   {
    "duration": 24,
    "start_time": "2022-03-15T15:53:06.008Z"
   },
   {
    "duration": 19,
    "start_time": "2022-03-15T15:53:06.034Z"
   },
   {
    "duration": 22,
    "start_time": "2022-03-15T15:53:06.055Z"
   },
   {
    "duration": 14,
    "start_time": "2022-03-15T15:53:06.079Z"
   },
   {
    "duration": 19,
    "start_time": "2022-03-15T15:53:06.095Z"
   },
   {
    "duration": 27,
    "start_time": "2022-03-15T15:53:06.115Z"
   },
   {
    "duration": 7,
    "start_time": "2022-03-15T15:53:06.144Z"
   },
   {
    "duration": 15,
    "start_time": "2022-03-15T15:53:06.153Z"
   },
   {
    "duration": 8,
    "start_time": "2022-03-15T15:53:06.169Z"
   },
   {
    "duration": 9,
    "start_time": "2022-03-15T15:53:06.179Z"
   },
   {
    "duration": 13,
    "start_time": "2022-03-15T15:53:06.189Z"
   },
   {
    "duration": 13,
    "start_time": "2022-03-15T15:53:06.203Z"
   },
   {
    "duration": 5,
    "start_time": "2022-03-15T15:53:06.217Z"
   },
   {
    "duration": 16,
    "start_time": "2022-03-15T15:53:06.224Z"
   },
   {
    "duration": 24,
    "start_time": "2022-03-15T15:53:06.242Z"
   },
   {
    "duration": 25,
    "start_time": "2022-03-15T15:53:06.268Z"
   },
   {
    "duration": 14,
    "start_time": "2022-03-15T15:53:06.294Z"
   },
   {
    "duration": 14,
    "start_time": "2022-03-15T15:53:06.310Z"
   },
   {
    "duration": 3,
    "start_time": "2022-03-15T15:53:06.326Z"
   },
   {
    "duration": 9,
    "start_time": "2022-03-15T15:53:06.331Z"
   },
   {
    "duration": 21,
    "start_time": "2022-03-15T15:53:06.342Z"
   },
   {
    "duration": 26,
    "start_time": "2022-03-15T15:53:06.367Z"
   },
   {
    "duration": 12,
    "start_time": "2022-03-15T15:53:06.395Z"
   },
   {
    "duration": 22,
    "start_time": "2022-03-15T15:53:06.409Z"
   },
   {
    "duration": 11,
    "start_time": "2022-03-15T15:53:06.433Z"
   },
   {
    "duration": 24,
    "start_time": "2022-03-15T15:53:06.446Z"
   },
   {
    "duration": 234,
    "start_time": "2022-03-15T15:53:06.472Z"
   },
   {
    "duration": 159,
    "start_time": "2022-03-15T15:53:06.708Z"
   },
   {
    "duration": 6898,
    "start_time": "2022-03-15T15:53:06.870Z"
   },
   {
    "duration": 93,
    "start_time": "2022-03-15T15:53:13.770Z"
   },
   {
    "duration": 197,
    "start_time": "2022-03-15T15:53:13.866Z"
   },
   {
    "duration": 132,
    "start_time": "2022-03-15T15:53:14.066Z"
   },
   {
    "duration": 55720,
    "start_time": "2022-03-15T15:53:14.200Z"
   },
   {
    "duration": 8,
    "start_time": "2022-03-15T15:54:09.922Z"
   },
   {
    "duration": 47,
    "start_time": "2022-03-15T15:54:09.932Z"
   },
   {
    "duration": 95,
    "start_time": "2022-03-15T15:54:09.981Z"
   },
   {
    "duration": 2469039,
    "start_time": "2022-03-15T15:54:10.078Z"
   },
   {
    "duration": 72,
    "start_time": "2022-03-15T16:35:19.119Z"
   },
   {
    "duration": 728,
    "start_time": "2022-03-15T16:35:19.193Z"
   },
   {
    "duration": 5447,
    "start_time": "2022-03-15T16:35:19.923Z"
   },
   {
    "duration": 99,
    "start_time": "2022-03-15T16:35:25.372Z"
   },
   {
    "duration": 59813,
    "start_time": "2022-03-15T16:35:25.473Z"
   },
   {
    "duration": 8,
    "start_time": "2022-03-15T16:36:25.288Z"
   },
   {
    "duration": 2489620,
    "start_time": "2022-03-15T16:36:25.297Z"
   },
   {
    "duration": 9,
    "start_time": "2022-03-15T17:17:54.919Z"
   },
   {
    "duration": 13,
    "start_time": "2022-03-15T17:17:54.930Z"
   },
   {
    "duration": 7421,
    "start_time": "2022-03-15T17:17:54.944Z"
   },
   {
    "duration": 97,
    "start_time": "2022-03-15T17:18:02.367Z"
   },
   {
    "duration": 82921,
    "start_time": "2022-03-15T17:18:02.466Z"
   },
   {
    "duration": 9,
    "start_time": "2022-03-15T17:19:25.389Z"
   },
   {
    "duration": 3548895,
    "start_time": "2022-03-15T17:19:25.400Z"
   },
   {
    "duration": 10,
    "start_time": "2022-03-15T18:18:34.297Z"
   },
   {
    "duration": 13,
    "start_time": "2022-03-15T18:18:34.308Z"
   },
   {
    "duration": 335,
    "start_time": "2022-03-15T18:18:34.323Z"
   },
   {
    "duration": 12,
    "start_time": "2022-03-15T18:18:34.663Z"
   },
   {
    "duration": 36032,
    "start_time": "2022-03-15T18:18:34.677Z"
   },
   {
    "duration": 53,
    "start_time": "2022-03-15T18:19:10.711Z"
   },
   {
    "duration": 1462872,
    "start_time": "2022-03-15T18:19:10.766Z"
   },
   {
    "duration": 28,
    "start_time": "2022-03-15T18:43:33.640Z"
   },
   {
    "duration": 29,
    "start_time": "2022-03-15T18:43:33.670Z"
   },
   {
    "duration": 1073,
    "start_time": "2022-03-16T16:43:34.616Z"
   },
   {
    "duration": 29,
    "start_time": "2022-03-16T16:43:35.691Z"
   },
   {
    "duration": 20,
    "start_time": "2022-03-16T16:43:35.722Z"
   },
   {
    "duration": 4,
    "start_time": "2022-03-16T16:43:35.744Z"
   },
   {
    "duration": 10,
    "start_time": "2022-03-16T16:43:35.750Z"
   },
   {
    "duration": 16,
    "start_time": "2022-03-16T16:43:35.761Z"
   },
   {
    "duration": 6,
    "start_time": "2022-03-16T16:43:35.778Z"
   },
   {
    "duration": 4,
    "start_time": "2022-03-16T16:43:35.786Z"
   },
   {
    "duration": 7,
    "start_time": "2022-03-16T16:43:35.793Z"
   },
   {
    "duration": 5,
    "start_time": "2022-03-16T16:43:35.802Z"
   },
   {
    "duration": 31,
    "start_time": "2022-03-16T16:43:35.809Z"
   },
   {
    "duration": 7,
    "start_time": "2022-03-16T16:43:35.841Z"
   },
   {
    "duration": 11,
    "start_time": "2022-03-16T16:43:35.850Z"
   },
   {
    "duration": 4,
    "start_time": "2022-03-16T16:43:35.863Z"
   },
   {
    "duration": 20,
    "start_time": "2022-03-16T16:43:35.869Z"
   },
   {
    "duration": 10,
    "start_time": "2022-03-16T16:43:35.890Z"
   },
   {
    "duration": 41,
    "start_time": "2022-03-16T16:43:35.902Z"
   },
   {
    "duration": 4,
    "start_time": "2022-03-16T16:43:35.944Z"
   },
   {
    "duration": 15,
    "start_time": "2022-03-16T16:43:35.950Z"
   },
   {
    "duration": 4,
    "start_time": "2022-03-16T16:43:35.967Z"
   },
   {
    "duration": 9,
    "start_time": "2022-03-16T16:43:35.972Z"
   },
   {
    "duration": 11,
    "start_time": "2022-03-16T16:43:35.983Z"
   },
   {
    "duration": 22,
    "start_time": "2022-03-16T16:43:35.996Z"
   },
   {
    "duration": 25,
    "start_time": "2022-03-16T16:43:36.020Z"
   },
   {
    "duration": 19,
    "start_time": "2022-03-16T16:43:36.047Z"
   },
   {
    "duration": 11,
    "start_time": "2022-03-16T16:43:36.068Z"
   },
   {
    "duration": 7,
    "start_time": "2022-03-16T16:43:36.082Z"
   },
   {
    "duration": 243,
    "start_time": "2022-03-16T16:43:36.091Z"
   },
   {
    "duration": 103,
    "start_time": "2022-03-16T16:43:36.338Z"
   },
   {
    "duration": 7001,
    "start_time": "2022-03-16T16:43:36.442Z"
   },
   {
    "duration": 193,
    "start_time": "2022-03-16T16:43:43.446Z"
   },
   {
    "duration": 199,
    "start_time": "2022-03-16T16:43:43.643Z"
   },
   {
    "duration": 125,
    "start_time": "2022-03-16T16:43:43.845Z"
   },
   {
    "duration": 55581,
    "start_time": "2022-03-16T16:43:43.972Z"
   },
   {
    "duration": 9,
    "start_time": "2022-03-16T16:44:39.555Z"
   },
   {
    "duration": 26,
    "start_time": "2022-03-16T16:44:39.566Z"
   },
   {
    "duration": 104,
    "start_time": "2022-03-16T16:44:39.593Z"
   },
   {
    "duration": 2400436,
    "start_time": "2022-03-16T16:44:39.698Z"
   },
   {
    "duration": 65,
    "start_time": "2022-03-16T17:24:40.136Z"
   },
   {
    "duration": 730,
    "start_time": "2022-03-16T17:24:40.203Z"
   },
   {
    "duration": 6203,
    "start_time": "2022-03-16T17:24:40.935Z"
   },
   {
    "duration": 14,
    "start_time": "2022-03-16T17:24:47.140Z"
   },
   {
    "duration": 63387,
    "start_time": "2022-03-16T17:24:47.156Z"
   },
   {
    "duration": 9,
    "start_time": "2022-03-16T17:25:50.545Z"
   },
   {
    "duration": 3766070,
    "start_time": "2022-03-16T17:25:50.556Z"
   },
   {
    "duration": 15,
    "start_time": "2022-03-16T18:28:36.628Z"
   },
   {
    "duration": 14,
    "start_time": "2022-03-16T18:28:36.645Z"
   },
   {
    "duration": 7585,
    "start_time": "2022-03-16T18:28:36.660Z"
   },
   {
    "duration": 91,
    "start_time": "2022-03-16T18:28:44.247Z"
   },
   {
    "duration": 81963,
    "start_time": "2022-03-16T18:28:44.341Z"
   },
   {
    "duration": 10,
    "start_time": "2022-03-16T18:30:06.306Z"
   },
   {
    "duration": 3381827,
    "start_time": "2022-03-16T18:30:06.317Z"
   },
   {
    "duration": 16,
    "start_time": "2022-03-16T19:26:28.146Z"
   },
   {
    "duration": 15,
    "start_time": "2022-03-16T19:26:28.164Z"
   },
   {
    "duration": 354,
    "start_time": "2022-03-16T19:26:28.181Z"
   },
   {
    "duration": 203,
    "start_time": "2022-03-16T19:26:28.536Z"
   },
   {
    "duration": 37216,
    "start_time": "2022-03-16T19:26:28.740Z"
   },
   {
    "duration": 85,
    "start_time": "2022-03-16T19:27:05.958Z"
   },
   {
    "duration": 1397880,
    "start_time": "2022-03-16T19:27:06.045Z"
   },
   {
    "duration": 18,
    "start_time": "2022-03-16T19:50:23.927Z"
   },
   {
    "duration": 27,
    "start_time": "2022-03-16T19:50:23.947Z"
   },
   {
    "duration": 50,
    "start_time": "2022-03-17T06:26:35.222Z"
   },
   {
    "duration": 109,
    "start_time": "2022-03-17T06:27:14.813Z"
   },
   {
    "duration": 102,
    "start_time": "2022-03-17T06:27:18.377Z"
   },
   {
    "duration": 138,
    "start_time": "2022-03-17T06:27:39.116Z"
   },
   {
    "duration": 133,
    "start_time": "2022-03-17T06:27:53.793Z"
   },
   {
    "duration": 1118,
    "start_time": "2022-03-17T06:30:03.406Z"
   },
   {
    "duration": 26,
    "start_time": "2022-03-17T06:30:04.526Z"
   },
   {
    "duration": 22,
    "start_time": "2022-03-17T06:30:04.900Z"
   },
   {
    "duration": 5,
    "start_time": "2022-03-17T06:30:16.305Z"
   },
   {
    "duration": 4,
    "start_time": "2022-03-17T06:30:16.499Z"
   },
   {
    "duration": 5,
    "start_time": "2022-03-17T06:30:27.328Z"
   },
   {
    "duration": 10,
    "start_time": "2022-03-17T06:30:27.335Z"
   },
   {
    "duration": 19,
    "start_time": "2022-03-17T06:30:27.346Z"
   },
   {
    "duration": 5,
    "start_time": "2022-03-17T06:30:38.018Z"
   },
   {
    "duration": 4,
    "start_time": "2022-03-17T06:30:38.806Z"
   },
   {
    "duration": 13,
    "start_time": "2022-03-17T06:30:39.384Z"
   },
   {
    "duration": 8,
    "start_time": "2022-03-17T06:30:50.864Z"
   },
   {
    "duration": 4,
    "start_time": "2022-03-17T06:30:50.984Z"
   },
   {
    "duration": 7,
    "start_time": "2022-03-17T06:30:55.742Z"
   },
   {
    "duration": 8,
    "start_time": "2022-03-17T06:30:59.341Z"
   },
   {
    "duration": 7,
    "start_time": "2022-03-17T06:31:02.117Z"
   },
   {
    "duration": 6,
    "start_time": "2022-03-17T06:31:04.057Z"
   },
   {
    "duration": 13,
    "start_time": "2022-03-17T06:31:05.302Z"
   },
   {
    "duration": 12,
    "start_time": "2022-03-17T06:31:19.277Z"
   },
   {
    "duration": 37,
    "start_time": "2022-03-17T06:31:49.021Z"
   },
   {
    "duration": 4,
    "start_time": "2022-03-17T06:32:11.844Z"
   },
   {
    "duration": 10,
    "start_time": "2022-03-17T06:32:13.817Z"
   },
   {
    "duration": 2069,
    "start_time": "2022-03-17T06:32:31.392Z"
   },
   {
    "duration": 16,
    "start_time": "2022-03-17T06:33:00.513Z"
   },
   {
    "duration": 5,
    "start_time": "2022-03-17T06:33:06.700Z"
   },
   {
    "duration": 22,
    "start_time": "2022-03-17T06:33:07.666Z"
   },
   {
    "duration": 13,
    "start_time": "2022-03-17T06:33:08.270Z"
   },
   {
    "duration": 5,
    "start_time": "2022-03-17T06:33:19.816Z"
   },
   {
    "duration": 3,
    "start_time": "2022-03-17T06:33:19.940Z"
   },
   {
    "duration": 13,
    "start_time": "2022-03-17T06:33:20.960Z"
   },
   {
    "duration": 8,
    "start_time": "2022-03-17T06:33:32.424Z"
   },
   {
    "duration": 4,
    "start_time": "2022-03-17T06:33:32.542Z"
   },
   {
    "duration": 6,
    "start_time": "2022-03-17T06:33:32.656Z"
   },
   {
    "duration": 6,
    "start_time": "2022-03-17T06:33:32.722Z"
   },
   {
    "duration": 6,
    "start_time": "2022-03-17T06:33:36.292Z"
   },
   {
    "duration": 6,
    "start_time": "2022-03-17T06:33:36.729Z"
   },
   {
    "duration": 12,
    "start_time": "2022-03-17T06:33:37.320Z"
   },
   {
    "duration": 13,
    "start_time": "2022-03-17T06:33:38.351Z"
   },
   {
    "duration": 37,
    "start_time": "2022-03-17T06:33:39.995Z"
   },
   {
    "duration": 4,
    "start_time": "2022-03-17T06:46:20.007Z"
   },
   {
    "duration": 1975,
    "start_time": "2022-03-17T06:46:23.996Z"
   },
   {
    "duration": 8,
    "start_time": "2022-03-17T06:46:35.240Z"
   },
   {
    "duration": 20,
    "start_time": "2022-03-17T06:46:38.829Z"
   },
   {
    "duration": 5,
    "start_time": "2022-03-17T06:46:56.804Z"
   },
   {
    "duration": 10,
    "start_time": "2022-03-17T07:56:21.516Z"
   },
   {
    "duration": 11,
    "start_time": "2022-03-17T07:58:00.836Z"
   },
   {
    "duration": 5,
    "start_time": "2022-03-17T07:58:45.563Z"
   },
   {
    "duration": 8,
    "start_time": "2022-03-17T07:58:46.190Z"
   },
   {
    "duration": 2,
    "start_time": "2022-03-17T07:59:30.945Z"
   },
   {
    "duration": 9,
    "start_time": "2022-03-17T07:59:31.746Z"
   },
   {
    "duration": 25,
    "start_time": "2022-03-17T07:59:32.554Z"
   },
   {
    "duration": 12,
    "start_time": "2022-03-17T07:59:33.843Z"
   },
   {
    "duration": 10,
    "start_time": "2022-03-17T08:12:20.018Z"
   },
   {
    "duration": 16,
    "start_time": "2022-03-17T08:12:26.414Z"
   },
   {
    "duration": 12,
    "start_time": "2022-03-17T08:12:31.725Z"
   },
   {
    "duration": 43,
    "start_time": "2022-03-17T08:12:37.675Z"
   },
   {
    "duration": 6,
    "start_time": "2022-03-17T08:17:05.598Z"
   },
   {
    "duration": 9,
    "start_time": "2022-03-17T08:17:07.602Z"
   },
   {
    "duration": 4,
    "start_time": "2022-03-17T08:17:11.799Z"
   },
   {
    "duration": 18,
    "start_time": "2022-03-17T08:17:25.660Z"
   },
   {
    "duration": 15,
    "start_time": "2022-03-17T08:18:01.577Z"
   },
   {
    "duration": 8,
    "start_time": "2022-03-17T08:19:53.770Z"
   },
   {
    "duration": 7,
    "start_time": "2022-03-17T08:20:12.479Z"
   },
   {
    "duration": 4,
    "start_time": "2022-03-17T08:20:12.695Z"
   },
   {
    "duration": 13,
    "start_time": "2022-03-17T08:20:12.918Z"
   },
   {
    "duration": 4,
    "start_time": "2022-03-17T08:20:24.250Z"
   },
   {
    "duration": 5,
    "start_time": "2022-03-17T08:20:24.353Z"
   },
   {
    "duration": 130,
    "start_time": "2022-03-17T08:20:24.566Z"
   },
   {
    "duration": 14,
    "start_time": "2022-03-17T08:25:26.361Z"
   },
   {
    "duration": 52,
    "start_time": "2022-03-17T08:25:44.295Z"
   },
   {
    "duration": 13,
    "start_time": "2022-03-17T08:27:01.554Z"
   },
   {
    "duration": 103585,
    "start_time": "2022-03-17T08:27:02.411Z"
   },
   {
    "duration": 12,
    "start_time": "2022-03-17T08:28:45.999Z"
   },
   {
    "duration": 12,
    "start_time": "2022-03-17T08:31:43.031Z"
   },
   {
    "duration": 12,
    "start_time": "2022-03-17T08:32:51.713Z"
   },
   {
    "duration": 51,
    "start_time": "2022-03-17T08:33:04.636Z"
   },
   {
    "duration": 1336,
    "start_time": "2022-03-17T08:45:40.056Z"
   },
   {
    "duration": 25,
    "start_time": "2022-03-17T08:45:41.394Z"
   },
   {
    "duration": 26,
    "start_time": "2022-03-17T08:45:41.421Z"
   },
   {
    "duration": 4,
    "start_time": "2022-03-17T08:45:41.450Z"
   },
   {
    "duration": 8,
    "start_time": "2022-03-17T08:45:41.456Z"
   },
   {
    "duration": 21,
    "start_time": "2022-03-17T08:45:41.465Z"
   },
   {
    "duration": 11,
    "start_time": "2022-03-17T08:45:41.487Z"
   },
   {
    "duration": 4,
    "start_time": "2022-03-17T08:45:41.500Z"
   },
   {
    "duration": 8,
    "start_time": "2022-03-17T08:45:41.506Z"
   },
   {
    "duration": 9,
    "start_time": "2022-03-17T08:45:41.537Z"
   },
   {
    "duration": 9,
    "start_time": "2022-03-17T08:45:41.547Z"
   },
   {
    "duration": 9,
    "start_time": "2022-03-17T08:45:41.557Z"
   },
   {
    "duration": 13,
    "start_time": "2022-03-17T08:45:41.567Z"
   },
   {
    "duration": 12,
    "start_time": "2022-03-17T08:45:41.582Z"
   },
   {
    "duration": 87,
    "start_time": "2022-03-17T08:45:41.597Z"
   },
   {
    "duration": 5,
    "start_time": "2022-03-17T08:45:41.686Z"
   },
   {
    "duration": 12,
    "start_time": "2022-03-17T08:45:41.693Z"
   },
   {
    "duration": 5,
    "start_time": "2022-03-17T08:45:41.707Z"
   },
   {
    "duration": 43,
    "start_time": "2022-03-17T08:45:41.714Z"
   },
   {
    "duration": 9,
    "start_time": "2022-03-17T08:45:41.759Z"
   },
   {
    "duration": 11,
    "start_time": "2022-03-17T08:45:41.770Z"
   },
   {
    "duration": 4,
    "start_time": "2022-03-17T08:45:41.783Z"
   },
   {
    "duration": 8,
    "start_time": "2022-03-17T08:45:41.789Z"
   },
   {
    "duration": 17,
    "start_time": "2022-03-17T08:45:41.798Z"
   },
   {
    "duration": 52,
    "start_time": "2022-03-17T08:45:41.817Z"
   },
   {
    "duration": 14,
    "start_time": "2022-03-17T08:45:41.871Z"
   },
   {
    "duration": 12,
    "start_time": "2022-03-17T08:45:41.887Z"
   },
   {
    "duration": 39,
    "start_time": "2022-03-17T08:45:41.902Z"
   },
   {
    "duration": 16,
    "start_time": "2022-03-17T08:45:41.943Z"
   },
   {
    "duration": 421,
    "start_time": "2022-03-17T08:45:41.961Z"
   },
   {
    "duration": 262,
    "start_time": "2022-03-17T08:45:42.384Z"
   },
   {
    "duration": 7598,
    "start_time": "2022-03-17T08:45:42.648Z"
   },
   {
    "duration": 291,
    "start_time": "2022-03-17T08:45:50.248Z"
   },
   {
    "duration": 296,
    "start_time": "2022-03-17T08:45:50.542Z"
   },
   {
    "duration": 131,
    "start_time": "2022-03-17T08:45:50.846Z"
   },
   {
    "duration": 60699,
    "start_time": "2022-03-17T08:45:50.979Z"
   },
   {
    "duration": 10,
    "start_time": "2022-03-17T08:46:51.680Z"
   },
   {
    "duration": 29,
    "start_time": "2022-03-17T08:46:51.692Z"
   },
   {
    "duration": 704,
    "start_time": "2022-03-17T08:46:51.738Z"
   },
   {
    "duration": 2403967,
    "start_time": "2022-03-17T08:46:52.443Z"
   },
   {
    "duration": 34,
    "start_time": "2022-03-17T09:26:56.411Z"
   },
   {
    "duration": 768,
    "start_time": "2022-03-17T09:26:56.446Z"
   },
   {
    "duration": 6929,
    "start_time": "2022-03-17T09:26:57.216Z"
   },
   {
    "duration": 290,
    "start_time": "2022-03-17T09:27:04.149Z"
   },
   {
    "duration": 66643,
    "start_time": "2022-03-17T09:27:04.442Z"
   },
   {
    "duration": 13,
    "start_time": "2022-03-17T09:28:11.086Z"
   },
   {
    "duration": 2484395,
    "start_time": "2022-03-17T09:28:11.100Z"
   },
   {
    "duration": 11,
    "start_time": "2022-03-17T10:09:35.497Z"
   },
   {
    "duration": 24,
    "start_time": "2022-03-17T10:09:35.509Z"
   },
   {
    "duration": 7403,
    "start_time": "2022-03-17T10:09:35.537Z"
   },
   {
    "duration": 107,
    "start_time": "2022-03-17T10:09:42.943Z"
   },
   {
    "duration": 78429,
    "start_time": "2022-03-17T10:09:43.052Z"
   },
   {
    "duration": 13,
    "start_time": "2022-03-17T10:11:01.483Z"
   },
   {
    "duration": 3382695,
    "start_time": "2022-03-17T10:11:01.498Z"
   },
   {
    "duration": 11,
    "start_time": "2022-03-17T11:07:24.195Z"
   },
   {
    "duration": 12,
    "start_time": "2022-03-17T11:07:24.208Z"
   },
   {
    "duration": 4522,
    "start_time": "2022-03-17T11:07:24.222Z"
   },
   {
    "duration": 192,
    "start_time": "2022-03-17T11:07:28.747Z"
   },
   {
    "duration": 39614,
    "start_time": "2022-03-17T11:07:28.942Z"
   },
   {
    "duration": 180,
    "start_time": "2022-03-17T11:08:08.558Z"
   },
   {
    "duration": 1445029,
    "start_time": "2022-03-17T11:08:08.740Z"
   },
   {
    "duration": 11,
    "start_time": "2022-03-17T11:32:13.770Z"
   },
   {
    "duration": 30,
    "start_time": "2022-03-17T11:32:13.783Z"
   },
   {
    "duration": 28,
    "start_time": "2022-03-17T11:32:13.814Z"
   },
   {
    "duration": 5,
    "start_time": "2022-03-17T11:32:13.844Z"
   },
   {
    "duration": 16,
    "start_time": "2022-03-17T11:32:13.851Z"
   },
   {
    "duration": 3,
    "start_time": "2022-03-17T11:32:13.869Z"
   },
   {
    "duration": 9,
    "start_time": "2022-03-17T11:32:13.874Z"
   },
   {
    "duration": 15,
    "start_time": "2022-03-17T11:32:13.885Z"
   },
   {
    "duration": 101657,
    "start_time": "2022-03-17T11:32:13.902Z"
   },
   {
    "duration": 18,
    "start_time": "2022-03-17T11:33:55.561Z"
   },
   {
    "duration": 122,
    "start_time": "2022-03-17T11:33:55.581Z"
   },
   {
    "duration": 6,
    "start_time": "2022-03-17T11:35:15.423Z"
   },
   {
    "duration": 18,
    "start_time": "2022-03-17T11:35:54.999Z"
   },
   {
    "duration": 99692,
    "start_time": "2022-03-17T11:35:55.679Z"
   },
   {
    "duration": 13,
    "start_time": "2022-03-17T11:37:35.373Z"
   },
   {
    "duration": 14,
    "start_time": "2022-03-17T11:40:32.151Z"
   },
   {
    "duration": 16,
    "start_time": "2022-03-17T11:40:45.746Z"
   },
   {
    "duration": 99657,
    "start_time": "2022-03-17T11:40:45.939Z"
   },
   {
    "duration": 11,
    "start_time": "2022-03-17T11:42:25.598Z"
   },
   {
    "duration": 7828,
    "start_time": "2022-03-17T11:42:25.611Z"
   },
   {
    "duration": 111,
    "start_time": "2022-03-17T11:42:33.442Z"
   },
   {
    "duration": 1960,
    "start_time": "2022-03-17T13:34:18.827Z"
   },
   {
    "duration": 35,
    "start_time": "2022-03-17T13:34:20.790Z"
   },
   {
    "duration": 40,
    "start_time": "2022-03-17T13:34:20.827Z"
   },
   {
    "duration": 15,
    "start_time": "2022-03-17T13:34:20.870Z"
   },
   {
    "duration": 21,
    "start_time": "2022-03-17T13:34:20.887Z"
   },
   {
    "duration": 38,
    "start_time": "2022-03-17T13:34:20.910Z"
   },
   {
    "duration": 27,
    "start_time": "2022-03-17T13:34:20.950Z"
   },
   {
    "duration": 22,
    "start_time": "2022-03-17T13:34:20.979Z"
   },
   {
    "duration": 32,
    "start_time": "2022-03-17T13:34:21.003Z"
   },
   {
    "duration": 29,
    "start_time": "2022-03-17T13:34:21.039Z"
   },
   {
    "duration": 21,
    "start_time": "2022-03-17T13:34:21.071Z"
   },
   {
    "duration": 32,
    "start_time": "2022-03-17T13:34:21.095Z"
   },
   {
    "duration": 30,
    "start_time": "2022-03-17T13:34:21.129Z"
   },
   {
    "duration": 23,
    "start_time": "2022-03-17T13:34:21.161Z"
   },
   {
    "duration": 70,
    "start_time": "2022-03-17T13:34:21.186Z"
   },
   {
    "duration": 6,
    "start_time": "2022-03-17T13:34:21.258Z"
   },
   {
    "duration": 16,
    "start_time": "2022-03-17T13:34:21.274Z"
   },
   {
    "duration": 30,
    "start_time": "2022-03-17T13:34:21.292Z"
   },
   {
    "duration": 48,
    "start_time": "2022-03-17T13:34:21.324Z"
   },
   {
    "duration": 5,
    "start_time": "2022-03-17T13:34:21.375Z"
   },
   {
    "duration": 31,
    "start_time": "2022-03-17T13:34:21.382Z"
   },
   {
    "duration": 10,
    "start_time": "2022-03-17T13:34:21.415Z"
   },
   {
    "duration": 25,
    "start_time": "2022-03-17T13:34:21.427Z"
   },
   {
    "duration": 30,
    "start_time": "2022-03-17T13:34:21.454Z"
   },
   {
    "duration": 49,
    "start_time": "2022-03-17T13:34:21.486Z"
   },
   {
    "duration": 21,
    "start_time": "2022-03-17T13:34:21.537Z"
   },
   {
    "duration": 31,
    "start_time": "2022-03-17T13:34:21.560Z"
   },
   {
    "duration": 24,
    "start_time": "2022-03-17T13:34:21.598Z"
   },
   {
    "duration": 11,
    "start_time": "2022-03-17T13:34:21.624Z"
   },
   {
    "duration": 844,
    "start_time": "2022-03-17T13:34:21.637Z"
   },
   {
    "duration": 204,
    "start_time": "2022-03-17T13:34:22.484Z"
   },
   {
    "duration": 8593,
    "start_time": "2022-03-17T13:34:22.691Z"
   },
   {
    "duration": 208,
    "start_time": "2022-03-17T13:34:31.376Z"
   },
   {
    "duration": 209,
    "start_time": "2022-03-17T13:34:31.674Z"
   },
   {
    "duration": 210,
    "start_time": "2022-03-17T13:34:31.885Z"
   },
   {
    "duration": 98784,
    "start_time": "2022-03-17T13:34:32.097Z"
   },
   {
    "duration": 19,
    "start_time": "2022-03-17T13:36:10.883Z"
   },
   {
    "duration": 85,
    "start_time": "2022-03-17T13:36:10.904Z"
   },
   {
    "duration": 1197,
    "start_time": "2022-03-17T13:36:10.992Z"
   },
   {
    "duration": 4075597,
    "start_time": "2022-03-17T13:36:12.191Z"
   },
   {
    "duration": 38,
    "start_time": "2022-03-17T14:44:07.791Z"
   },
   {
    "duration": 1201,
    "start_time": "2022-03-17T14:44:07.831Z"
   },
   {
    "duration": 13449,
    "start_time": "2022-03-17T14:44:09.034Z"
   },
   {
    "duration": 300,
    "start_time": "2022-03-17T14:44:22.488Z"
   },
   {
    "duration": 116285,
    "start_time": "2022-03-17T14:44:22.876Z"
   },
   {
    "duration": 21,
    "start_time": "2022-03-17T14:46:19.163Z"
   },
   {
    "duration": 4016277,
    "start_time": "2022-03-17T14:46:19.187Z"
   },
   {
    "duration": 21,
    "start_time": "2022-03-17T15:53:15.466Z"
   },
   {
    "duration": 19,
    "start_time": "2022-03-17T15:53:15.490Z"
   },
   {
    "duration": 9667,
    "start_time": "2022-03-17T15:53:15.512Z"
   },
   {
    "duration": 205,
    "start_time": "2022-03-17T15:53:25.273Z"
   },
   {
    "duration": 125861,
    "start_time": "2022-03-17T15:53:25.481Z"
   },
   {
    "duration": 30,
    "start_time": "2022-03-17T15:55:31.344Z"
   },
   {
    "duration": 5584899,
    "start_time": "2022-03-17T15:55:31.376Z"
   },
   {
    "duration": 17,
    "start_time": "2022-03-17T17:28:36.277Z"
   },
   {
    "duration": 20,
    "start_time": "2022-03-17T17:28:36.296Z"
   },
   {
    "duration": 7364,
    "start_time": "2022-03-17T17:28:36.318Z"
   },
   {
    "duration": 206,
    "start_time": "2022-03-17T17:28:43.776Z"
   },
   {
    "duration": 63636,
    "start_time": "2022-03-17T17:28:44.075Z"
   },
   {
    "duration": 160,
    "start_time": "2022-03-17T17:29:47.713Z"
   },
   {
    "duration": 2349739,
    "start_time": "2022-03-17T17:29:47.877Z"
   },
   {
    "duration": 16,
    "start_time": "2022-03-17T18:08:57.619Z"
   },
   {
    "duration": 66,
    "start_time": "2022-03-17T18:08:57.637Z"
   },
   {
    "duration": 10,
    "start_time": "2022-03-17T18:08:57.706Z"
   },
   {
    "duration": 10,
    "start_time": "2022-03-17T18:08:57.718Z"
   },
   {
    "duration": 21,
    "start_time": "2022-03-17T18:08:57.730Z"
   },
   {
    "duration": 5,
    "start_time": "2022-03-17T18:08:57.775Z"
   },
   {
    "duration": 11,
    "start_time": "2022-03-17T18:08:57.783Z"
   },
   {
    "duration": 20,
    "start_time": "2022-03-17T18:08:57.797Z"
   },
   {
    "duration": 157372,
    "start_time": "2022-03-17T18:08:57.819Z"
   },
   {
    "duration": 18,
    "start_time": "2022-03-17T18:11:35.193Z"
   }
  ],
  "kernelspec": {
   "display_name": "Python 3 (ipykernel)",
   "language": "python",
   "name": "python3"
  },
  "language_info": {
   "codemirror_mode": {
    "name": "ipython",
    "version": 3
   },
   "file_extension": ".py",
   "mimetype": "text/x-python",
   "name": "python",
   "nbconvert_exporter": "python",
   "pygments_lexer": "ipython3",
   "version": "3.9.10"
  },
  "toc": {
   "base_numbering": 1,
   "nav_menu": {},
   "number_sections": true,
   "sideBar": true,
   "skip_h1_title": true,
   "title_cell": "Содержание",
   "title_sidebar": "Contents",
   "toc_cell": true,
   "toc_position": {
    "height": "calc(100% - 180px)",
    "left": "10px",
    "top": "150px",
    "width": "430.390625px"
   },
   "toc_section_display": true,
   "toc_window_display": true
  }
 },
 "nbformat": 4,
 "nbformat_minor": 2
}
